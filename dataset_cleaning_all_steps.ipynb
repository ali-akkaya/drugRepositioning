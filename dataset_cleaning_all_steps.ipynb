{
 "cells": [
  {
   "cell_type": "markdown",
   "source": [
    "Necessary imports"
   ],
   "metadata": {
    "collapsed": false,
    "pycharm": {
     "name": "#%% md\n"
    }
   }
  },
  {
   "cell_type": "code",
   "execution_count": 1,
   "outputs": [],
   "source": [
    "import pandas as pd\n",
    "import openpyxl"
   ],
   "metadata": {
    "collapsed": false,
    "pycharm": {
     "name": "#%%\n"
    }
   }
  },
  {
   "cell_type": "markdown",
   "source": [
    "Add both test and train sets from drugs.com. Then, create a file that exist all the samples."
   ],
   "metadata": {
    "collapsed": false,
    "pycharm": {
     "name": "#%% md\n"
    }
   }
  },
  {
   "cell_type": "code",
   "execution_count": 11,
   "metadata": {
    "collapsed": true,
    "pycharm": {
     "name": "#%%\n"
    }
   },
   "outputs": [
    {
     "name": "stdout",
     "output_type": "stream",
     "text": [
      "Test Set Shape: (53766, 7), Unique Conditions Count: 709\n",
      "train Set Shape: (161297, 7), Unique Conditions Count: 885\n",
      "Missing Values For Test: condition    295\n",
      "dtype: int64\n",
      "Missing Values For Test: condition    899\n",
      "dtype: int64\n"
     ]
    }
   ],
   "source": [
    "drugsComTest = pd.read_csv (\"drugsCom_raw/drugsComTest_raw.tsv\",sep=\"\\t\")\n",
    "drugsComTrain = pd.read_csv (\"drugsCom_raw/drugsComTrain_raw.tsv\",sep=\"\\t\")\n",
    "\n",
    "print(f\"Test Set Shape: {drugsComTest.shape}, Unique Conditions Count: {drugsComTest['condition'].unique().size}\")\n",
    "print(f\"Train Set Shape: {drugsComTrain.shape}, Unique Conditions Count: {drugsComTrain['condition'].unique().size}\")\n",
    "\n",
    "missing_val_count_by_column_test = (drugsComTest.isnull().sum())\n",
    "print(f\"Missing Values For Test: {missing_val_count_by_column_test[missing_val_count_by_column_test > 0]}\")\n",
    "\n",
    "missing_val_count_by_column_train = (drugsComTrain.isnull().sum())\n",
    "print(f\"Missing Values For Test: {missing_val_count_by_column_train[missing_val_count_by_column_train > 0]}\")\n"
   ]
  },
  {
   "cell_type": "code",
   "execution_count": 12,
   "outputs": [
    {
     "name": "stderr",
     "output_type": "stream",
     "text": [
      "/var/folders/n1/z4n1dv014gq2l7525zb6vs440000gn/T/ipykernel_34970/159037640.py:1: FutureWarning: The frame.append method is deprecated and will be removed from pandas in a future version. Use pandas.concat instead.\n",
      "  drugsComAll = drugsComTrain.append(drugsComTest)\n"
     ]
    }
   ],
   "source": [
    "drugsComAll = drugsComTrain.append(drugsComTest)\n",
    "drugsComAll.sort_values(by = \"Unnamed: 0\", inplace= True)\n",
    "drugsComAll.to_csv(f'outputs/drugsComAll_raw.csv', index=False)"
   ],
   "metadata": {
    "collapsed": false,
    "pycharm": {
     "name": "#%%\n"
    }
   }
  },
  {
   "cell_type": "code",
   "execution_count": 14,
   "outputs": [
    {
     "name": "stdout",
     "output_type": "stream",
     "text": [
      "Data Set Shape: (215063, 7), Unique Conditions Count: 917\n",
      "Missing Values For All: condition    1194\n",
      "dtype: int64\n"
     ]
    }
   ],
   "source": [
    "drugsComAll = pd.read_csv(\"outputs/drugsComAll_raw.csv\")\n",
    "print(f\"Data Set Shape: {drugsComAll.shape}, Unique Conditions Count: {drugsComAll['condition'].unique().size}\")\n",
    "\n",
    "missing_val_count_by_column_all = (drugsComAll.isnull().sum())\n",
    "print(f\"Missing Values For All: {missing_val_count_by_column_all[missing_val_count_by_column_all > 0]}\")"
   ],
   "metadata": {
    "collapsed": false,
    "pycharm": {
     "name": "#%%\n"
    }
   }
  },
  {
   "cell_type": "markdown",
   "source": [
    "Based on drugsComAll_raw, remove all the nan values and then remove all the spans."
   ],
   "metadata": {
    "collapsed": false,
    "pycharm": {
     "name": "#%% md\n"
    }
   }
  },
  {
   "cell_type": "code",
   "execution_count": 15,
   "outputs": [],
   "source": [
    "drugsComAll.dropna(inplace=True)"
   ],
   "metadata": {
    "collapsed": false,
    "pycharm": {
     "name": "#%%\n"
    }
   }
  },
  {
   "cell_type": "code",
   "execution_count": 19,
   "outputs": [],
   "source": [
    "filter = drugsComAll['condition'].str.contains(\"span\")"
   ],
   "metadata": {
    "collapsed": false,
    "pycharm": {
     "name": "#%%\n"
    }
   }
  },
  {
   "cell_type": "code",
   "execution_count": 24,
   "outputs": [
    {
     "name": "stdout",
     "output_type": "stream",
     "text": [
      "Data Set Filtered Shape: (212698, 7), Unique Conditions Count: 836\n"
     ]
    }
   ],
   "source": [
    "drugsComAll_filtered = drugsComAll[~filter]\n",
    "print(f\"Data Set Filtered Shape: {drugsComAll_filtered.shape}, Unique Conditions Count: {drugsComAll_filtered['condition'].unique().size}\")"
   ],
   "metadata": {
    "collapsed": false,
    "pycharm": {
     "name": "#%%\n"
    }
   }
  },
  {
   "cell_type": "code",
   "execution_count": 26,
   "outputs": [],
   "source": [
    "drugsComAll_filtered.to_csv(f'outputs/drugsComAll_filtered.csv', index=False)"
   ],
   "metadata": {
    "collapsed": false,
    "pycharm": {
     "name": "#%%\n"
    }
   }
  },
  {
   "cell_type": "markdown",
   "source": [
    "Get the unique condition list for filtered dataset. Then create list for specific conditions."
   ],
   "metadata": {
    "collapsed": false,
    "pycharm": {
     "name": "#%% md\n"
    }
   }
  },
  {
   "cell_type": "code",
   "execution_count": 34,
   "outputs": [],
   "source": [
    "uniqueNpArray = drugsComAll_filtered[\"condition\"].unique()\n",
    "uniqueConditions = pd.DataFrame(uniqueNpArray, columns=[\"condition\"])\n",
    "uniqueConditions.to_excel(f\"outputs/unique_conditions.xlsx\")"
   ],
   "metadata": {
    "collapsed": false,
    "pycharm": {
     "name": "#%%\n"
    }
   }
  },
  {
   "cell_type": "code",
   "execution_count": null,
   "outputs": [],
   "source": [
    "conditions = [\n",
    "\"ADHD\",\n",
    "\"Depression\",\n",
    "\"Bipolar Disorde\",\n",
    "\"Schizoaffective Disorde\",\n",
    "\"Major Depressive Disorde\",\n",
    "\"Schizophrenia\",\n",
    "\"Post Traumatic Stress Disorde\",\n",
    "\"Generalized Anxiety Disorde\",\n",
    "\"Obsessive Compulsive Disorde\",\n",
    "\"Psychosis\",\n",
    "\"Panic Disorde\",\n",
    "\"Anxiety\",\n",
    "\"Social Anxiety Disorde\",\n",
    "\"Anorexia\",\n",
    "\"Autism\",\n",
    "\"Borderline Personality Disorde\",\n",
    "\"Binge Eating Disorde\",\n",
    "\"Anxiety and Stress\",\n",
    "\"Postpartum Depression\",\n",
    "\"Persistent Depressive Disorde\",\n",
    "\"Anorexia/Feeding Problems\",\n",
    "\"mance Anxiety\",\n",
    "\"Performance Anxiety\",\n",
    "\"Neurotic Depression\"\n",
    "]"
   ],
   "metadata": {
    "collapsed": false,
    "pycharm": {
     "name": "#%%\n"
    }
   }
  },
  {
   "cell_type": "code",
   "execution_count": 39,
   "outputs": [],
   "source": [
    "frequencyList = drugsComAll_filtered[\"condition\"].value_counts()\n",
    "frequencyList.to_excel(\"outputs/frequency_list.xlsx\")"
   ],
   "metadata": {
    "collapsed": false,
    "pycharm": {
     "name": "#%%\n"
    }
   }
  }
 ],
 "metadata": {
  "kernelspec": {
   "display_name": "Python 3",
   "language": "python",
   "name": "python3"
  },
  "language_info": {
   "codemirror_mode": {
    "name": "ipython",
    "version": 2
   },
   "file_extension": ".py",
   "mimetype": "text/x-python",
   "name": "python",
   "nbconvert_exporter": "python",
   "pygments_lexer": "ipython2",
   "version": "2.7.6"
  }
 },
 "nbformat": 4,
 "nbformat_minor": 0
}