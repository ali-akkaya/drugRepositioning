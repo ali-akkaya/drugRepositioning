{
 "cells": [
  {
   "cell_type": "code",
   "execution_count": 1,
   "metadata": {
    "collapsed": true,
    "pycharm": {
     "name": "#%%\n"
    }
   },
   "outputs": [],
   "source": [
    "import pandas as pd"
   ]
  },
  {
   "cell_type": "code",
   "execution_count": 2,
   "outputs": [],
   "source": [
    "toSearchData = pd.read_csv('seperated-condition-drugs-rating-cui.csv')"
   ],
   "metadata": {
    "collapsed": false,
    "pycharm": {
     "name": "#%%\n"
    }
   }
  },
  {
   "cell_type": "code",
   "execution_count": 3,
   "outputs": [
    {
     "data": {
      "text/plain": "48"
     },
     "execution_count": 3,
     "metadata": {},
     "output_type": "execute_result"
    }
   ],
   "source": [
    "sum(pd.isna(toSearchData['cui']))"
   ],
   "metadata": {
    "collapsed": false,
    "pycharm": {
     "name": "#%%\n"
    }
   }
  },
  {
   "cell_type": "code",
   "execution_count": 6,
   "outputs": [
    {
     "name": "stdout",
     "output_type": "stream",
     "text": [
      "(2388, 5)\n"
     ]
    }
   ],
   "source": [
    "print(toSearchData.shape)"
   ],
   "metadata": {
    "collapsed": false,
    "pycharm": {
     "name": "#%%\n"
    }
   }
  },
  {
   "cell_type": "code",
   "execution_count": 7,
   "outputs": [],
   "source": [
    "toSearchData = toSearchData.dropna(subset=['cui'])"
   ],
   "metadata": {
    "collapsed": false,
    "pycharm": {
     "name": "#%%\n"
    }
   }
  },
  {
   "cell_type": "code",
   "execution_count": 8,
   "outputs": [
    {
     "name": "stdout",
     "output_type": "stream",
     "text": [
      "(2340, 5)\n"
     ]
    }
   ],
   "source": [
    "print(toSearchData.shape)"
   ],
   "metadata": {
    "collapsed": false,
    "pycharm": {
     "name": "#%%\n"
    }
   }
  },
  {
   "cell_type": "code",
   "execution_count": 9,
   "outputs": [],
   "source": [
    "toSearchData.to_csv('seperated-condition-drugs-rating-cui-na-dropped.csv', index=False)"
   ],
   "metadata": {
    "collapsed": false,
    "pycharm": {
     "name": "#%%\n"
    }
   }
  },
  {
   "cell_type": "code",
   "execution_count": 11,
   "outputs": [],
   "source": [
    "columnNamesData = toSearchData[['condition', 'drugName','cui']]"
   ],
   "metadata": {
    "collapsed": false,
    "pycharm": {
     "name": "#%%\n"
    }
   }
  },
  {
   "cell_type": "code",
   "execution_count": 13,
   "outputs": [
    {
     "name": "stdout",
     "output_type": "stream",
     "text": [
      "condition    0\n",
      "drugName     0\n",
      "cui          0\n",
      "dtype: int64\n",
      "condition    0\n",
      "drugName     0\n",
      "cui          0\n",
      "dtype: int64\n",
      "condition    0\n",
      "drugName     0\n",
      "cui          0\n",
      "dtype: int64\n"
     ]
    }
   ],
   "source": [
    "foud_1 = columnNamesData[columnNamesData['condition'].str.contains('_')]\n",
    "found_2 = columnNamesData[columnNamesData['drugName'].str.contains('_')]\n",
    "found_3 = columnNamesData[columnNamesData['cui'].str.contains('_')]\n",
    "print(foud_1.count())\n",
    "print(found_2.count())\n",
    "print(found_3.count())\n"
   ],
   "metadata": {
    "collapsed": false,
    "pycharm": {
     "name": "#%%\n"
    }
   }
  },
  {
   "cell_type": "code",
   "execution_count": 14,
   "outputs": [
    {
     "name": "stderr",
     "output_type": "stream",
     "text": [
      "/var/folders/n1/z4n1dv014gq2l7525zb6vs440000gn/T/ipykernel_10165/839352154.py:1: SettingWithCopyWarning: \n",
      "A value is trying to be set on a copy of a slice from a DataFrame.\n",
      "Try using .loc[row_indexer,col_indexer] = value instead\n",
      "\n",
      "See the caveats in the documentation: https://pandas.pydata.org/pandas-docs/stable/user_guide/indexing.html#returning-a-view-versus-a-copy\n",
      "  columnNamesData['unique'] = columnNamesData['condition'] + '_' + columnNamesData['drugName'] + '_' + columnNamesData['cui']\n"
     ]
    }
   ],
   "source": [
    "columnNamesData['unique'] = columnNamesData['condition'] + '_' + columnNamesData['drugName'] + '_' + columnNamesData['cui']"
   ],
   "metadata": {
    "collapsed": false,
    "pycharm": {
     "name": "#%%\n"
    }
   }
  },
  {
   "cell_type": "code",
   "execution_count": 15,
   "outputs": [
    {
     "data": {
      "text/plain": "(2340, 4)"
     },
     "execution_count": 15,
     "metadata": {},
     "output_type": "execute_result"
    }
   ],
   "source": [
    "columnNamesData.shape"
   ],
   "metadata": {
    "collapsed": false,
    "pycharm": {
     "name": "#%%\n"
    }
   }
  },
  {
   "cell_type": "code",
   "execution_count": 16,
   "outputs": [
    {
     "data": {
      "text/plain": "2340"
     },
     "execution_count": 16,
     "metadata": {},
     "output_type": "execute_result"
    }
   ],
   "source": [
    "columnNamesData['unique'].nunique()"
   ],
   "metadata": {
    "collapsed": false,
    "pycharm": {
     "name": "#%%\n"
    }
   }
  },
  {
   "cell_type": "code",
   "execution_count": 27,
   "outputs": [
    {
     "name": "stdout",
     "output_type": "stream",
     "text": [
      "0    [ADHD, Lisdexamfetamine, C1873633]\n",
      "1    [ADHD, Lisdexamfetamine, C1739826]\n",
      "2    [ADHD, Lisdexamfetamine, C5191482]\n",
      "3             [ADHD, Vyvanse, C1876807]\n",
      "4             [ADHD, Vyvanse, C3241344]\n",
      "Name: unique, dtype: object\n"
     ]
    }
   ],
   "source": [
    "print(columnNamesData.head()['unique'].str.split('_'))"
   ],
   "metadata": {
    "collapsed": false,
    "pycharm": {
     "name": "#%%\n"
    }
   }
  },
  {
   "cell_type": "code",
   "execution_count": 28,
   "outputs": [],
   "source": [
    "def controlUnique(row):\n",
    "    return row['unique'].split('_')[2] == row['cui']"
   ],
   "metadata": {
    "collapsed": false,
    "pycharm": {
     "name": "#%%\n"
    }
   }
  },
  {
   "cell_type": "code",
   "execution_count": 29,
   "outputs": [],
   "source": [
    "columnNamesData['control'] = columnNamesData.apply(lambda row: controlUnique(row), axis=1)"
   ],
   "metadata": {
    "collapsed": false,
    "pycharm": {
     "name": "#%%\n"
    }
   }
  },
  {
   "cell_type": "code",
   "execution_count": 71,
   "outputs": [],
   "source": [
    "searchMatrix = pd.DataFrame(index = columnNamesData['unique'].values, columns = columnNamesData['unique'].values)"
   ],
   "metadata": {
    "collapsed": false,
    "pycharm": {
     "name": "#%%\n"
    }
   }
  },
  {
   "cell_type": "code",
   "execution_count": 72,
   "outputs": [
    {
     "data": {
      "text/plain": "(2340, 2340)"
     },
     "execution_count": 72,
     "metadata": {},
     "output_type": "execute_result"
    }
   ],
   "source": [
    "len(searchMatrix.keys())\n",
    "searchMatrix.shape"
   ],
   "metadata": {
    "collapsed": false,
    "pycharm": {
     "name": "#%%\n"
    }
   }
  },
  {
   "cell_type": "code",
   "execution_count": 73,
   "outputs": [
    {
     "name": "stdout",
     "output_type": "stream",
     "text": [
      "ADHD_Lisdexamfetamine_C1873633 ADHD_Lisdexamfetamine_C1873633\n"
     ]
    }
   ],
   "source": [
    "print(searchMatrix.index[0], searchMatrix.columns[0])"
   ],
   "metadata": {
    "collapsed": false,
    "pycharm": {
     "name": "#%%\n"
    }
   }
  },
  {
   "cell_type": "code",
   "execution_count": 74,
   "outputs": [
    {
     "data": {
      "text/plain": "                               ADHD_Lisdexamfetamine_C1873633  \\\nADHD_Lisdexamfetamine_C1873633                            NaN   \nADHD_Lisdexamfetamine_C1739826                            NaN   \nADHD_Lisdexamfetamine_C5191482                            NaN   \nADHD_Vyvanse_C1876807                                     NaN   \nADHD_Vyvanse_C3241344                                     NaN   \n\n                               ADHD_Lisdexamfetamine_C1739826  \\\nADHD_Lisdexamfetamine_C1873633                            NaN   \nADHD_Lisdexamfetamine_C1739826                            NaN   \nADHD_Lisdexamfetamine_C5191482                            NaN   \nADHD_Vyvanse_C1876807                                     NaN   \nADHD_Vyvanse_C3241344                                     NaN   \n\n                               ADHD_Lisdexamfetamine_C5191482  \\\nADHD_Lisdexamfetamine_C1873633                            NaN   \nADHD_Lisdexamfetamine_C1739826                            NaN   \nADHD_Lisdexamfetamine_C5191482                            NaN   \nADHD_Vyvanse_C1876807                                     NaN   \nADHD_Vyvanse_C3241344                                     NaN   \n\n                               ADHD_Vyvanse_C1876807 ADHD_Vyvanse_C3241344  \\\nADHD_Lisdexamfetamine_C1873633                   NaN                   NaN   \nADHD_Lisdexamfetamine_C1739826                   NaN                   NaN   \nADHD_Lisdexamfetamine_C5191482                   NaN                   NaN   \nADHD_Vyvanse_C1876807                            NaN                   NaN   \nADHD_Vyvanse_C3241344                            NaN                   NaN   \n\n                               ADHD_Vyvanse_C3859815  \\\nADHD_Lisdexamfetamine_C1873633                   NaN   \nADHD_Lisdexamfetamine_C1739826                   NaN   \nADHD_Lisdexamfetamine_C5191482                   NaN   \nADHD_Vyvanse_C1876807                            NaN   \nADHD_Vyvanse_C3241344                            NaN   \n\n                               ADHD_Methylphenidate_C0025810  \\\nADHD_Lisdexamfetamine_C1873633                           NaN   \nADHD_Lisdexamfetamine_C1739826                           NaN   \nADHD_Lisdexamfetamine_C5191482                           NaN   \nADHD_Vyvanse_C1876807                                    NaN   \nADHD_Vyvanse_C3241344                                    NaN   \n\n                               ADHD_Methylphenidate_C0524188  \\\nADHD_Lisdexamfetamine_C1873633                           NaN   \nADHD_Lisdexamfetamine_C1739826                           NaN   \nADHD_Lisdexamfetamine_C5191482                           NaN   \nADHD_Vyvanse_C1876807                                    NaN   \nADHD_Vyvanse_C3241344                                    NaN   \n\n                               ADHD_Methylphenidate_C0700545  \\\nADHD_Lisdexamfetamine_C1873633                           NaN   \nADHD_Lisdexamfetamine_C1739826                           NaN   \nADHD_Lisdexamfetamine_C5191482                           NaN   \nADHD_Vyvanse_C1876807                                    NaN   \nADHD_Vyvanse_C3241344                                    NaN   \n\n                               ADHD_Amphetamine / dextroamphetamine_C0795571  \\\nADHD_Lisdexamfetamine_C1873633                                           NaN   \nADHD_Lisdexamfetamine_C1739826                                           NaN   \nADHD_Lisdexamfetamine_C5191482                                           NaN   \nADHD_Vyvanse_C1876807                                                    NaN   \nADHD_Vyvanse_C3241344                                                    NaN   \n\n                                ... Tourette's Syndrome_Topiramate_C0693586  \\\nADHD_Lisdexamfetamine_C1873633  ...                                     NaN   \nADHD_Lisdexamfetamine_C1739826  ...                                     NaN   \nADHD_Lisdexamfetamine_C5191482  ...                                     NaN   \nADHD_Vyvanse_C1876807           ...                                     NaN   \nADHD_Vyvanse_C3241344           ...                                     NaN   \n\n                               Tourette's Syndrome_Olanzapine_C0171023  \\\nADHD_Lisdexamfetamine_C1873633                                     NaN   \nADHD_Lisdexamfetamine_C1739826                                     NaN   \nADHD_Lisdexamfetamine_C5191482                                     NaN   \nADHD_Vyvanse_C1876807                                              NaN   \nADHD_Vyvanse_C3241344                                              NaN   \n\n                               Tourette's Syndrome_Olanzapine_C2698647  \\\nADHD_Lisdexamfetamine_C1873633                                     NaN   \nADHD_Lisdexamfetamine_C1739826                                     NaN   \nADHD_Lisdexamfetamine_C5191482                                     NaN   \nADHD_Vyvanse_C1876807                                              NaN   \nADHD_Vyvanse_C3241344                                              NaN   \n\n                               Tourette's Syndrome_Olanzapine_C1266674  \\\nADHD_Lisdexamfetamine_C1873633                                     NaN   \nADHD_Lisdexamfetamine_C1739826                                     NaN   \nADHD_Lisdexamfetamine_C5191482                                     NaN   \nADHD_Vyvanse_C1876807                                              NaN   \nADHD_Vyvanse_C3241344                                              NaN   \n\n                               Tourette's Syndrome_Catapres_C0699881  \\\nADHD_Lisdexamfetamine_C1873633                                   NaN   \nADHD_Lisdexamfetamine_C1739826                                   NaN   \nADHD_Lisdexamfetamine_C5191482                                   NaN   \nADHD_Vyvanse_C1876807                                            NaN   \nADHD_Vyvanse_C3241344                                            NaN   \n\n                               Tourette's Syndrome_Catapres_C3230342  \\\nADHD_Lisdexamfetamine_C1873633                                   NaN   \nADHD_Lisdexamfetamine_C1739826                                   NaN   \nADHD_Lisdexamfetamine_C5191482                                   NaN   \nADHD_Vyvanse_C1876807                                            NaN   \nADHD_Vyvanse_C3241344                                            NaN   \n\n                               Tourette's Syndrome_Catapres_C0305564  \\\nADHD_Lisdexamfetamine_C1873633                                   NaN   \nADHD_Lisdexamfetamine_C1739826                                   NaN   \nADHD_Lisdexamfetamine_C5191482                                   NaN   \nADHD_Vyvanse_C1876807                                            NaN   \nADHD_Vyvanse_C3241344                                            NaN   \n\n                               Tourette's Syndrome_Haldol_C0591585  \\\nADHD_Lisdexamfetamine_C1873633                                 NaN   \nADHD_Lisdexamfetamine_C1739826                                 NaN   \nADHD_Lisdexamfetamine_C5191482                                 NaN   \nADHD_Vyvanse_C1876807                                          NaN   \nADHD_Vyvanse_C3241344                                          NaN   \n\n                               Tourette's Syndrome_Haldol_C0591586  \\\nADHD_Lisdexamfetamine_C1873633                                 NaN   \nADHD_Lisdexamfetamine_C1739826                                 NaN   \nADHD_Lisdexamfetamine_C5191482                                 NaN   \nADHD_Vyvanse_C1876807                                          NaN   \nADHD_Vyvanse_C3241344                                          NaN   \n\n                               Tourette's Syndrome_Haldol_C0306331  \nADHD_Lisdexamfetamine_C1873633                                 NaN  \nADHD_Lisdexamfetamine_C1739826                                 NaN  \nADHD_Lisdexamfetamine_C5191482                                 NaN  \nADHD_Vyvanse_C1876807                                          NaN  \nADHD_Vyvanse_C3241344                                          NaN  \n\n[5 rows x 2340 columns]",
      "text/html": "<div>\n<style scoped>\n    .dataframe tbody tr th:only-of-type {\n        vertical-align: middle;\n    }\n\n    .dataframe tbody tr th {\n        vertical-align: top;\n    }\n\n    .dataframe thead th {\n        text-align: right;\n    }\n</style>\n<table border=\"1\" class=\"dataframe\">\n  <thead>\n    <tr style=\"text-align: right;\">\n      <th></th>\n      <th>ADHD_Lisdexamfetamine_C1873633</th>\n      <th>ADHD_Lisdexamfetamine_C1739826</th>\n      <th>ADHD_Lisdexamfetamine_C5191482</th>\n      <th>ADHD_Vyvanse_C1876807</th>\n      <th>ADHD_Vyvanse_C3241344</th>\n      <th>ADHD_Vyvanse_C3859815</th>\n      <th>ADHD_Methylphenidate_C0025810</th>\n      <th>ADHD_Methylphenidate_C0524188</th>\n      <th>ADHD_Methylphenidate_C0700545</th>\n      <th>ADHD_Amphetamine / dextroamphetamine_C0795571</th>\n      <th>...</th>\n      <th>Tourette's Syndrome_Topiramate_C0693586</th>\n      <th>Tourette's Syndrome_Olanzapine_C0171023</th>\n      <th>Tourette's Syndrome_Olanzapine_C2698647</th>\n      <th>Tourette's Syndrome_Olanzapine_C1266674</th>\n      <th>Tourette's Syndrome_Catapres_C0699881</th>\n      <th>Tourette's Syndrome_Catapres_C3230342</th>\n      <th>Tourette's Syndrome_Catapres_C0305564</th>\n      <th>Tourette's Syndrome_Haldol_C0591585</th>\n      <th>Tourette's Syndrome_Haldol_C0591586</th>\n      <th>Tourette's Syndrome_Haldol_C0306331</th>\n    </tr>\n  </thead>\n  <tbody>\n    <tr>\n      <th>ADHD_Lisdexamfetamine_C1873633</th>\n      <td>NaN</td>\n      <td>NaN</td>\n      <td>NaN</td>\n      <td>NaN</td>\n      <td>NaN</td>\n      <td>NaN</td>\n      <td>NaN</td>\n      <td>NaN</td>\n      <td>NaN</td>\n      <td>NaN</td>\n      <td>...</td>\n      <td>NaN</td>\n      <td>NaN</td>\n      <td>NaN</td>\n      <td>NaN</td>\n      <td>NaN</td>\n      <td>NaN</td>\n      <td>NaN</td>\n      <td>NaN</td>\n      <td>NaN</td>\n      <td>NaN</td>\n    </tr>\n    <tr>\n      <th>ADHD_Lisdexamfetamine_C1739826</th>\n      <td>NaN</td>\n      <td>NaN</td>\n      <td>NaN</td>\n      <td>NaN</td>\n      <td>NaN</td>\n      <td>NaN</td>\n      <td>NaN</td>\n      <td>NaN</td>\n      <td>NaN</td>\n      <td>NaN</td>\n      <td>...</td>\n      <td>NaN</td>\n      <td>NaN</td>\n      <td>NaN</td>\n      <td>NaN</td>\n      <td>NaN</td>\n      <td>NaN</td>\n      <td>NaN</td>\n      <td>NaN</td>\n      <td>NaN</td>\n      <td>NaN</td>\n    </tr>\n    <tr>\n      <th>ADHD_Lisdexamfetamine_C5191482</th>\n      <td>NaN</td>\n      <td>NaN</td>\n      <td>NaN</td>\n      <td>NaN</td>\n      <td>NaN</td>\n      <td>NaN</td>\n      <td>NaN</td>\n      <td>NaN</td>\n      <td>NaN</td>\n      <td>NaN</td>\n      <td>...</td>\n      <td>NaN</td>\n      <td>NaN</td>\n      <td>NaN</td>\n      <td>NaN</td>\n      <td>NaN</td>\n      <td>NaN</td>\n      <td>NaN</td>\n      <td>NaN</td>\n      <td>NaN</td>\n      <td>NaN</td>\n    </tr>\n    <tr>\n      <th>ADHD_Vyvanse_C1876807</th>\n      <td>NaN</td>\n      <td>NaN</td>\n      <td>NaN</td>\n      <td>NaN</td>\n      <td>NaN</td>\n      <td>NaN</td>\n      <td>NaN</td>\n      <td>NaN</td>\n      <td>NaN</td>\n      <td>NaN</td>\n      <td>...</td>\n      <td>NaN</td>\n      <td>NaN</td>\n      <td>NaN</td>\n      <td>NaN</td>\n      <td>NaN</td>\n      <td>NaN</td>\n      <td>NaN</td>\n      <td>NaN</td>\n      <td>NaN</td>\n      <td>NaN</td>\n    </tr>\n    <tr>\n      <th>ADHD_Vyvanse_C3241344</th>\n      <td>NaN</td>\n      <td>NaN</td>\n      <td>NaN</td>\n      <td>NaN</td>\n      <td>NaN</td>\n      <td>NaN</td>\n      <td>NaN</td>\n      <td>NaN</td>\n      <td>NaN</td>\n      <td>NaN</td>\n      <td>...</td>\n      <td>NaN</td>\n      <td>NaN</td>\n      <td>NaN</td>\n      <td>NaN</td>\n      <td>NaN</td>\n      <td>NaN</td>\n      <td>NaN</td>\n      <td>NaN</td>\n      <td>NaN</td>\n      <td>NaN</td>\n    </tr>\n  </tbody>\n</table>\n<p>5 rows × 2340 columns</p>\n</div>"
     },
     "execution_count": 74,
     "metadata": {},
     "output_type": "execute_result"
    }
   ],
   "source": [
    "searchMatrix.head()"
   ],
   "metadata": {
    "collapsed": false,
    "pycharm": {
     "name": "#%%\n"
    }
   }
  },
  {
   "cell_type": "code",
   "execution_count": 70,
   "outputs": [
    {
     "data": {
      "text/plain": "unique                         ADHD_Lisdexamfetamine_C1873633  \\\nunique                                                          \nADHD_Lisdexamfetamine_C1873633                            NaN   \nADHD_Lisdexamfetamine_C1739826                            NaN   \nADHD_Lisdexamfetamine_C5191482                            NaN   \nADHD_Vyvanse_C1876807                                     NaN   \nADHD_Vyvanse_C3241344                                     NaN   \n\nunique                         ADHD_Lisdexamfetamine_C1739826  \\\nunique                                                          \nADHD_Lisdexamfetamine_C1873633                            NaN   \nADHD_Lisdexamfetamine_C1739826                            NaN   \nADHD_Lisdexamfetamine_C5191482                            NaN   \nADHD_Vyvanse_C1876807                                     NaN   \nADHD_Vyvanse_C3241344                                     NaN   \n\nunique                         ADHD_Lisdexamfetamine_C5191482  \\\nunique                                                          \nADHD_Lisdexamfetamine_C1873633                            NaN   \nADHD_Lisdexamfetamine_C1739826                            NaN   \nADHD_Lisdexamfetamine_C5191482                            NaN   \nADHD_Vyvanse_C1876807                                     NaN   \nADHD_Vyvanse_C3241344                                     NaN   \n\nunique                         ADHD_Vyvanse_C1876807 ADHD_Vyvanse_C3241344  \\\nunique                                                                       \nADHD_Lisdexamfetamine_C1873633                   NaN                   NaN   \nADHD_Lisdexamfetamine_C1739826                   NaN                   NaN   \nADHD_Lisdexamfetamine_C5191482                   NaN                   NaN   \nADHD_Vyvanse_C1876807                            NaN                   NaN   \nADHD_Vyvanse_C3241344                            NaN                   NaN   \n\nunique                         ADHD_Vyvanse_C3859815  \\\nunique                                                 \nADHD_Lisdexamfetamine_C1873633                   NaN   \nADHD_Lisdexamfetamine_C1739826                   NaN   \nADHD_Lisdexamfetamine_C5191482                   NaN   \nADHD_Vyvanse_C1876807                            NaN   \nADHD_Vyvanse_C3241344                            NaN   \n\nunique                         ADHD_Methylphenidate_C0025810  \\\nunique                                                         \nADHD_Lisdexamfetamine_C1873633                           NaN   \nADHD_Lisdexamfetamine_C1739826                           NaN   \nADHD_Lisdexamfetamine_C5191482                           NaN   \nADHD_Vyvanse_C1876807                                    NaN   \nADHD_Vyvanse_C3241344                                    NaN   \n\nunique                         ADHD_Methylphenidate_C0524188  \\\nunique                                                         \nADHD_Lisdexamfetamine_C1873633                           NaN   \nADHD_Lisdexamfetamine_C1739826                           NaN   \nADHD_Lisdexamfetamine_C5191482                           NaN   \nADHD_Vyvanse_C1876807                                    NaN   \nADHD_Vyvanse_C3241344                                    NaN   \n\nunique                         ADHD_Methylphenidate_C0700545  \\\nunique                                                         \nADHD_Lisdexamfetamine_C1873633                           NaN   \nADHD_Lisdexamfetamine_C1739826                           NaN   \nADHD_Lisdexamfetamine_C5191482                           NaN   \nADHD_Vyvanse_C1876807                                    NaN   \nADHD_Vyvanse_C3241344                                    NaN   \n\nunique                         ADHD_Amphetamine / dextroamphetamine_C0795571  \\\nunique                                                                         \nADHD_Lisdexamfetamine_C1873633                                           NaN   \nADHD_Lisdexamfetamine_C1739826                                           NaN   \nADHD_Lisdexamfetamine_C5191482                                           NaN   \nADHD_Vyvanse_C1876807                                                    NaN   \nADHD_Vyvanse_C3241344                                                    NaN   \n\nunique                          ... Tourette's Syndrome_Topiramate_C0693586  \\\nunique                          ...                                           \nADHD_Lisdexamfetamine_C1873633  ...                                     NaN   \nADHD_Lisdexamfetamine_C1739826  ...                                     NaN   \nADHD_Lisdexamfetamine_C5191482  ...                                     NaN   \nADHD_Vyvanse_C1876807           ...                                     NaN   \nADHD_Vyvanse_C3241344           ...                                     NaN   \n\nunique                         Tourette's Syndrome_Olanzapine_C0171023  \\\nunique                                                                   \nADHD_Lisdexamfetamine_C1873633                                     NaN   \nADHD_Lisdexamfetamine_C1739826                                     NaN   \nADHD_Lisdexamfetamine_C5191482                                     NaN   \nADHD_Vyvanse_C1876807                                              NaN   \nADHD_Vyvanse_C3241344                                              NaN   \n\nunique                         Tourette's Syndrome_Olanzapine_C2698647  \\\nunique                                                                   \nADHD_Lisdexamfetamine_C1873633                                     NaN   \nADHD_Lisdexamfetamine_C1739826                                     NaN   \nADHD_Lisdexamfetamine_C5191482                                     NaN   \nADHD_Vyvanse_C1876807                                              NaN   \nADHD_Vyvanse_C3241344                                              NaN   \n\nunique                         Tourette's Syndrome_Olanzapine_C1266674  \\\nunique                                                                   \nADHD_Lisdexamfetamine_C1873633                                     NaN   \nADHD_Lisdexamfetamine_C1739826                                     NaN   \nADHD_Lisdexamfetamine_C5191482                                     NaN   \nADHD_Vyvanse_C1876807                                              NaN   \nADHD_Vyvanse_C3241344                                              NaN   \n\nunique                         Tourette's Syndrome_Catapres_C0699881  \\\nunique                                                                 \nADHD_Lisdexamfetamine_C1873633                                   NaN   \nADHD_Lisdexamfetamine_C1739826                                   NaN   \nADHD_Lisdexamfetamine_C5191482                                   NaN   \nADHD_Vyvanse_C1876807                                            NaN   \nADHD_Vyvanse_C3241344                                            NaN   \n\nunique                         Tourette's Syndrome_Catapres_C3230342  \\\nunique                                                                 \nADHD_Lisdexamfetamine_C1873633                                   NaN   \nADHD_Lisdexamfetamine_C1739826                                   NaN   \nADHD_Lisdexamfetamine_C5191482                                   NaN   \nADHD_Vyvanse_C1876807                                            NaN   \nADHD_Vyvanse_C3241344                                            NaN   \n\nunique                         Tourette's Syndrome_Catapres_C0305564  \\\nunique                                                                 \nADHD_Lisdexamfetamine_C1873633                                   NaN   \nADHD_Lisdexamfetamine_C1739826                                   NaN   \nADHD_Lisdexamfetamine_C5191482                                   NaN   \nADHD_Vyvanse_C1876807                                            NaN   \nADHD_Vyvanse_C3241344                                            NaN   \n\nunique                         Tourette's Syndrome_Haldol_C0591585  \\\nunique                                                               \nADHD_Lisdexamfetamine_C1873633                                 NaN   \nADHD_Lisdexamfetamine_C1739826                                 NaN   \nADHD_Lisdexamfetamine_C5191482                                 NaN   \nADHD_Vyvanse_C1876807                                          NaN   \nADHD_Vyvanse_C3241344                                          NaN   \n\nunique                         Tourette's Syndrome_Haldol_C0591586  \\\nunique                                                               \nADHD_Lisdexamfetamine_C1873633                                 NaN   \nADHD_Lisdexamfetamine_C1739826                                 NaN   \nADHD_Lisdexamfetamine_C5191482                                 NaN   \nADHD_Vyvanse_C1876807                                          NaN   \nADHD_Vyvanse_C3241344                                          NaN   \n\nunique                         Tourette's Syndrome_Haldol_C0306331  \nunique                                                              \nADHD_Lisdexamfetamine_C1873633                                 NaN  \nADHD_Lisdexamfetamine_C1739826                                 NaN  \nADHD_Lisdexamfetamine_C5191482                                 NaN  \nADHD_Vyvanse_C1876807                                          NaN  \nADHD_Vyvanse_C3241344                                          NaN  \n\n[5 rows x 2340 columns]",
      "text/html": "<div>\n<style scoped>\n    .dataframe tbody tr th:only-of-type {\n        vertical-align: middle;\n    }\n\n    .dataframe tbody tr th {\n        vertical-align: top;\n    }\n\n    .dataframe thead th {\n        text-align: right;\n    }\n</style>\n<table border=\"1\" class=\"dataframe\">\n  <thead>\n    <tr style=\"text-align: right;\">\n      <th>unique</th>\n      <th>ADHD_Lisdexamfetamine_C1873633</th>\n      <th>ADHD_Lisdexamfetamine_C1739826</th>\n      <th>ADHD_Lisdexamfetamine_C5191482</th>\n      <th>ADHD_Vyvanse_C1876807</th>\n      <th>ADHD_Vyvanse_C3241344</th>\n      <th>ADHD_Vyvanse_C3859815</th>\n      <th>ADHD_Methylphenidate_C0025810</th>\n      <th>ADHD_Methylphenidate_C0524188</th>\n      <th>ADHD_Methylphenidate_C0700545</th>\n      <th>ADHD_Amphetamine / dextroamphetamine_C0795571</th>\n      <th>...</th>\n      <th>Tourette's Syndrome_Topiramate_C0693586</th>\n      <th>Tourette's Syndrome_Olanzapine_C0171023</th>\n      <th>Tourette's Syndrome_Olanzapine_C2698647</th>\n      <th>Tourette's Syndrome_Olanzapine_C1266674</th>\n      <th>Tourette's Syndrome_Catapres_C0699881</th>\n      <th>Tourette's Syndrome_Catapres_C3230342</th>\n      <th>Tourette's Syndrome_Catapres_C0305564</th>\n      <th>Tourette's Syndrome_Haldol_C0591585</th>\n      <th>Tourette's Syndrome_Haldol_C0591586</th>\n      <th>Tourette's Syndrome_Haldol_C0306331</th>\n    </tr>\n    <tr>\n      <th>unique</th>\n      <th></th>\n      <th></th>\n      <th></th>\n      <th></th>\n      <th></th>\n      <th></th>\n      <th></th>\n      <th></th>\n      <th></th>\n      <th></th>\n      <th></th>\n      <th></th>\n      <th></th>\n      <th></th>\n      <th></th>\n      <th></th>\n      <th></th>\n      <th></th>\n      <th></th>\n      <th></th>\n      <th></th>\n    </tr>\n  </thead>\n  <tbody>\n    <tr>\n      <th>ADHD_Lisdexamfetamine_C1873633</th>\n      <td>NaN</td>\n      <td>NaN</td>\n      <td>NaN</td>\n      <td>NaN</td>\n      <td>NaN</td>\n      <td>NaN</td>\n      <td>NaN</td>\n      <td>NaN</td>\n      <td>NaN</td>\n      <td>NaN</td>\n      <td>...</td>\n      <td>NaN</td>\n      <td>NaN</td>\n      <td>NaN</td>\n      <td>NaN</td>\n      <td>NaN</td>\n      <td>NaN</td>\n      <td>NaN</td>\n      <td>NaN</td>\n      <td>NaN</td>\n      <td>NaN</td>\n    </tr>\n    <tr>\n      <th>ADHD_Lisdexamfetamine_C1739826</th>\n      <td>NaN</td>\n      <td>NaN</td>\n      <td>NaN</td>\n      <td>NaN</td>\n      <td>NaN</td>\n      <td>NaN</td>\n      <td>NaN</td>\n      <td>NaN</td>\n      <td>NaN</td>\n      <td>NaN</td>\n      <td>...</td>\n      <td>NaN</td>\n      <td>NaN</td>\n      <td>NaN</td>\n      <td>NaN</td>\n      <td>NaN</td>\n      <td>NaN</td>\n      <td>NaN</td>\n      <td>NaN</td>\n      <td>NaN</td>\n      <td>NaN</td>\n    </tr>\n    <tr>\n      <th>ADHD_Lisdexamfetamine_C5191482</th>\n      <td>NaN</td>\n      <td>NaN</td>\n      <td>NaN</td>\n      <td>NaN</td>\n      <td>NaN</td>\n      <td>NaN</td>\n      <td>NaN</td>\n      <td>NaN</td>\n      <td>NaN</td>\n      <td>NaN</td>\n      <td>...</td>\n      <td>NaN</td>\n      <td>NaN</td>\n      <td>NaN</td>\n      <td>NaN</td>\n      <td>NaN</td>\n      <td>NaN</td>\n      <td>NaN</td>\n      <td>NaN</td>\n      <td>NaN</td>\n      <td>NaN</td>\n    </tr>\n    <tr>\n      <th>ADHD_Vyvanse_C1876807</th>\n      <td>NaN</td>\n      <td>NaN</td>\n      <td>NaN</td>\n      <td>NaN</td>\n      <td>NaN</td>\n      <td>NaN</td>\n      <td>NaN</td>\n      <td>NaN</td>\n      <td>NaN</td>\n      <td>NaN</td>\n      <td>...</td>\n      <td>NaN</td>\n      <td>NaN</td>\n      <td>NaN</td>\n      <td>NaN</td>\n      <td>NaN</td>\n      <td>NaN</td>\n      <td>NaN</td>\n      <td>NaN</td>\n      <td>NaN</td>\n      <td>NaN</td>\n    </tr>\n    <tr>\n      <th>ADHD_Vyvanse_C3241344</th>\n      <td>NaN</td>\n      <td>NaN</td>\n      <td>NaN</td>\n      <td>NaN</td>\n      <td>NaN</td>\n      <td>NaN</td>\n      <td>NaN</td>\n      <td>NaN</td>\n      <td>NaN</td>\n      <td>NaN</td>\n      <td>...</td>\n      <td>NaN</td>\n      <td>NaN</td>\n      <td>NaN</td>\n      <td>NaN</td>\n      <td>NaN</td>\n      <td>NaN</td>\n      <td>NaN</td>\n      <td>NaN</td>\n      <td>NaN</td>\n      <td>NaN</td>\n    </tr>\n  </tbody>\n</table>\n<p>5 rows × 2340 columns</p>\n</div>"
     },
     "execution_count": 70,
     "metadata": {},
     "output_type": "execute_result"
    }
   ],
   "source": [],
   "metadata": {
    "collapsed": false,
    "pycharm": {
     "name": "#%%\n"
    }
   }
  },
  {
   "cell_type": "code",
   "execution_count": 77,
   "outputs": [
    {
     "data": {
      "text/plain": "                               ADHD_Lisdexamfetamine_C1873633  \\\nADHD_Lisdexamfetamine_C1873633                            NaN   \nADHD_Lisdexamfetamine_C1739826                            NaN   \nADHD_Lisdexamfetamine_C5191482                            NaN   \nADHD_Vyvanse_C1876807                                     NaN   \nADHD_Vyvanse_C3241344                                     NaN   \n\n                               ADHD_Lisdexamfetamine_C1739826  \\\nADHD_Lisdexamfetamine_C1873633                            NaN   \nADHD_Lisdexamfetamine_C1739826                            NaN   \nADHD_Lisdexamfetamine_C5191482                            NaN   \nADHD_Vyvanse_C1876807                                     NaN   \nADHD_Vyvanse_C3241344                                     NaN   \n\n                               ADHD_Lisdexamfetamine_C5191482  \\\nADHD_Lisdexamfetamine_C1873633                            NaN   \nADHD_Lisdexamfetamine_C1739826                            NaN   \nADHD_Lisdexamfetamine_C5191482                            NaN   \nADHD_Vyvanse_C1876807                                     NaN   \nADHD_Vyvanse_C3241344                                     NaN   \n\n                               ADHD_Vyvanse_C1876807 ADHD_Vyvanse_C3241344  \\\nADHD_Lisdexamfetamine_C1873633                   NaN                   NaN   \nADHD_Lisdexamfetamine_C1739826                   NaN                   NaN   \nADHD_Lisdexamfetamine_C5191482                   NaN                   NaN   \nADHD_Vyvanse_C1876807                            NaN                   NaN   \nADHD_Vyvanse_C3241344                            NaN                   NaN   \n\n                               ADHD_Vyvanse_C3859815  \\\nADHD_Lisdexamfetamine_C1873633                   NaN   \nADHD_Lisdexamfetamine_C1739826                   NaN   \nADHD_Lisdexamfetamine_C5191482                   NaN   \nADHD_Vyvanse_C1876807                            NaN   \nADHD_Vyvanse_C3241344                            NaN   \n\n                               ADHD_Methylphenidate_C0025810  \\\nADHD_Lisdexamfetamine_C1873633                           NaN   \nADHD_Lisdexamfetamine_C1739826                           NaN   \nADHD_Lisdexamfetamine_C5191482                           NaN   \nADHD_Vyvanse_C1876807                                    NaN   \nADHD_Vyvanse_C3241344                                    NaN   \n\n                               ADHD_Methylphenidate_C0524188  \\\nADHD_Lisdexamfetamine_C1873633                           NaN   \nADHD_Lisdexamfetamine_C1739826                           NaN   \nADHD_Lisdexamfetamine_C5191482                           NaN   \nADHD_Vyvanse_C1876807                                    NaN   \nADHD_Vyvanse_C3241344                                    NaN   \n\n                               ADHD_Methylphenidate_C0700545  \\\nADHD_Lisdexamfetamine_C1873633                           NaN   \nADHD_Lisdexamfetamine_C1739826                           NaN   \nADHD_Lisdexamfetamine_C5191482                           NaN   \nADHD_Vyvanse_C1876807                                    NaN   \nADHD_Vyvanse_C3241344                                    NaN   \n\n                               ADHD_Amphetamine / dextroamphetamine_C0795571  \\\nADHD_Lisdexamfetamine_C1873633                                           NaN   \nADHD_Lisdexamfetamine_C1739826                                           NaN   \nADHD_Lisdexamfetamine_C5191482                                           NaN   \nADHD_Vyvanse_C1876807                                                    NaN   \nADHD_Vyvanse_C3241344                                                    NaN   \n\n                                ... Tourette's Syndrome_Topiramate_C0693586  \\\nADHD_Lisdexamfetamine_C1873633  ...                                     NaN   \nADHD_Lisdexamfetamine_C1739826  ...                                     NaN   \nADHD_Lisdexamfetamine_C5191482  ...                                     NaN   \nADHD_Vyvanse_C1876807           ...                                     NaN   \nADHD_Vyvanse_C3241344           ...                                     NaN   \n\n                               Tourette's Syndrome_Olanzapine_C0171023  \\\nADHD_Lisdexamfetamine_C1873633                                     NaN   \nADHD_Lisdexamfetamine_C1739826                                     NaN   \nADHD_Lisdexamfetamine_C5191482                                     NaN   \nADHD_Vyvanse_C1876807                                              NaN   \nADHD_Vyvanse_C3241344                                              NaN   \n\n                               Tourette's Syndrome_Olanzapine_C2698647  \\\nADHD_Lisdexamfetamine_C1873633                                     NaN   \nADHD_Lisdexamfetamine_C1739826                                     NaN   \nADHD_Lisdexamfetamine_C5191482                                     NaN   \nADHD_Vyvanse_C1876807                                              NaN   \nADHD_Vyvanse_C3241344                                              NaN   \n\n                               Tourette's Syndrome_Olanzapine_C1266674  \\\nADHD_Lisdexamfetamine_C1873633                                     NaN   \nADHD_Lisdexamfetamine_C1739826                                     NaN   \nADHD_Lisdexamfetamine_C5191482                                     NaN   \nADHD_Vyvanse_C1876807                                              NaN   \nADHD_Vyvanse_C3241344                                              NaN   \n\n                               Tourette's Syndrome_Catapres_C0699881  \\\nADHD_Lisdexamfetamine_C1873633                                   NaN   \nADHD_Lisdexamfetamine_C1739826                                   NaN   \nADHD_Lisdexamfetamine_C5191482                                   NaN   \nADHD_Vyvanse_C1876807                                            NaN   \nADHD_Vyvanse_C3241344                                            NaN   \n\n                               Tourette's Syndrome_Catapres_C3230342  \\\nADHD_Lisdexamfetamine_C1873633                                   NaN   \nADHD_Lisdexamfetamine_C1739826                                   NaN   \nADHD_Lisdexamfetamine_C5191482                                   NaN   \nADHD_Vyvanse_C1876807                                            NaN   \nADHD_Vyvanse_C3241344                                            NaN   \n\n                               Tourette's Syndrome_Catapres_C0305564  \\\nADHD_Lisdexamfetamine_C1873633                                   NaN   \nADHD_Lisdexamfetamine_C1739826                                   NaN   \nADHD_Lisdexamfetamine_C5191482                                   NaN   \nADHD_Vyvanse_C1876807                                            NaN   \nADHD_Vyvanse_C3241344                                            NaN   \n\n                               Tourette's Syndrome_Haldol_C0591585  \\\nADHD_Lisdexamfetamine_C1873633                                 NaN   \nADHD_Lisdexamfetamine_C1739826                                 NaN   \nADHD_Lisdexamfetamine_C5191482                                 NaN   \nADHD_Vyvanse_C1876807                                          NaN   \nADHD_Vyvanse_C3241344                                          NaN   \n\n                               Tourette's Syndrome_Haldol_C0591586  \\\nADHD_Lisdexamfetamine_C1873633                                 NaN   \nADHD_Lisdexamfetamine_C1739826                                 NaN   \nADHD_Lisdexamfetamine_C5191482                                 NaN   \nADHD_Vyvanse_C1876807                                          NaN   \nADHD_Vyvanse_C3241344                                          NaN   \n\n                               Tourette's Syndrome_Haldol_C0306331  \nADHD_Lisdexamfetamine_C1873633                                 NaN  \nADHD_Lisdexamfetamine_C1739826                                 NaN  \nADHD_Lisdexamfetamine_C5191482                                 NaN  \nADHD_Vyvanse_C1876807                                          NaN  \nADHD_Vyvanse_C3241344                                          NaN  \n\n[5 rows x 2340 columns]",
      "text/html": "<div>\n<style scoped>\n    .dataframe tbody tr th:only-of-type {\n        vertical-align: middle;\n    }\n\n    .dataframe tbody tr th {\n        vertical-align: top;\n    }\n\n    .dataframe thead th {\n        text-align: right;\n    }\n</style>\n<table border=\"1\" class=\"dataframe\">\n  <thead>\n    <tr style=\"text-align: right;\">\n      <th></th>\n      <th>ADHD_Lisdexamfetamine_C1873633</th>\n      <th>ADHD_Lisdexamfetamine_C1739826</th>\n      <th>ADHD_Lisdexamfetamine_C5191482</th>\n      <th>ADHD_Vyvanse_C1876807</th>\n      <th>ADHD_Vyvanse_C3241344</th>\n      <th>ADHD_Vyvanse_C3859815</th>\n      <th>ADHD_Methylphenidate_C0025810</th>\n      <th>ADHD_Methylphenidate_C0524188</th>\n      <th>ADHD_Methylphenidate_C0700545</th>\n      <th>ADHD_Amphetamine / dextroamphetamine_C0795571</th>\n      <th>...</th>\n      <th>Tourette's Syndrome_Topiramate_C0693586</th>\n      <th>Tourette's Syndrome_Olanzapine_C0171023</th>\n      <th>Tourette's Syndrome_Olanzapine_C2698647</th>\n      <th>Tourette's Syndrome_Olanzapine_C1266674</th>\n      <th>Tourette's Syndrome_Catapres_C0699881</th>\n      <th>Tourette's Syndrome_Catapres_C3230342</th>\n      <th>Tourette's Syndrome_Catapres_C0305564</th>\n      <th>Tourette's Syndrome_Haldol_C0591585</th>\n      <th>Tourette's Syndrome_Haldol_C0591586</th>\n      <th>Tourette's Syndrome_Haldol_C0306331</th>\n    </tr>\n  </thead>\n  <tbody>\n    <tr>\n      <th>ADHD_Lisdexamfetamine_C1873633</th>\n      <td>NaN</td>\n      <td>NaN</td>\n      <td>NaN</td>\n      <td>NaN</td>\n      <td>NaN</td>\n      <td>NaN</td>\n      <td>NaN</td>\n      <td>NaN</td>\n      <td>NaN</td>\n      <td>NaN</td>\n      <td>...</td>\n      <td>NaN</td>\n      <td>NaN</td>\n      <td>NaN</td>\n      <td>NaN</td>\n      <td>NaN</td>\n      <td>NaN</td>\n      <td>NaN</td>\n      <td>NaN</td>\n      <td>NaN</td>\n      <td>NaN</td>\n    </tr>\n    <tr>\n      <th>ADHD_Lisdexamfetamine_C1739826</th>\n      <td>NaN</td>\n      <td>NaN</td>\n      <td>NaN</td>\n      <td>NaN</td>\n      <td>NaN</td>\n      <td>NaN</td>\n      <td>NaN</td>\n      <td>NaN</td>\n      <td>NaN</td>\n      <td>NaN</td>\n      <td>...</td>\n      <td>NaN</td>\n      <td>NaN</td>\n      <td>NaN</td>\n      <td>NaN</td>\n      <td>NaN</td>\n      <td>NaN</td>\n      <td>NaN</td>\n      <td>NaN</td>\n      <td>NaN</td>\n      <td>NaN</td>\n    </tr>\n    <tr>\n      <th>ADHD_Lisdexamfetamine_C5191482</th>\n      <td>NaN</td>\n      <td>NaN</td>\n      <td>NaN</td>\n      <td>NaN</td>\n      <td>NaN</td>\n      <td>NaN</td>\n      <td>NaN</td>\n      <td>NaN</td>\n      <td>NaN</td>\n      <td>NaN</td>\n      <td>...</td>\n      <td>NaN</td>\n      <td>NaN</td>\n      <td>NaN</td>\n      <td>NaN</td>\n      <td>NaN</td>\n      <td>NaN</td>\n      <td>NaN</td>\n      <td>NaN</td>\n      <td>NaN</td>\n      <td>NaN</td>\n    </tr>\n    <tr>\n      <th>ADHD_Vyvanse_C1876807</th>\n      <td>NaN</td>\n      <td>NaN</td>\n      <td>NaN</td>\n      <td>NaN</td>\n      <td>NaN</td>\n      <td>NaN</td>\n      <td>NaN</td>\n      <td>NaN</td>\n      <td>NaN</td>\n      <td>NaN</td>\n      <td>...</td>\n      <td>NaN</td>\n      <td>NaN</td>\n      <td>NaN</td>\n      <td>NaN</td>\n      <td>NaN</td>\n      <td>NaN</td>\n      <td>NaN</td>\n      <td>NaN</td>\n      <td>NaN</td>\n      <td>NaN</td>\n    </tr>\n    <tr>\n      <th>ADHD_Vyvanse_C3241344</th>\n      <td>NaN</td>\n      <td>NaN</td>\n      <td>NaN</td>\n      <td>NaN</td>\n      <td>NaN</td>\n      <td>NaN</td>\n      <td>NaN</td>\n      <td>NaN</td>\n      <td>NaN</td>\n      <td>NaN</td>\n      <td>...</td>\n      <td>NaN</td>\n      <td>NaN</td>\n      <td>NaN</td>\n      <td>NaN</td>\n      <td>NaN</td>\n      <td>NaN</td>\n      <td>NaN</td>\n      <td>NaN</td>\n      <td>NaN</td>\n      <td>NaN</td>\n    </tr>\n  </tbody>\n</table>\n<p>5 rows × 2340 columns</p>\n</div>"
     },
     "execution_count": 77,
     "metadata": {},
     "output_type": "execute_result"
    }
   ],
   "source": [
    "searchMatrix.head()"
   ],
   "metadata": {
    "collapsed": false,
    "pycharm": {
     "name": "#%%\n"
    }
   }
  },
  {
   "cell_type": "code",
   "execution_count": 78,
   "outputs": [],
   "source": [
    "searchMatrix.to_csv('searchMatrix.csv')"
   ],
   "metadata": {
    "collapsed": false,
    "pycharm": {
     "name": "#%%\n"
    }
   }
  },
  {
   "cell_type": "code",
   "execution_count": 57,
   "outputs": [
    {
     "name": "stdout",
     "output_type": "stream",
     "text": [
      "nan\n",
      "C1873633 C1873633\n",
      "nan\n",
      "C1873633 C1739826\n",
      "nan\n",
      "C1873633 C5191482\n",
      "nan\n",
      "C1873633 C1876807\n",
      "nan\n",
      "C1873633 C3241344\n",
      "nan\n",
      "C1739826 C1873633\n",
      "nan\n",
      "C1739826 C1739826\n",
      "nan\n",
      "C1739826 C5191482\n",
      "nan\n",
      "C1739826 C1876807\n",
      "nan\n",
      "C1739826 C3241344\n",
      "nan\n",
      "C5191482 C1873633\n",
      "nan\n",
      "C5191482 C1739826\n",
      "nan\n",
      "C5191482 C5191482\n",
      "nan\n",
      "C5191482 C1876807\n",
      "nan\n",
      "C5191482 C3241344\n",
      "nan\n",
      "C1876807 C1873633\n",
      "nan\n",
      "C1876807 C1739826\n",
      "nan\n",
      "C1876807 C5191482\n",
      "nan\n",
      "C1876807 C1876807\n",
      "nan\n",
      "C1876807 C3241344\n",
      "nan\n",
      "C3241344 C1873633\n",
      "nan\n",
      "C3241344 C1739826\n",
      "nan\n",
      "C3241344 C5191482\n",
      "nan\n",
      "C3241344 C1876807\n",
      "nan\n",
      "C3241344 C3241344\n"
     ]
    }
   ],
   "source": [
    "for i in range(5):\n",
    "    for j in range(5):\n",
    "        try:\n",
    "            print(searchMatrix.iloc[i,j])\n",
    "        except:\n",
    "            print('error')\n",
    "        print(searchMatrix.index[i].split('_')[2], searchMatrix.columns[j].split('_')[2])"
   ],
   "metadata": {
    "collapsed": false,
    "pycharm": {
     "name": "#%%\n"
    }
   }
  },
  {
   "cell_type": "code",
   "execution_count": null,
   "outputs": [],
   "source": [
    "for i in range(len(searchMatrix.keys())):\n",
    "    for j in range(len(searchMatrix.keys())):\n",
    "        try:\n",
    "            simrank_score = data[searchMatrix.index[i].split('_')[2]].loc[searchMatrix.columns[j].split('_')[2]]\n",
    "            searchMatrix.iloc[i,j] = simrank_score\n",
    "        except:\n",
    "            searchMatrix.iloc[i,j] = 'ERR'\n",
    "        print(searchMatrix.index[i].split('_')[2], searchMatrix.columns[j].split('_')[2])"
   ],
   "metadata": {
    "collapsed": false,
    "pycharm": {
     "name": "#%%\n"
    }
   }
  }
 ],
 "metadata": {
  "kernelspec": {
   "display_name": "Python 3",
   "language": "python",
   "name": "python3"
  },
  "language_info": {
   "codemirror_mode": {
    "name": "ipython",
    "version": 2
   },
   "file_extension": ".py",
   "mimetype": "text/x-python",
   "name": "python",
   "nbconvert_exporter": "python",
   "pygments_lexer": "ipython2",
   "version": "2.7.6"
  }
 },
 "nbformat": 4,
 "nbformat_minor": 0
}