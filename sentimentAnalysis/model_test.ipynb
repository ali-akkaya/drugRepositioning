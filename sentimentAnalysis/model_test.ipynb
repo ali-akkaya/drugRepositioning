{
 "cells": [
  {
   "cell_type": "code",
   "execution_count": 1,
   "metadata": {
    "collapsed": true,
    "pycharm": {
     "name": "#%%\n"
    }
   },
   "outputs": [],
   "source": [
    "# Version-1\n",
    "\n",
    "import numpy as np # linear algebra\n",
    "import pandas as pd\n",
    "import re\n",
    "import matplotlib.pyplot as plt\n",
    "from nltk.corpus import stopwords\n",
    "from nltk.stem import PorterStemmer\n",
    "from sklearn.feature_extraction.text import TfidfVectorizer\n",
    "from sklearn.pipeline import Pipeline\n",
    "from sklearn.metrics import classification_report, confusion_matrix\n",
    "from sklearn.model_selection import train_test_split\n",
    "from sklearn.feature_selection import SelectKBest, chi2\n",
    "from sqlite3 import Error\n",
    "from sklearn.ensemble import RandomForestClassifier\n",
    "import sqlite3\n",
    "import pickle\n",
    "import nltk\n",
    "#nltk.download('stopwords')\n",
    "%matplotlib inline"
   ]
  },
  {
   "cell_type": "code",
   "execution_count": 2,
   "outputs": [],
   "source": [],
   "metadata": {
    "collapsed": false,
    "pycharm": {
     "name": "#%%\n"
    }
   }
  },
  {
   "cell_type": "code",
   "execution_count": 2,
   "outputs": [],
   "source": [
    "dataset = pd.read_csv(\"condition_drugName_label_text_dataset.csv\")\n"
   ],
   "metadata": {
    "collapsed": false,
    "pycharm": {
     "name": "#%%\n"
    }
   }
  },
  {
   "cell_type": "markdown",
   "source": [],
   "metadata": {
    "collapsed": false,
    "pycharm": {
     "name": "#%% md\n"
    }
   }
  },
  {
   "cell_type": "code",
   "execution_count": 3,
   "outputs": [
    {
     "data": {
      "text/plain": "(50709, 5)"
     },
     "execution_count": 3,
     "metadata": {},
     "output_type": "execute_result"
    }
   ],
   "source": [
    "dataset.shape"
   ],
   "metadata": {
    "collapsed": false,
    "pycharm": {
     "name": "#%%\n"
    }
   }
  },
  {
   "cell_type": "code",
   "execution_count": 13,
   "outputs": [],
   "source": [
    "dataset = dataset[[\"text\",\"rating_label\"]]"
   ],
   "metadata": {
    "collapsed": false,
    "pycharm": {
     "name": "#%%\n"
    }
   }
  },
  {
   "cell_type": "code",
   "execution_count": 14,
   "outputs": [
    {
     "data": {
      "text/plain": "<Figure size 640x480 with 1 Axes>",
      "image/png": "[encoded data removed]"
     },
     "metadata": {},
     "output_type": "display_data"
    }
   ],
   "source": [
    "dataset.groupby('rating_label').text.count().plot.bar(ylim=0)\n",
    "plt.show()"
   ],
   "metadata": {
    "collapsed": false,
    "pycharm": {
     "name": "#%%\n"
    }
   }
  },
  {
   "cell_type": "code",
   "execution_count": 15,
   "outputs": [],
   "source": [
    "#nltk.download('stopwords')\n",
    "stemmer = PorterStemmer()\n",
    "words = stopwords.words(\"english\")\n",
    "dataset['cleaned'] = dataset['text'].apply(lambda x: \" \".join([stemmer.stem(i) for i in re.sub(\"[^a-zA-Z]\", \" \", x).split() if i not in words]).lower())"
   ],
   "metadata": {
    "collapsed": false,
    "pycharm": {
     "name": "#%%\n"
    }
   }
  },
  {
   "cell_type": "code",
   "execution_count": 16,
   "outputs": [
    {
     "data": {
      "text/plain": "                                                text  rating_label  \\\n0  After 20 years of seeing psychiatrists, I was ...             1   \n1  I've been diagnosed with ADD at the age of 42 ...             1   \n2  My son (9yrs old) has been taking this for abo...             1   \n3  My son takes this. Best medication he has been...             1   \n4  My adult ADHD is the result of a traumatic bra...             1   \n5  My doctor recently switched me from Ritalin LA...            -1   \n6  It gave me back a life, which I thought I woul...             1   \n7  I was prescribed this for ADHD that was along ...             1   \n8  I have been on Methylin ER for about a year an...             1   \n9  I've been on antidepressants from the old styl...             1   \n\n                                             cleaned  \n0  after year see psychiatrist i final correctli ...  \n1  i diagnos add age struggl major depress sinc a...  \n2  my son yr old take week add i apprehens resort...  \n3  my son take best medic work just hard get alwa...  \n4  my adult adhd result traumat brain injuri thi ...  \n5  my doctor recent switch ritalin la methylin er...  \n6          it gave back life i thought i would never  \n7  i prescrib adhd along bipolar disord i didnt t...  \n8  i methylin er year half i still lot difficulti...  \n9  i antidepress old style newer ssri snri other ...  ",
      "text/html": "<div>\n<style scoped>\n    .dataframe tbody tr th:only-of-type {\n        vertical-align: middle;\n    }\n\n    .dataframe tbody tr th {\n        vertical-align: top;\n    }\n\n    .dataframe thead th {\n        text-align: right;\n    }\n</style>\n<table border=\"1\" class=\"dataframe\">\n  <thead>\n    <tr style=\"text-align: right;\">\n      <th></th>\n      <th>text</th>\n      <th>rating_label</th>\n      <th>cleaned</th>\n    </tr>\n  </thead>\n  <tbody>\n    <tr>\n      <th>0</th>\n      <td>After 20 years of seeing psychiatrists, I was ...</td>\n      <td>1</td>\n      <td>after year see psychiatrist i final correctli ...</td>\n    </tr>\n    <tr>\n      <th>1</th>\n      <td>I've been diagnosed with ADD at the age of 42 ...</td>\n      <td>1</td>\n      <td>i diagnos add age struggl major depress sinc a...</td>\n    </tr>\n    <tr>\n      <th>2</th>\n      <td>My son (9yrs old) has been taking this for abo...</td>\n      <td>1</td>\n      <td>my son yr old take week add i apprehens resort...</td>\n    </tr>\n    <tr>\n      <th>3</th>\n      <td>My son takes this. Best medication he has been...</td>\n      <td>1</td>\n      <td>my son take best medic work just hard get alwa...</td>\n    </tr>\n    <tr>\n      <th>4</th>\n      <td>My adult ADHD is the result of a traumatic bra...</td>\n      <td>1</td>\n      <td>my adult adhd result traumat brain injuri thi ...</td>\n    </tr>\n    <tr>\n      <th>5</th>\n      <td>My doctor recently switched me from Ritalin LA...</td>\n      <td>-1</td>\n      <td>my doctor recent switch ritalin la methylin er...</td>\n    </tr>\n    <tr>\n      <th>6</th>\n      <td>It gave me back a life, which I thought I woul...</td>\n      <td>1</td>\n      <td>it gave back life i thought i would never</td>\n    </tr>\n    <tr>\n      <th>7</th>\n      <td>I was prescribed this for ADHD that was along ...</td>\n      <td>1</td>\n      <td>i prescrib adhd along bipolar disord i didnt t...</td>\n    </tr>\n    <tr>\n      <th>8</th>\n      <td>I have been on Methylin ER for about a year an...</td>\n      <td>1</td>\n      <td>i methylin er year half i still lot difficulti...</td>\n    </tr>\n    <tr>\n      <th>9</th>\n      <td>I've been on antidepressants from the old styl...</td>\n      <td>1</td>\n      <td>i antidepress old style newer ssri snri other ...</td>\n    </tr>\n  </tbody>\n</table>\n</div>"
     },
     "execution_count": 16,
     "metadata": {},
     "output_type": "execute_result"
    }
   ],
   "source": [
    "dataset.head(10)"
   ],
   "metadata": {
    "collapsed": false,
    "pycharm": {
     "name": "#%%\n"
    }
   }
  },
  {
   "cell_type": "code",
   "execution_count": 17,
   "outputs": [
    {
     "name": "stdout",
     "output_type": "stream",
     "text": [
      "Features are done\n"
     ]
    },
    {
     "name": "stderr",
     "output_type": "stream",
     "text": [
      "/Users/aliakkaya/PycharmProjects/drugRepositioning/venv/lib/python3.9/site-packages/sklearn/linear_model/_logistic.py:444: ConvergenceWarning: lbfgs failed to converge (status=1):\n",
      "STOP: TOTAL NO. of ITERATIONS REACHED LIMIT.\n",
      "\n",
      "Increase the number of iterations (max_iter) or scale the data as shown in:\n",
      "    https://scikit-learn.org/stable/modules/preprocessing.html\n",
      "Please also refer to the documentation for alternative solver options:\n",
      "    https://scikit-learn.org/stable/modules/linear_model.html#logistic-regression\n",
      "  n_iter_i = _check_optimize_result(\n"
     ]
    },
    {
     "name": "stdout",
     "output_type": "stream",
     "text": [
      "              precision    recall  f1-score   support\n",
      "\n",
      "          -1       0.70      0.48      0.57      1964\n",
      "           0       0.29      0.00      0.00       810\n",
      "           1       0.81      0.96      0.88      7368\n",
      "\n",
      "    accuracy                           0.79     10142\n",
      "   macro avg       0.60      0.48      0.48     10142\n",
      "weighted avg       0.75      0.79      0.75     10142\n",
      "\n",
      "[[ 934    2 1028]\n",
      " [ 134    2  674]\n",
      " [ 259    3 7106]]\n"
     ]
    }
   ],
   "source": [
    "vectorizer = TfidfVectorizer(min_df= 3, stop_words=\"english\", sublinear_tf=True, norm='l2', ngram_range=(1, 3))\n",
    "final_features = vectorizer.fit_transform(dataset['cleaned']).toarray()\n",
    "final_features.shape\n",
    "print(\"Features are done\")\n",
    "from sklearn.linear_model import LogisticRegression\n",
    "X = dataset['cleaned']\n",
    "Y = dataset['rating_label']\n",
    "X_train, X_test, y_train, y_test = train_test_split(X, Y, test_size=0.20)\n",
    "\n",
    "pipeline = Pipeline([('vect', vectorizer),\n",
    "                     ('chi',  SelectKBest(chi2, k=1200)),\n",
    "                     ('clf', LogisticRegression(random_state=0))])\n",
    "\n",
    "model = pipeline.fit(X_train, y_train)\n",
    "with open('LogisticRegression.pickle', 'wb') as f:\n",
    "    pickle.dump(model, f)\n",
    "\n",
    "ytest = np.array(y_test)\n",
    "\n",
    "# confusion matrix and classification report(precision, recall, F1-score)\n",
    "print(classification_report(ytest, model.predict(X_test)))\n",
    "print(confusion_matrix(ytest, model.predict(X_test)))"
   ],
   "metadata": {
    "collapsed": false,
    "pycharm": {
     "name": "#%%\n"
    }
   }
  }
 ],
 "metadata": {
  "kernelspec": {
   "display_name": "Python 3",
   "language": "python",
   "name": "python3"
  },
  "language_info": {
   "codemirror_mode": {
    "name": "ipython",
    "version": 2
   },
   "file_extension": ".py",
   "mimetype": "text/x-python",
   "name": "python",
   "nbconvert_exporter": "python",
   "pygments_lexer": "ipython2",
   "version": "2.7.6"
  }
 },
 "nbformat": 4,
 "nbformat_minor": 0
}