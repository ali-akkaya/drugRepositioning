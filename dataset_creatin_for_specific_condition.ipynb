{
 "cells": [
  {
   "cell_type": "code",
   "execution_count": 28,
   "metadata": {
    "collapsed": true,
    "pycharm": {
     "name": "#%%\n"
    }
   },
   "outputs": [],
   "source": [
    "from drugsCom_raw.Utils import Utils\n",
    "import  pandas as pd\n",
    "\n",
    "all_conditions= pd.read_csv(\"outputs/Old/drugsComAll_final.csv\")\n",
    "\n",
    "utils = Utils()"
   ]
  },
  {
   "cell_type": "markdown",
   "source": [],
   "metadata": {
    "collapsed": false,
    "pycharm": {
     "name": "#%% md\n"
    }
   }
  },
  {
   "cell_type": "code",
   "execution_count": 29,
   "outputs": [],
   "source": [
    "conditions = utils.conditions_controlled_by_psychiatrists"
   ],
   "metadata": {
    "collapsed": false,
    "pycharm": {
     "name": "#%%\n"
    }
   }
  },
  {
   "cell_type": "code",
   "execution_count": 30,
   "outputs": [],
   "source": [
    "selected_conditions = all_conditions[all_conditions.condition.isin(conditions)]"
   ],
   "metadata": {
    "collapsed": false,
    "pycharm": {
     "name": "#%%\n"
    }
   }
  },
  {
   "cell_type": "code",
   "execution_count": 31,
   "outputs": [
    {
     "name": "stdout",
     "output_type": "stream",
     "text": [
      "(212698, 10)\n",
      "(50709, 10)\n",
      "35\n",
      "['Abnormal Uterine Bleeding' 'Amenorrhea' 'Birth Control' 'Endometriosis'\n",
      " 'Endometrial Hyperplasia, Prophylaxis' 'Renal Cell Carcinoma'\n",
      " 'Not Listed / Othe' 'Eye Redness' 'Benign Prostatic Hyperplasia' 'Acne'\n",
      " 'ADHD' 'Depression' 'Narcolepsy' 'Allergic Rhinitis'\n",
      " 'Interstitial Cystitis' 'Bladder Infection' 'Heart Attack'\n",
      " 'High Blood Pressure' 'Angina' 'Rheumatoid Arthritis'\n",
      " 'Chronic Lymphocytic Leukemia' \"Non-Hodgkin's Lymphoma\"\n",
      " 'cal Segmental Glomerulosclerosis' 'Pemphigus' 'Edema' 'Pruritus' 'Pain'\n",
      " 'Brain Tum' 'Breast Cance' 'Pancreatic Cance' 'Actinic Keratosis'\n",
      " 'Gout, Acute' 'Bacterial Vaginitis' 'Rosacea' 'Perioral Dermatitis'\n",
      " 'Migraine' 'Cluster Headaches' 'Cyclic Vomiting Syndrome'\n",
      " 'New Daily Persistent Headache' 'Bacterial Skin Infection' 'Chronic Pain'\n",
      " 'Back Pain' 'COPD' 'COPD, Maintenance' 'Irritable Bowel Syndrome'\n",
      " 'Dysuria' 'Insomnia' 'Pulmonary Hypertension' 'Muscle Pain'\n",
      " 'Osteoarthritis' \"Behcet's Disease\" 'Gout, Prophylaxis'\n",
      " 'amilial Mediterranean Feve' 'Pseudogout, Prophylaxis'\n",
      " 'Glaucoma, Open Angle' 'Nausea/Vomiting'\n",
      " 'Secondary Cutaneous Bacterial Infections' 'Impetig'\n",
      " 'Skin and Structure Infection' 'Nasal Carriage of Staphylococcus aureus'\n",
      " 'Constipation' 'Constipation, Acute' 'Bowel Preparation' 'Seizures'\n",
      " 'Diabetes, Type 2' 'Polycystic Ovary Syndrome'\n",
      " 'Insulin Resistance Syndrome' 'min)' 'emale Infertility' 'Dermatitis'\n",
      " 'Psoriasis' 'Atopic Dermatitis' 'Eczema' 'Lichen Sclerosus'\n",
      " 'Lichen Planus' 'Bacterial Infection' 'Hypertriglyceridemia'\n",
      " 'Dietary Supplementation' 'Nausea/Vomiting, Chemotherapy Induced'\n",
      " 'Nausea/Vomiting, Postoperative' 'Hepatic Encephalopathy' 'HIV Infection'\n",
      " 'Ulcerative Colitis' 'Ulcerative Colitis, Active' 'Osteoporosis'\n",
      " 'Atrial Fibrillation' 'Supraventricular Tachycardia' 'Atrial Flutte'\n",
      " 'Cold Symptoms' 'Systemic Lupus Erythematosus'\n",
      " 'Undifferentiated Connective Tissue Disease' \"Sjogren's Syndrome\"\n",
      " 'Dermatomyositis' 'Lyme Disease, Arthritis' 'Angina Pectoris Prophylaxis'\n",
      " \"Raynaud's Syndrome\" 'Sinusitis' 'Urinary Tract Infection' 'Bronchitis'\n",
      " 'STD Prophylaxis' 'Otitis Media' 'Pneumonia' 'Nasal Congestion'\n",
      " 'Urinary Incontinence' 'Seizure Prevention' 'Pseudobulbar Affect'\n",
      " 'Deep Vein Thrombosis' 'Prevention of Osteoporosis' 'Heart Failure'\n",
      " 'Esophageal Spasm' 'Bipolar Disorde' 'Urticaria' 'Acetaminophen Overdose'\n",
      " 'Postmenopausal Symptoms' 'Prevention of Bladder infection'\n",
      " 'Vaginal Yeast Infection' 'Asthma, Maintenance' 'Diabetes, Type 1'\n",
      " 'Uveitis' 'Macular Edema' 'Prevention of Dental Caries'\n",
      " 'lic Acid Deficiency' 'Vitamin/Mineral Supplementation and Deficiency'\n",
      " 'Wound Cleansing' 'Gout' 'moterol)' 'Bronchospasm Prophylaxis' 'mist ('\n",
      " 'Intraocular Hypertension' \"Crohn's Disease, Maintenance\"\n",
      " 'Ulcerative Colitis, Maintenance' 'Autoimmune Hepatitis'\n",
      " \"Crohn's Disease, Acute\" 'Conjunctivitis, Bacterial' 'Prostate Cance'\n",
      " 'Hypogonadism, Male' 'Headache' 'Acute Otitis Externa'\n",
      " 'Tympanostomy Tube Placement Surgery' 'Upper Respiratory Tract Infection'\n",
      " 'Head Lice' 'Diarrhea' 'Indigestion' 'Diarrhea, Chronic'\n",
      " 'Constipation, Chronic' 'Clostridial Infection' 'Schizoaffective Disorde'\n",
      " 'Major Depressive Disorde' \"Paget's Disease\" 'Schizophrenia'\n",
      " 'Paranoid Disorde' 'Post Traumatic Stress Disorde'\n",
      " 'Generalized Anxiety Disorde' 'Obsessive Compulsive Disorde'\n",
      " 'Oral Thrush' 'Cough' 'Obesity' 'Influenza Prophylaxis'\n",
      " 'Colorectal Cance' 'Head and Neck Cance' 'Squamous Cell Carcinoma'\n",
      " 'Weight Loss' 'Diabetic Peripheral Neuropathy' 'Peripheral Neuropathy'\n",
      " 'Postherpetic Neuralgia' 'Non-Small Cell Lung Cance' 'Psychosis'\n",
      " 'Ovarian Cysts' 'Migraine Prevention' 'Subarachnoid Hemorrhage'\n",
      " 'Ischemic Stroke' 'Benign Essential Trem' 'Hypercalcemia of Malignancy'\n",
      " 'Giant Cell Tumor of Bone' 'Cold Sores' 'Hepatitis C'\n",
      " 'Anaplastic Astrocytoma' 'Anaplastic Oligodendroglioma'\n",
      " 'Glioblastoma Multi' 'Melanoma, Metastatic' 'me' 'Onychomycosis, Toenail'\n",
      " 'Hypodermoclysis' 'Duodenal Ulce' 'Enterocolitis' 'Vertig'\n",
      " 'Motion Sickness' 'Hyperprolactinemia' 'Alopecia'\n",
      " 'Primary Hyperaldosteronism' 'Overactive Bladde' 'Agitation'\n",
      " 'Skin Disinfection, Preoperative' 'Cutaneous Candidiasis'\n",
      " 'Kidney Infections' 'Deep Neck Infection'\n",
      " 'Postoperative Ocular Inflammation' 'Seasonal Allergic Conjunctivitis'\n",
      " 'Corneal Refractive Surgery' 'Ascariasis' 'Strongyloidiasis' 'Scabies'\n",
      " 'Tinea Cruris' 'Dermatophytosis' 'Tinea Capitis' 'COPD, Acute'\n",
      " \"Tourette's Syndrome\" 'Premenstrual Syndrome' 'Myasthenia Gravis'\n",
      " 'Erectile Dysfunction' 'Paroxysmal Supraventricular Tachycardia'\n",
      " 'Ventricular Tachycardia' 'Cough and Nasal Congestion' 'Gastroparesis'\n",
      " 'Wolff-Parkinson-White Syndrome' \"Parkinson's Disease\" 'Oophorectomy'\n",
      " 'Postural Orthostatic Tachycardia Syndrome' 'ibromyalgia'\n",
      " 'Premenstrual Dysphoric Disorde' 'Menstrual Disorders'\n",
      " 'moterol / mometasone)' 'Rhinitis' 'Seasonal Affective Disorde'\n",
      " 'Sore Throat' 'Anemia' 'Anemia, Chemotherapy Induced'\n",
      " 'Anemia Associated with Chronic Renal Failure' 'Androgenetic Alopecia'\n",
      " 'Panic Disorde' 'Anxiety' 'Social Anxiety Disorde'\n",
      " 'Herbal Supplementation' 'Pneumococcal Disease Prophylaxis'\n",
      " 'Hyperhidrosis' 'Body Imaging' 'Tinnitus' 'Dysautonomia'\n",
      " 'Seborrheic Dermatitis' 'Dry Skin' 'Labor Pain' 'Soft Tissue Sarcoma'\n",
      " 'Iritis' 'Hot Flashes' 'Chronic Fatigue Syndrome'\n",
      " 'Sexual Dysfunction, SSRI Induced' 'Dermatological Disorders'\n",
      " 'Lyme Disease' 'Surgical Prophylaxis' 'Strep Throat'\n",
      " 'Tonsillitis/Pharyngitis' 'Anal Itching' 'Cerebral Spasticity'\n",
      " 'Chronic Spasticity' 'Sinus Symptoms' 'Diagnosis and Investigation'\n",
      " 'Asthma' 'Ventricular Arrhythmia' 'Hirsutism'\n",
      " 'Primary Hyperaldosteronism Diagnosis' 'Gender Dysphoria' 'Hypokalemia'\n",
      " 'High Cholesterol' 'Tinea Corporis' 'Onychomycosis, Fingernail'\n",
      " 'Hyperlipoproteinemia Type IIa, Elevated LDL' 'Tinea Pedis'\n",
      " 'Primary Immunodeficiency Syndrome'\n",
      " 'Prevention of Cardiovascular Disease'\n",
      " 'Organ Transplant, Rejection Prophylaxis' 'Multiple Sclerosis'\n",
      " 'Nephrotic Syndrome' 'Bullous Pemphigoid' 'Psoriatic Arthritis'\n",
      " 'Asystole' 'Chronic Myelogenous Leukemia' 'Gastrointestinal Stromal Tum'\n",
      " 'Chronic Eosinophilic Leukemia' 'Myeloproliferative Disorders'\n",
      " 'Acute Lymphoblastic Leukemia' \"von Willebrand's Disease\"\n",
      " 'Restless Legs Syndrome' 'Periodic Limb Movement Disorde' 'Meningitis'\n",
      " 'Muscle Spasm' 'Underactive Thyroid' \"Hashimoto's disease\"\n",
      " 'Hypothyroidism, After Thyroid Removal'\n",
      " 'Mycobacterium avium-intracellulare, Treatment' 'Arrhythmia'\n",
      " 'Breast Cancer, Metastatic' 'Gastrointestinal Decontamination'\n",
      " 'Nonoccupational Exposure' 'Chronic Pancreatitis' 'Vitamin K Deficiency'\n",
      " 'Xerostomia' 'Plaque Psoriasis' 'Keratoconjunctivitis Sicca'\n",
      " 'Juvenile Idiopathic Arthritis' 'Ankylosing Spondylitis'\n",
      " 'Juvenile Rheumatoid Arthritis' \"Still's Disease\" 'Asthma, acute'\n",
      " 'Inflammatory Conditions' 'Immunosuppression' 'llicle Stimulation'\n",
      " 'Leukocytoclastic Vasculitis' 'mis' 'Linear IgA Disease' 'Pemphigoid'\n",
      " 'Premature Lab' 'Cance' 'Ovarian Cance' 'Nocturnal Leg Cramps'\n",
      " 'Tardive Dyskinesia' 'SIADH' 'atigue' 'Hemorrhoids'\n",
      " 'Endometrial Hyperplasia' 'Endometrial Cance' 'Anorexia' 'Cachexia'\n",
      " 'Vitamin/Mineral Supplementation during Pregnancy/Lactation'\n",
      " 'Gouty Arthritis' 'Sarcoidosis' 'Allergic Reactions'\n",
      " 'Pityriasis rubra pilaris' 'Neuritis' 'Tinea Versicol'\n",
      " 'Adult Human Growth Hormone Deficiency' 'Lymphoma' 'Opiate Dependence'\n",
      " 'Biliary Cirrhosis' 'Gallbladder Disease' 'GERD'\n",
      " 'Hyperphosphatemia of Renal Failure' 'Dermatologic Lesion' 'Diaper Rash'\n",
      " 'Sciatica' 'Temporomandibular Joint Disorde' 'Eye Redness/Itching'\n",
      " 'Ischemic Stroke, Prophylaxis' 'Labor Induction'\n",
      " 'Left Ventricular Dysfunction' 'Mitral Valve Prolapse' 'Dandruff'\n",
      " \"Addison's Disease\" 'Pinworm Infection (Enterobius vermicularis)'\n",
      " 'zen Shoulde' 'Period Pain' 'amilial Cold Autoinflammatory Syndrome'\n",
      " 'Alcohol Withdrawal' 'Opiate Withdrawal' 'Light Sedation'\n",
      " 'Neuropathic Pain' 'Neuralgia' 'Epilepsy'\n",
      " 'Reflex Sympathetic Dystrophy Syndrome' 'Occipital Neuralgia'\n",
      " \"Dercum's Disease\" 'Burns, External' 'Dry Eye Disease'\n",
      " 'Diabetic Kidney Disease' 'min / sitagliptin)' 'Hemophilia A'\n",
      " 'Herpes Simplex' 'Herpes Simplex, Suppression' 'Mononucleosis'\n",
      " 'Herpes Simplex, Mucocutaneous/Immunocompromised Host' 'Herpes Zoste'\n",
      " 'Herpes Simplex, Mucocutaneous/Immunocompetent Host'\n",
      " 'Prevention of Hypokalemia' \"Alzheimer's Disease\" 'Autism'\n",
      " 'Hypomagnesemia' 'Auditory Processing Disorde' 'Mucositis' 'Hypoglycemia'\n",
      " \"Crohn's Disease\" 'AIDS Related Wasting' 'Atrophic Vaginitis'\n",
      " 'Atrophic Urethritis' 'Peripheral T-cell Lymphoma' 'Spondyloarthritis'\n",
      " 'Prevention of Thromboembolism in Atrial Fibrillation'\n",
      " 'Deep Vein Thrombosis, Prophylaxis' 'Pulmonary Embolism'\n",
      " 'Thromboembolic Stroke Prophylaxis' 'Trigeminal Neuralgia'\n",
      " 'Cervical Dystonia' 'Dystonia' 'Hiccups' 'Muscle Twitching'\n",
      " 'Herpes Zoster, Prophylaxis' 'Diabetes Insipidus'\n",
      " 'Helicobacter Pylori Infection' 'Anesthesia' 'Hypotension' 'Abortion'\n",
      " 'Manscaping Pain' 'Sunburn' 'Local Anesthesia' 'Vitamin D Deficiency'\n",
      " 'Reversal of Nondepolarizing Muscle Relaxants' 'Malaria'\n",
      " 'Photoaging of the Skin' 'Rhinorrhea' 'Multiple Myeloma' 'Aphthous Ulce'\n",
      " 'Gas' 'Lactose Intolerance' 'Borderline Personality Disorde'\n",
      " 'High Cholesterol, Familial Homozygous'\n",
      " 'High Cholesterol, Familial Heterozygous' 'Influenza' 'Melanoma'\n",
      " \"Hodgkin's Lymphoma\" 'Bleeding Disorde' 'actor IX Deficiency'\n",
      " 'Emergency Contraception' 'Uterine Fibroids' \"Dupuytren's contracture\"\n",
      " \"Peyronie's Disease\" 'Prostatitis' 'Hyperlipoproteinemia'\n",
      " 'Ear Wax Impaction' 'Primary Nocturnal Enuresis' 'Ichthyosis'\n",
      " 'Iron Deficiency Anemia' 'Bulimia' 'Smoking Cessation' 'Vulvodynia'\n",
      " 'Hepatitis B' 'Burning Mouth Syndrome' 'Night Terrors' 'Hyperekplexia'\n",
      " 'Benzodiazepine Withdrawal' 'Dumping Syndrome' 'Glaucoma'\n",
      " 'Glaucoma/Intraocular Hypertension' 'Coronary Artery Disease'\n",
      " 'Polycythemia Vera' 'Myelofibrosis' 'Myotonia Congenita' 'Bone infection'\n",
      " 'Gonadotropin Inhibition' 'Osteolytic Bone Metastases of Solid Tumors'\n",
      " 'Osteolytic Bone Lesions of Multiple Myeloma' \"Wegener's Granulomatosis\"\n",
      " 'Alpha-1 Proteinase Inhibitor Deficiency' 'Skin or Soft Tissue Infection'\n",
      " 'Periodontitis' 'Acute Promyelocytic Leukemia' 'Tuberculosis, Latent'\n",
      " 'Bartonellosis' 'Tuberculosis, Prophylaxis' 'Streptococcal Infection'\n",
      " 'Hyperphosphatemia' 'Skin Rash' 'Hypoactive Sexual Desire Disorde'\n",
      " 'Stomach Ulce' 'Zollinger-Ellison Syndrome' 'Erosive Esophagitis'\n",
      " \"Barrett's Esophagus\" 'Keratosis' 'Human Papilloma Virus'\n",
      " 'Basal Cell Carcinoma' 'Condylomata Acuminata' 'Breakthrough Pain'\n",
      " 'Postoperative Pain' 'Sedation' 'Glioblastoma Multiforme'\n",
      " 'Macular Degeneration' 'Malignant Glioma' 'Conjunctivitis, Allergic'\n",
      " 'Adrenocortical Insufficiency' 'Ulcerative Proctitis'\n",
      " 'Binge Eating Disorde' 'Asperger Syndrome' 'Oppositional Defiant Disorde'\n",
      " 'Hereditary Angioedema' 'Bronchiectasis' 'Pseudotumor Cerebri'\n",
      " 'Lyme Disease, Neurologic' 'Systemic Mastocytosis' 'Gingivitis'\n",
      " 'Idiopathic Thrombocytopenic Purpura' 'NSAID-Induced Gastric Ulce'\n",
      " 'Duodenal Ulcer Prophylaxis' 'Ventricular Fibrillation'\n",
      " 'Computed Tomography' 'Secondary Hyperparathyroidism'\n",
      " 'Granuloma Annulare' 'Precocious Puberty' 'Breast Cancer, Adjuvant'\n",
      " 'Perimenopausal Symptoms' 'Insomnia, Stimulant-Associated'\n",
      " 'Hypertensive Emergency' 'Rabies Prophylaxis' 'Lennox-Gastaut Syndrome'\n",
      " 'Neurosurgery' 'Peptic Ulce' 'Anesthetic Adjunct'\n",
      " 'Inflammatory Bowel Disease' 'Lymphocytic Colitis'\n",
      " 'Myelodysplastic Syndrome' 'Cardiovascular Risk Reduction'\n",
      " 'Anxiety and Stress' 'Postpartum Depression'\n",
      " 'Persistent Depressive Disorde' 'Body Dysmorphic Disorde'\n",
      " 'Trichotillomania' 'Obstructive Sleep Apnea/Hypopnea Syndrome'\n",
      " 'Shift Work Sleep Disorde' 'Hypersomnia'\n",
      " 'Human Papillomavirus Prophylaxis' 'Thyroid Cance' 'TSH Suppression'\n",
      " 'Aplastic Anemia' 'Thrombocytopenia' 'Nasal Polyps' 'Tendonitis'\n",
      " 'Spondylolisthesis' 'Pudendal Neuralgia' 'Small Fiber Neuropathy'\n",
      " 'Chlamydia Infection' 'Gonococcal Infection, Uncomplicated'\n",
      " 'Bacterial Endocarditis Prevention' 'Pharyngitis' 'Cystic Fibrosis'\n",
      " 'Lyme Disease, Erythema Chronicum Migrans' 'Mycoplasma Pneumonia'\n",
      " 'Methicillin-Resistant Staphylococcus Aureus Infection' 'Bacteremia'\n",
      " 'Gastritis/Duodenitis' 'Stress Ulcer Prophylaxis' 'Malaria Prevention'\n",
      " 'Anorexia/Feeding Problems' 'CMV Prophylaxis' 'Gastroenteritis'\n",
      " 'Transient Ischemic Attack' 'Platelet Aggregation Inhibition'\n",
      " 'Peripheral Arterial Disease' 'Percutaneous Coronary Intervention'\n",
      " 'Joint Infection' 'Intraabdominal Infection'\n",
      " 'Gonococcal Infection, Disseminated' 'Pelvic Inflammatory Disease'\n",
      " 'Acute Coronary Syndrome' 'Menopausal Disorders' 'Tuberculosis, Active'\n",
      " 'Meningococcal Meningitis Prophylaxis' 'Women (minoxidil)'\n",
      " 'Topical Disinfection' 'Constipation, Drug Induced'\n",
      " 'Opioid-Induced Constipation' 'Progesterone Insufficiency'\n",
      " 'Hypoestrogenism' 'Hidradenitis Suppurativa' \"Reiter's Syndrome\"\n",
      " 'Somatoform Pain Disorde' 'Extrapyramidal Reaction'\n",
      " 'Gastric Ulcer Maintenance Treatment'\n",
      " 'Pathological Hypersecretory Conditions'\n",
      " 'Pancreatic Exocrine Dysfunction' 'NSAID-Induced Ulcer Prophylaxis'\n",
      " 'Otitis Externa' 'Primary Ovarian Failure' 'Niacin Deficiency'\n",
      " 'Hyperlipoproteinemia Type IV, Elevated VLDL'\n",
      " 'Oral and Dental Conditions' 't Care' 'Mania' 'Gaucher Disease'\n",
      " 'Angioedema' 'ibrocystic Breast Disease' 'Aspiration Pneumonia'\n",
      " 'Head Injury' 'Diabetic Macular Edema' \"Turner's Syndrome\"\n",
      " 'Vitamin B12 Deficiency' 'Costochondritis' 'min / pioglitazone)'\n",
      " \"Traveler's Diarrhea\" 'Allergies' 'Severe Mood Dysregulation'\n",
      " 'Liver Magnetic Resonance Imaging' 'Menorrhagia' 'Melasma'\n",
      " 'Dissociative Identity Disorde' 'Nephrocalcinosis'\n",
      " 'CNS Magnetic Resonance Imaging' 'mance Anxiety' 'Pe'\n",
      " 'Portal Hypertension' 'Thyrotoxicosis' 'Hemangioma' 'Varicella-Zoste'\n",
      " 'Ramsay Hunt Syndrome' 'Sepsis' 'Peritonitis'\n",
      " 'Multiple Endocrine Adenomas' 'Expectoration'\n",
      " 'Deep Vein Thrombosis Prophylaxis after Hip Replacement Surgery'\n",
      " 'Pain/Feve' 'Cutaneous T-cell Lymphoma' 'eve'\n",
      " 'Nausea/Vomiting, Radiation Induced'\n",
      " 'Chronic Inflammatory Demyelinating Polyradiculoneuropathy'\n",
      " 'acial Wrinkles' 'Urinary Tract Stones' 'Microscopic polyangiitis'\n",
      " 'Syringomyelia' 'Ovulation Induction' 'Allergic Urticaria'\n",
      " 'Ocular Rosacea' 'Renal Transplant'\n",
      " 'Postoperative Increased Intraocular Pressure' 'Carcinoid Tum'\n",
      " 'Small Bowel or Pancreatic Fistula' 'Neutropenia'\n",
      " 'Neutropenia Associated with Chemotherapy' 'Conjunctivitis' 'Warts'\n",
      " 'Porphyria' 'Upper Limb Spasticity' 'Strabismus'\n",
      " 'Intermittent Claudication' 'Hypocalcemia'\n",
      " 'Pulmonary Embolism, Recurrent Event'\n",
      " 'Deep Vein Thrombosis, Recurrent Event'\n",
      " 'Mountain Sickness / Altitude Sickness' 'Amyotrophic Lateral Sclerosis'\n",
      " 'Dyspareunia' 'min / rosiglitazone)' 'Hepatic Tum'\n",
      " 'Hepatocellular Carcinoma' 'Oligospermia' 'Reversal of Opioid Sedation'\n",
      " 'Opioid Overdose' 'Thrombocythemia' 'Light Anesthesia' 'ICU Agitation'\n",
      " 'Neck Pain' 'Chronic Myofascial Pain' 'Bursitis'\n",
      " 'Prevention of Perinatal Group B Streptococcal Disease'\n",
      " 'Mumps Prophylaxis' 'Pre-Exposure Prophylaxis' 'Nightmares'\n",
      " 'Herpes Simplex Dendritic Keratitis' 'Cyclitis' 'Keratitis'\n",
      " 'Eyelash Hypotrichosis' 'Schistosoma japonicum'\n",
      " 'Paragonimus westermani, Lung Fluke' 'Dementia' 'Aggressive Behavi'\n",
      " 'Cataplexy' 'Ophthalmic Surgery' 'Alcohol Dependence' 'Uterine Bleeding'\n",
      " 'Agitated State' 'Hypoparathyroidism' 'Trichomoniasis' 'Giardiasis'\n",
      " 'Anal Fissure and Fistula' 'Hyperthyroidism'\n",
      " 'Nonalcoholic Fatty Liver Disease'\n",
      " 'Radionuclide Myocardial Perfusion Study'\n",
      " 'Chronic Idiopathic Constipation' 'Parkinsonism'\n",
      " 'Prevention of Atherothrombotic Events' 'Myxedema Coma'\n",
      " 'Pupillary Dilation' 'Cluster-Tic Syndrome' 'Occupational Exposure'\n",
      " 'Breast Cancer, Palliative' 'Diarrhea, Acute'\n",
      " 'Nausea/Vomiting of Pregnancy' 'Diverticulitis' 'Infection Prophylaxis'\n",
      " 'Cholera' 'Anthrax' 'Typhoid Feve' 'Transverse Myelitis'\n",
      " 'Anemia, Sickle Cell' 'Ectopic Pregnancy' 'Gastric Cance' 'Scleroderma'\n",
      " 'Neoplastic Diseases' 'Systemic Sclerosis' \"Cogan's Syndrome\"\n",
      " \"Meniere's Disease\" 'Status Epilepticus' 'Tetanus'\n",
      " 'Endoscopy or Radiology Premedication'\n",
      " 'Hyperlipoproteinemia Type III, Elevated beta-VLDL   IDL'\n",
      " 'Testicular Cance' 'Esophageal Variceal Hemorrhage Prophylaxis'\n",
      " 'Breast Cancer, Prevention' 'Neurosis' 'Mild Cognitive Impairment'\n",
      " 'Postpartum Breast Pain' 'Delayed Puberty, Male' 'Klinefelter Syndrome'\n",
      " 'Yellow Fever Prophylaxis' 'Hemophilia B' 'Noninfectious Colitis'\n",
      " 'm Pain Disorde' 'Blepharitis' 'Hyperuricemia Secondary to Chemotherapy'\n",
      " 'Dental Abscess' 'Hyperparathyroidism Secondary to Renal Impairment'\n",
      " 'Schnitzler Syndrome' 'Lactation Augmentation'\n",
      " 'Pediatric Growth Hormone Deficiency' 'Jet Lag' 'Hepatitis B Prevention'\n",
      " 'ge (amlodipine / valsartan)' 'Organ Transplant, Rejection Reversal'\n",
      " 'Mantle Cell Lymphoma' 'Lipodystrophy' 'Nocardiosis' 'Urinary Retention'\n",
      " 'Abdominal Distension' 'Mixed Connective Tissue Disease'\n",
      " 'Autoimmune Hemolytic Anemia' 'Uveitis, Posteri'\n",
      " 'Epicondylitis, Tennis Elbow' 'Leukemia' 'Solid Tumors'\n",
      " 'Gastrointestinal Hemorrhage' 'Submental Fullness' 'Swine Flu'\n",
      " 'Avian Influenza' 'Amebiasis' 'Salivary Gland Cance'\n",
      " 'Acute Nonlymphocytic Leukemia'\n",
      " 'Deep Vein Thrombosis Prophylaxis after Knee Replacement Surgery'\n",
      " 'Prosthetic Heart Valves, Tissue Valves - Thrombosis Prophylaxis'\n",
      " 'Antiphospholipid Syndrome' 'Pulmonary Embolism, First Event'\n",
      " 'Deep Vein Thrombosis, First Event' 'Hairy Cell Leukemia'\n",
      " 'Infectious Diarrhea' 'Salmonella Gastroenteritis'\n",
      " 'Epididymitis, Sexually Transmitted' 'Hypercalcemia' 'Pulmonary Edema'\n",
      " 'Ehrlichiosis' 'Q Feve' 'Schilling Test' 'B12 Nutritional Deficiency'\n",
      " 'Pseudomembranous Colitis' 'Premature Ventricular Depolarizations'\n",
      " 'Cerebrovascular Insufficiency' 'Hypokalemic Periodic Paralysis'\n",
      " 'Babesiosis' 'Tic Disorde' 'acial Lipoatrophy' 'Euvolemic Hyponatremia'\n",
      " 'Croup' 'Dermatitis Herpetiformis' 'Skin Cance' 'Toothache'\n",
      " 'Patent Ductus Arteriosus' 'Hydrocephalus' 'Somat'\n",
      " 'Intermittent Explosive Disorde' 'Dietary Fiber Supplementation'\n",
      " 'Sleep Paralysis' 'mulation) (phenylephrine)' 'Parkinsonian Trem'\n",
      " 'Small Bowel Bacterial Overgrowth'\n",
      " 'Steroid Responsive Inflammatory Conditions' 'Opiate Adjunct'\n",
      " 'Coccidioidomycosis' 'Aspergillosis, Aspergilloma' 'Candidemia'\n",
      " 'Hyperkalemia' 'ge HCT (amlodipine / hydrochlorothiazide / valsartan)'\n",
      " 'Performance Anxiety' 'Premature Ejaculation'\n",
      " 'Polymyositis/Dermatomyositis' 'Cerebral Edema' \"Wilson's Disease\"\n",
      " 'Dermatitis Herpeti' 'Stomach Cance' 'Post-Cholecystectomy Diarrhea'\n",
      " 'Pruritus of Partial Biliary Obstruction' 'Dientamoeba fragilis'\n",
      " 'Women (oxybutynin)' 't Pac with Cyclobenzaprine (cyclobenzaprine)'\n",
      " 'Rejection Prophylaxis' 'Short Stature for Age' 'Atherosclerosis'\n",
      " 'Varicose Veins' 'Campylobacter Gastroenteritis' 'Gestational Diabetes'\n",
      " 'Rat-bite Feve' 'Cyclothymic Disorde' 'Corneal Ulce' 'Anaphylaxis'\n",
      " 'Cutaneous Larva Migrans' 'ailure to Thrive' 'Renal Tubular Acidosis'\n",
      " 'Lewy Body Dementia' 'Nausea (phosphorated carbohydrate solution)'\n",
      " 'Eosinophilic Esophagitis' 'Hemorrhoids (pramoxine / zinc oxide)'\n",
      " 'unctional Gastric Disorde'\n",
      " 'Prosthetic Heart Valves, Mechanical Valves - Thrombosis Prophylaxis'\n",
      " 'Anti NMDA Receptor Encephalitis' 'Tinea Barbae' 'Short Stature'\n",
      " 'Hypopituitarism' 'Pertussis' 'Pertussis Prophylaxis'\n",
      " 'Legionella Pneumonia' 'llicular Lymphoma' 'tic (mycophenolic acid)'\n",
      " 'Neurotic Depression' 'ungal Pneumonia' 'Candida Urinary Tract Infection'\n",
      " 'Systemic Candidiasis' 'Esophageal Candidiasis' 'AV Heart Block'\n",
      " 'Hyperbilirubinemia' 'Thyroid Suppression Test' 'min / saxagliptin)'\n",
      " 'Meningitis, Meningococcal' 'Diagnostic Bronchograms'\n",
      " 'ungal Infection Prophylaxis' 'Histoplasmosis' 'Sporotrichosis']\n"
     ]
    }
   ],
   "source": [
    "print(all_conditions.shape)\n",
    "print(selected_conditions.shape)\n",
    "print(selected_conditions.condition.unique().size)\n",
    "print(all_conditions.condition.unique())"
   ],
   "metadata": {
    "collapsed": false,
    "pycharm": {
     "name": "#%%\n"
    }
   }
  },
  {
   "cell_type": "code",
   "execution_count": 32,
   "outputs": [],
   "source": [
    "latest_dataset = selected_conditions[[\"drugName\",\"condition\",\"text\",\"rating\",\"rating_label\"]]"
   ],
   "metadata": {
    "collapsed": false,
    "pycharm": {
     "name": "#%%\n"
    }
   }
  },
  {
   "cell_type": "code",
   "execution_count": 35,
   "outputs": [],
   "source": [
    "latest_dataset.to_csv(f\"condition_drugName_label_text_dataset.csv\", index=False)"
   ],
   "metadata": {
    "collapsed": false,
    "pycharm": {
     "name": "#%%\n"
    }
   }
  },
  {
   "cell_type": "code",
   "execution_count": 44,
   "outputs": [
    {
     "data": {
      "text/plain": "781    I've been diagnosed with ADD at the age of 42 ...\nName: text, dtype: object"
     },
     "execution_count": 44,
     "metadata": {},
     "output_type": "execute_result"
    }
   ],
   "source": [],
   "metadata": {
    "collapsed": false,
    "pycharm": {
     "name": "#%%\n"
    }
   }
  },
  {
   "cell_type": "code",
   "execution_count": 24,
   "outputs": [
    {
     "name": "stderr",
     "output_type": "stream",
     "text": [
      "[nltk_data] Downloading package stopwords to\n",
      "[nltk_data]     /Users/aliakkaya/nltk_data...\n",
      "[nltk_data]   Package stopwords is already up-to-date!\n",
      "/var/folders/n1/z4n1dv014gq2l7525zb6vs440000gn/T/ipykernel_253/55925020.py:9: SettingWithCopyWarning: \n",
      "A value is trying to be set on a copy of a slice from a DataFrame.\n",
      "Try using .loc[row_indexer,col_indexer] = value instead\n",
      "\n",
      "See the caveats in the documentation: https://pandas.pydata.org/pandas-docs/stable/user_guide/indexing.html#returning-a-view-versus-a-copy\n",
      "  selected_conditions['cleaned'] = selected_conditions['text'].apply(lambda x: \" \".join([stemmer.stem(i) for i in re.sub(\"[^a-zA-Z]\", \" \", x).split() if i not in words]).lower())\n"
     ]
    }
   ],
   "source": [
    "import re\n",
    "from nltk import PorterStemmer\n",
    "import nltk\n",
    "nltk.download('stopwords')\n",
    "from nltk.corpus import stopwords\n",
    "\n",
    "stemmer = PorterStemmer()\n",
    "words = stopwords.words(\"english\")\n",
    "selected_conditions['cleaned'] = selected_conditions['text'].apply(lambda x: \" \".join([stemmer.stem(i) for i in re.sub(\"[^a-zA-Z]\", \" \", x).split() if i not in words]).lower())"
   ],
   "metadata": {
    "collapsed": false,
    "pycharm": {
     "name": "#%%\n"
    }
   }
  },
  {
   "cell_type": "code",
   "execution_count": 25,
   "outputs": [],
   "source": [
    "from nltk.corpus import stopwords\n",
    "from nltk.stem import PorterStemmer\n",
    "from sklearn.feature_extraction.text import TfidfVectorizer\n",
    "from sklearn.pipeline import Pipeline\n",
    "from sklearn.metrics import classification_report, confusion_matrix\n",
    "from sklearn.model_selection import train_test_split\n",
    "from sklearn.feature_selection import SelectKBest, chi2\n",
    "import pickle\n",
    "import numpy as np"
   ],
   "metadata": {
    "collapsed": false,
    "pycharm": {
     "name": "#%%\n"
    }
   }
  },
  {
   "cell_type": "code",
   "execution_count": null,
   "outputs": [],
   "source": [],
   "metadata": {
    "collapsed": false,
    "pycharm": {
     "name": "#%%\n"
    }
   }
  },
  {
   "cell_type": "code",
   "execution_count": 26,
   "outputs": [
    {
     "data": {
      "text/plain": "Index(['Unnamed: 0', 'drugName', 'condition', 'review', 'rating', 'date',\n       'usefulCount', 'rating_label', 'plain_text', 'text', 'cleaned'],\n      dtype='object')"
     },
     "execution_count": 26,
     "metadata": {},
     "output_type": "execute_result"
    }
   ],
   "source": [
    "selected_conditions.keys()"
   ],
   "metadata": {
    "collapsed": false,
    "pycharm": {
     "name": "#%%\n"
    }
   }
  },
  {
   "cell_type": "code",
   "execution_count": 27,
   "outputs": [
    {
     "name": "stdout",
     "output_type": "stream",
     "text": [
      "Features are done\n"
     ]
    },
    {
     "name": "stderr",
     "output_type": "stream",
     "text": [
      "/Users/aliakkaya/PycharmProjects/drugRepositioning/venv/lib/python3.9/site-packages/sklearn/linear_model/_logistic.py:444: ConvergenceWarning: lbfgs failed to converge (status=1):\n",
      "STOP: TOTAL NO. of ITERATIONS REACHED LIMIT.\n",
      "\n",
      "Increase the number of iterations (max_iter) or scale the data as shown in:\n",
      "    https://scikit-learn.org/stable/modules/preprocessing.html\n",
      "Please also refer to the documentation for alternative solver options:\n",
      "    https://scikit-learn.org/stable/modules/linear_model.html#logistic-regression\n",
      "  n_iter_i = _check_optimize_result(\n"
     ]
    },
    {
     "name": "stdout",
     "output_type": "stream",
     "text": [
      "              precision    recall  f1-score   support\n",
      "\n",
      "          -1       0.72      0.47      0.57      2552\n",
      "           0       0.00      0.00      0.00       990\n",
      "           1       0.81      0.97      0.88      9136\n",
      "\n",
      "    accuracy                           0.79     12678\n",
      "   macro avg       0.51      0.48      0.48     12678\n",
      "weighted avg       0.72      0.79      0.75     12678\n",
      "\n",
      "[[1191    3 1358]\n",
      " [ 205    0  785]\n",
      " [ 264    1 8871]]\n"
     ]
    }
   ],
   "source": [
    "vectorizer = TfidfVectorizer(min_df= 3, stop_words=\"english\", sublinear_tf=True, norm='l2', ngram_range=(1, 3))\n",
    "final_features = vectorizer.fit_transform(selected_conditions['cleaned']).toarray()\n",
    "\n",
    "print(\"Features are done\")\n",
    "\n",
    "\n",
    "\n",
    "from sklearn.linear_model import LogisticRegression\n",
    "X = selected_conditions['cleaned']\n",
    "Y = selected_conditions['rating_label']\n",
    "X_train, X_test, y_train, y_test = train_test_split(X, Y, test_size=0.25)\n",
    "\n",
    "pipeline = Pipeline([('vect', vectorizer),\n",
    "                     ('chi',  SelectKBest(chi2, k=1200)),\n",
    "                     ('clf', LogisticRegression(random_state=0))])\n",
    "\n",
    "model = pipeline.fit(X_train, y_train)\n",
    "with open('LogisticRegression.pickle', 'wb') as f:\n",
    "    pickle.dump(model, f)\n",
    "\n",
    "ytest = np.array(y_test)\n",
    "\n",
    "# confusion matrix and classification report(precision, recall, F1-score)\n",
    "print(classification_report(ytest, model.predict(X_test)))\n",
    "print(confusion_matrix(ytest, model.predict(X_test)))"
   ],
   "metadata": {
    "collapsed": false,
    "pycharm": {
     "name": "#%%\n"
    }
   }
  }
 ],
 "metadata": {
  "kernelspec": {
   "display_name": "Python 3",
   "language": "python",
   "name": "python3"
  },
  "language_info": {
   "codemirror_mode": {
    "name": "ipython",
    "version": 2
   },
   "file_extension": ".py",
   "mimetype": "text/x-python",
   "name": "python",
   "nbconvert_exporter": "python",
   "pygments_lexer": "ipython2",
   "version": "2.7.6"
  }
 },
 "nbformat": 4,
 "nbformat_minor": 0
}