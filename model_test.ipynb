{
 "cells": [
  {
   "cell_type": "code",
   "execution_count": 1,
   "metadata": {
    "collapsed": true,
    "pycharm": {
     "name": "#%%\n"
    }
   },
   "outputs": [],
   "source": [
    "import numpy as np # linear algebra\n",
    "import pandas as pd\n",
    "import re\n",
    "import matplotlib.pyplot as plt\n",
    "from nltk.corpus import stopwords\n",
    "from nltk.stem import PorterStemmer\n",
    "from sklearn.feature_extraction.text import TfidfVectorizer\n",
    "from sklearn.pipeline import Pipeline\n",
    "from sklearn.metrics import classification_report, confusion_matrix\n",
    "from sklearn.model_selection import train_test_split\n",
    "from sklearn.feature_selection import SelectKBest, chi2\n",
    "from sqlite3 import Error\n",
    "from sklearn.ensemble import RandomForestClassifier\n",
    "import sqlite3\n",
    "import pickle\n",
    "import nltk\n",
    "#nltk.download('stopwords')\n",
    "%matplotlib inline"
   ]
  },
  {
   "cell_type": "code",
   "execution_count": 2,
   "outputs": [
    {
     "data": {
      "text/plain": "   Unnamed: 0             drugName                  condition  \\\n0           0  Medroxyprogesterone  Abnormal Uterine Bleeding   \n1           2  Medroxyprogesterone                 Amenorrhea   \n2           3  Medroxyprogesterone  Abnormal Uterine Bleeding   \n3           4  Medroxyprogesterone              Birth Control   \n4           5  Medroxyprogesterone  Abnormal Uterine Bleeding   \n\n                                              review  rating  \\\n0  \"Been on the depo injection since January 2015...     3.0   \n1  \"I&#039;m 21 years old and recently found out ...    10.0   \n2  \"I have been on the shot 11 years and until a ...     8.0   \n3  \"Ive had four shots at this point. I was on bi...     9.0   \n4  \"I had a total of 3 shots. I got my first one ...     1.0   \n\n               date  usefulCount  rating_label  \\\n0  October 28, 2015            4            -1   \n1  October 27, 2015           11             1   \n2  October 27, 2015            7             1   \n3  October 26, 2015           12             1   \n4  October 25, 2015            4            -1   \n\n                                          plain_text  \\\n0  \"Been on the depo injection since January 2015...   \n1  \"I'm 21 years old and recently found out I mig...   \n2  \"I have been on the shot 11 years and until a ...   \n3  \"Ive had four shots at this point. I was on bi...   \n4  \"I had a total of 3 shots. I got my first one ...   \n\n                                                text  \n0  Been on the depo injection since January 2015,...  \n1  I'm 21 years old and recently found out I migh...  \n2  I have been on the shot 11 years and until a m...  \n3  Ive had four shots at this point. I was on bir...  \n4  I had a total of 3 shots. I got my first one b...  ",
      "text/html": "<div>\n<style scoped>\n    .dataframe tbody tr th:only-of-type {\n        vertical-align: middle;\n    }\n\n    .dataframe tbody tr th {\n        vertical-align: top;\n    }\n\n    .dataframe thead th {\n        text-align: right;\n    }\n</style>\n<table border=\"1\" class=\"dataframe\">\n  <thead>\n    <tr style=\"text-align: right;\">\n      <th></th>\n      <th>Unnamed: 0</th>\n      <th>drugName</th>\n      <th>condition</th>\n      <th>review</th>\n      <th>rating</th>\n      <th>date</th>\n      <th>usefulCount</th>\n      <th>rating_label</th>\n      <th>plain_text</th>\n      <th>text</th>\n    </tr>\n  </thead>\n  <tbody>\n    <tr>\n      <th>0</th>\n      <td>0</td>\n      <td>Medroxyprogesterone</td>\n      <td>Abnormal Uterine Bleeding</td>\n      <td>\"Been on the depo injection since January 2015...</td>\n      <td>3.0</td>\n      <td>October 28, 2015</td>\n      <td>4</td>\n      <td>-1</td>\n      <td>\"Been on the depo injection since January 2015...</td>\n      <td>Been on the depo injection since January 2015,...</td>\n    </tr>\n    <tr>\n      <th>1</th>\n      <td>2</td>\n      <td>Medroxyprogesterone</td>\n      <td>Amenorrhea</td>\n      <td>\"I&amp;#039;m 21 years old and recently found out ...</td>\n      <td>10.0</td>\n      <td>October 27, 2015</td>\n      <td>11</td>\n      <td>1</td>\n      <td>\"I'm 21 years old and recently found out I mig...</td>\n      <td>I'm 21 years old and recently found out I migh...</td>\n    </tr>\n    <tr>\n      <th>2</th>\n      <td>3</td>\n      <td>Medroxyprogesterone</td>\n      <td>Abnormal Uterine Bleeding</td>\n      <td>\"I have been on the shot 11 years and until a ...</td>\n      <td>8.0</td>\n      <td>October 27, 2015</td>\n      <td>7</td>\n      <td>1</td>\n      <td>\"I have been on the shot 11 years and until a ...</td>\n      <td>I have been on the shot 11 years and until a m...</td>\n    </tr>\n    <tr>\n      <th>3</th>\n      <td>4</td>\n      <td>Medroxyprogesterone</td>\n      <td>Birth Control</td>\n      <td>\"Ive had four shots at this point. I was on bi...</td>\n      <td>9.0</td>\n      <td>October 26, 2015</td>\n      <td>12</td>\n      <td>1</td>\n      <td>\"Ive had four shots at this point. I was on bi...</td>\n      <td>Ive had four shots at this point. I was on bir...</td>\n    </tr>\n    <tr>\n      <th>4</th>\n      <td>5</td>\n      <td>Medroxyprogesterone</td>\n      <td>Abnormal Uterine Bleeding</td>\n      <td>\"I had a total of 3 shots. I got my first one ...</td>\n      <td>1.0</td>\n      <td>October 25, 2015</td>\n      <td>4</td>\n      <td>-1</td>\n      <td>\"I had a total of 3 shots. I got my first one ...</td>\n      <td>I had a total of 3 shots. I got my first one b...</td>\n    </tr>\n  </tbody>\n</table>\n</div>"
     },
     "execution_count": 2,
     "metadata": {},
     "output_type": "execute_result"
    }
   ],
   "source": [
    "dataset = pd.read_csv('drugsComAll_final.csv')\n",
    "dataset.head()"
   ],
   "metadata": {
    "collapsed": false,
    "pycharm": {
     "name": "#%%\n"
    }
   }
  },
  {
   "cell_type": "markdown",
   "source": [],
   "metadata": {
    "collapsed": false,
    "pycharm": {
     "name": "#%% md\n"
    }
   }
  },
  {
   "cell_type": "code",
   "execution_count": 3,
   "outputs": [],
   "source": [
    "dataset = dataset[[\"text\",\"rating_label\"]]"
   ],
   "metadata": {
    "collapsed": false,
    "pycharm": {
     "name": "#%%\n"
    }
   }
  },
  {
   "cell_type": "code",
   "execution_count": 7,
   "outputs": [
    {
     "data": {
      "text/plain": "<Figure size 640x480 with 1 Axes>",
      "image/png": "[encoded data removed]"
     },
     "metadata": {},
     "output_type": "display_data"
    }
   ],
   "source": [
    "dataset.groupby('rating_label').text.count().plot.bar(ylim=0)\n",
    "plt.show()"
   ],
   "metadata": {
    "collapsed": false,
    "pycharm": {
     "name": "#%%\n"
    }
   }
  },
  {
   "cell_type": "code",
   "execution_count": 4,
   "outputs": [],
   "source": [
    "#nltk.download('stopwords')\n",
    "stemmer = PorterStemmer()\n",
    "words = stopwords.words(\"english\")\n",
    "dataset['cleaned'] = dataset['text'].apply(lambda x: \" \".join([stemmer.stem(i) for i in re.sub(\"[^a-zA-Z]\", \" \", x).split() if i not in words]).lower())"
   ],
   "metadata": {
    "collapsed": false,
    "pycharm": {
     "name": "#%%\n"
    }
   }
  },
  {
   "cell_type": "code",
   "execution_count": 5,
   "outputs": [
    {
     "data": {
      "text/plain": "                                                text  rating_label  \\\n0  Been on the depo injection since January 2015,...            -1   \n1  I'm 21 years old and recently found out I migh...             1   \n2  I have been on the shot 11 years and until a m...             1   \n3  Ive had four shots at this point. I was on bir...             1   \n4  I had a total of 3 shots. I got my first one b...            -1   \n5  This is a horrible shot!! I got my first shot ...            -1   \n6  I'm 18 and got this for heavy bleeding. I've a...             0   \n7  Im 19 and have been having heavy and painful p...             0   \n8  I'm a 30 year old woman. I got the shot on Aug...            -1   \n9  I'm 17 years old and I got shot in August 2015...             1   \n\n                                             cleaned  \n0  been depo inject sinc januari bleed stop when ...  \n1  i year old recent found i might pco i gotten p...  \n2  i shot year month ago never period even spot a...  \n3  ive four shot point i birth control pill year ...  \n4  i total shot i got first one leav hospit give ...  \n5  thi horribl shot i got first shot august ever ...  \n6  i got heavi bleed i alway heard bc make gain w...  \n7  im heavi pain period sinc forev i got depo sho...  \n8  i year old woman i got shot august th i bleed ...  \n9  i year old i got shot august person i mind i m...  ",
      "text/html": "<div>\n<style scoped>\n    .dataframe tbody tr th:only-of-type {\n        vertical-align: middle;\n    }\n\n    .dataframe tbody tr th {\n        vertical-align: top;\n    }\n\n    .dataframe thead th {\n        text-align: right;\n    }\n</style>\n<table border=\"1\" class=\"dataframe\">\n  <thead>\n    <tr style=\"text-align: right;\">\n      <th></th>\n      <th>text</th>\n      <th>rating_label</th>\n      <th>cleaned</th>\n    </tr>\n  </thead>\n  <tbody>\n    <tr>\n      <th>0</th>\n      <td>Been on the depo injection since January 2015,...</td>\n      <td>-1</td>\n      <td>been depo inject sinc januari bleed stop when ...</td>\n    </tr>\n    <tr>\n      <th>1</th>\n      <td>I'm 21 years old and recently found out I migh...</td>\n      <td>1</td>\n      <td>i year old recent found i might pco i gotten p...</td>\n    </tr>\n    <tr>\n      <th>2</th>\n      <td>I have been on the shot 11 years and until a m...</td>\n      <td>1</td>\n      <td>i shot year month ago never period even spot a...</td>\n    </tr>\n    <tr>\n      <th>3</th>\n      <td>Ive had four shots at this point. I was on bir...</td>\n      <td>1</td>\n      <td>ive four shot point i birth control pill year ...</td>\n    </tr>\n    <tr>\n      <th>4</th>\n      <td>I had a total of 3 shots. I got my first one b...</td>\n      <td>-1</td>\n      <td>i total shot i got first one leav hospit give ...</td>\n    </tr>\n    <tr>\n      <th>5</th>\n      <td>This is a horrible shot!! I got my first shot ...</td>\n      <td>-1</td>\n      <td>thi horribl shot i got first shot august ever ...</td>\n    </tr>\n    <tr>\n      <th>6</th>\n      <td>I'm 18 and got this for heavy bleeding. I've a...</td>\n      <td>0</td>\n      <td>i got heavi bleed i alway heard bc make gain w...</td>\n    </tr>\n    <tr>\n      <th>7</th>\n      <td>Im 19 and have been having heavy and painful p...</td>\n      <td>0</td>\n      <td>im heavi pain period sinc forev i got depo sho...</td>\n    </tr>\n    <tr>\n      <th>8</th>\n      <td>I'm a 30 year old woman. I got the shot on Aug...</td>\n      <td>-1</td>\n      <td>i year old woman i got shot august th i bleed ...</td>\n    </tr>\n    <tr>\n      <th>9</th>\n      <td>I'm 17 years old and I got shot in August 2015...</td>\n      <td>1</td>\n      <td>i year old i got shot august person i mind i m...</td>\n    </tr>\n  </tbody>\n</table>\n</div>"
     },
     "execution_count": 5,
     "metadata": {},
     "output_type": "execute_result"
    }
   ],
   "source": [
    "dataset.head(10)"
   ],
   "metadata": {
    "collapsed": false,
    "pycharm": {
     "name": "#%%\n"
    }
   }
  },
  {
   "cell_type": "code",
   "execution_count": null,
   "outputs": [],
   "source": [
    "vectorizer = TfidfVectorizer(min_df= 3, stop_words=\"english\", sublinear_tf=True, norm='l2', ngram_range=(1, 2))\n",
    "final_features = vectorizer.fit_transform(dataset['cleaned']).toarray()\n",
    "final_features.shape"
   ],
   "metadata": {
    "collapsed": false,
    "pycharm": {
     "name": "#%%\n"
    }
   }
  },
  {
   "cell_type": "code",
   "execution_count": null,
   "outputs": [],
   "source": [
    "vectorizer = TfidfVectorizer(min_df= 3, stop_words=\"english\", sublinear_tf=True, norm='l2', ngram_range=(1, 2))\n",
    "final_features = vectorizer.fit_transform(dataset['cleaned']).toarray()\n",
    "final_features.shape\n",
    "print(\"Features are done\")\n",
    "from sklearn.linear_model import LogisticRegression\n",
    "X = dataset['cleaned']\n",
    "Y = dataset['category']\n",
    "X_train, X_test, y_train, y_test = train_test_split(X, Y, test_size=0.25)\n",
    "\n",
    "pipeline = Pipeline([('vect', vectorizer),\n",
    "                     ('chi',  SelectKBest(chi2, k=1200)),\n",
    "                     ('clf', LogisticRegression(random_state=0))])\n",
    "\n",
    "model = pipeline.fit(X_train, y_train)\n",
    "with open('LogisticRegression.pickle', 'wb') as f:\n",
    "    pickle.dump(model, f)\n",
    "\n",
    "ytest = np.array(y_test)\n",
    "\n",
    "# confusion matrix and classification report(precision, recall, F1-score)\n",
    "print(classification_report(ytest, model.predict(X_test)))\n",
    "print(confusion_matrix(ytest, model.predict(X_test)))"
   ],
   "metadata": {
    "collapsed": false,
    "pycharm": {
     "name": "#%%\n",
     "is_executing": true
    }
   }
  }
 ],
 "metadata": {
  "kernelspec": {
   "display_name": "Python 3",
   "language": "python",
   "name": "python3"
  },
  "language_info": {
   "codemirror_mode": {
    "name": "ipython",
    "version": 2
   },
   "file_extension": ".py",
   "mimetype": "text/x-python",
   "name": "python",
   "nbconvert_exporter": "python",
   "pygments_lexer": "ipython2",
   "version": "2.7.6"
  }
 },
 "nbformat": 4,
 "nbformat_minor": 0
}