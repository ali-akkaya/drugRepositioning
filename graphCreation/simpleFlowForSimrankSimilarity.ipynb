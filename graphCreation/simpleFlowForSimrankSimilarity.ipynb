{
 "cells": [
  {
   "cell_type": "code",
   "execution_count": 1,
   "metadata": {
    "collapsed": true,
    "pycharm": {
     "name": "#%%\n"
    }
   },
   "outputs": [],
   "source": [
    "import pandas as pd\n",
    "import networkx as nx"
   ]
  },
  {
   "cell_type": "code",
   "execution_count": 22,
   "outputs": [
    {
     "name": "stderr",
     "output_type": "stream",
     "text": [
      "/var/folders/n1/z4n1dv014gq2l7525zb6vs440000gn/T/ipykernel_45775/3081820492.py:1: FutureWarning: The error_bad_lines argument has been deprecated and will be removed in a future version. Use on_bad_lines in the future.\n",
      "\n",
      "\n",
      "  dataWithThreatsPredicate= pd.read_csv(\"../graphCreation/predicates/treats_freq_5.csv\", delimiter=';', error_bad_lines=False, encoding = 'unicode_escape')\n",
      "Skipping line 4046: expected 6 fields, saw 7\n",
      "Skipping line 5104: expected 6 fields, saw 7\n",
      "Skipping line 5105: expected 6 fields, saw 7\n",
      "Skipping line 5537: expected 6 fields, saw 7\n",
      "Skipping line 5992: expected 6 fields, saw 7\n",
      "Skipping line 6711: expected 6 fields, saw 7\n",
      "Skipping line 8597: expected 6 fields, saw 7\n",
      "Skipping line 9803: expected 6 fields, saw 7\n",
      "Skipping line 10152: expected 6 fields, saw 7\n",
      "Skipping line 12313: expected 6 fields, saw 7\n",
      "Skipping line 13074: expected 6 fields, saw 7\n",
      "Skipping line 16251: expected 6 fields, saw 7\n",
      "Skipping line 17080: expected 6 fields, saw 7\n",
      "Skipping line 18202: expected 6 fields, saw 7\n",
      "Skipping line 20597: expected 6 fields, saw 7\n",
      "Skipping line 20976: expected 6 fields, saw 7\n",
      "Skipping line 21160: expected 6 fields, saw 7\n",
      "Skipping line 22586: expected 6 fields, saw 7\n",
      "Skipping line 22755: expected 6 fields, saw 7\n",
      "Skipping line 22900: expected 6 fields, saw 7\n",
      "Skipping line 23434: expected 6 fields, saw 7\n",
      "Skipping line 23748: expected 6 fields, saw 7\n",
      "Skipping line 24469: expected 6 fields, saw 7\n",
      "Skipping line 24936: expected 6 fields, saw 7\n",
      "Skipping line 25279: expected 6 fields, saw 7\n",
      "Skipping line 25695: expected 6 fields, saw 7\n",
      "Skipping line 25734: expected 6 fields, saw 7\n",
      "Skipping line 27644: expected 6 fields, saw 7\n",
      "Skipping line 28219: expected 6 fields, saw 7\n",
      "Skipping line 28606: expected 6 fields, saw 7\n",
      "Skipping line 29084: expected 6 fields, saw 7\n",
      "Skipping line 29478: expected 6 fields, saw 7\n",
      "Skipping line 29578: expected 6 fields, saw 7\n",
      "Skipping line 30361: expected 6 fields, saw 7\n",
      "Skipping line 31755: expected 6 fields, saw 7\n",
      "Skipping line 32331: expected 6 fields, saw 7\n",
      "Skipping line 33171: expected 6 fields, saw 7\n",
      "Skipping line 33744: expected 6 fields, saw 7\n",
      "Skipping line 33916: expected 6 fields, saw 7\n",
      "Skipping line 34149: expected 6 fields, saw 7\n",
      "Skipping line 35051: expected 6 fields, saw 7\n",
      "Skipping line 35339: expected 6 fields, saw 7\n",
      "Skipping line 38700: expected 6 fields, saw 7\n",
      "Skipping line 39228: expected 6 fields, saw 7\n",
      "Skipping line 39420: expected 6 fields, saw 7\n",
      "Skipping line 39553: expected 6 fields, saw 7\n",
      "Skipping line 40495: expected 6 fields, saw 7\n",
      "Skipping line 41015: expected 6 fields, saw 7\n",
      "Skipping line 41967: expected 6 fields, saw 7\n",
      "Skipping line 42240: expected 6 fields, saw 7\n",
      "Skipping line 42729: expected 6 fields, saw 7\n",
      "Skipping line 43371: expected 6 fields, saw 7\n",
      "Skipping line 43896: expected 6 fields, saw 7\n",
      "Skipping line 43898: expected 6 fields, saw 7\n",
      "Skipping line 44155: expected 6 fields, saw 7\n",
      "Skipping line 46124: expected 6 fields, saw 7\n",
      "Skipping line 46215: expected 6 fields, saw 7\n",
      "Skipping line 46951: expected 6 fields, saw 7\n",
      "Skipping line 54286: expected 6 fields, saw 7\n",
      "Skipping line 54644: expected 6 fields, saw 7\n",
      "Skipping line 57380: expected 6 fields, saw 7\n",
      "Skipping line 59621: expected 6 fields, saw 7\n",
      "Skipping line 60489: expected 6 fields, saw 7\n",
      "Skipping line 61278: expected 6 fields, saw 7\n",
      "Skipping line 63282: expected 6 fields, saw 7\n",
      "Skipping line 63558: expected 6 fields, saw 7\n",
      "Skipping line 64431: expected 6 fields, saw 7\n",
      "Skipping line 65714: expected 6 fields, saw 7\n",
      "Skipping line 65715: expected 6 fields, saw 7\n",
      "Skipping line 69108: expected 6 fields, saw 7\n",
      "Skipping line 69879: expected 6 fields, saw 7\n",
      "Skipping line 73323: expected 6 fields, saw 7\n",
      "Skipping line 73324: expected 6 fields, saw 7\n",
      "Skipping line 73377: expected 6 fields, saw 7\n",
      "Skipping line 74355: expected 6 fields, saw 7\n",
      "Skipping line 74778: expected 6 fields, saw 7\n",
      "Skipping line 78980: expected 6 fields, saw 7\n",
      "Skipping line 79924: expected 6 fields, saw 7\n",
      "Skipping line 80249: expected 6 fields, saw 7\n",
      "Skipping line 80251: expected 6 fields, saw 7\n",
      "Skipping line 81374: expected 6 fields, saw 7\n",
      "Skipping line 84925: expected 6 fields, saw 7\n",
      "Skipping line 86097: expected 6 fields, saw 7\n",
      "Skipping line 86956: expected 6 fields, saw 7\n",
      "Skipping line 87880: expected 6 fields, saw 7\n",
      "Skipping line 89715: expected 6 fields, saw 7\n",
      "Skipping line 90987: expected 6 fields, saw 7\n",
      "Skipping line 91502: expected 6 fields, saw 7\n",
      "Skipping line 91732: expected 6 fields, saw 7\n",
      "Skipping line 94175: expected 6 fields, saw 7\n",
      "Skipping line 95144: expected 6 fields, saw 7\n",
      "Skipping line 95570: expected 6 fields, saw 7\n",
      "Skipping line 95653: expected 6 fields, saw 7\n",
      "Skipping line 95771: expected 6 fields, saw 7\n",
      "Skipping line 98766: expected 6 fields, saw 7\n",
      "Skipping line 99618: expected 6 fields, saw 7\n",
      "Skipping line 99684: expected 6 fields, saw 7\n",
      "Skipping line 101844: expected 6 fields, saw 7\n",
      "Skipping line 102178: expected 6 fields, saw 7\n",
      "Skipping line 102901: expected 6 fields, saw 7\n",
      "Skipping line 103160: expected 6 fields, saw 7\n",
      "Skipping line 103162: expected 6 fields, saw 7\n",
      "Skipping line 104029: expected 6 fields, saw 7\n",
      "Skipping line 104331: expected 6 fields, saw 7\n",
      "Skipping line 107929: expected 6 fields, saw 7\n",
      "Skipping line 108938: expected 6 fields, saw 7\n",
      "Skipping line 110554: expected 6 fields, saw 7\n",
      "Skipping line 110862: expected 6 fields, saw 7\n",
      "Skipping line 114574: expected 6 fields, saw 7\n",
      "Skipping line 117092: expected 6 fields, saw 7\n",
      "Skipping line 118315: expected 6 fields, saw 7\n",
      "Skipping line 119440: expected 6 fields, saw 7\n",
      "Skipping line 121042: expected 6 fields, saw 7\n",
      "Skipping line 122284: expected 6 fields, saw 7\n",
      "Skipping line 126637: expected 6 fields, saw 7\n",
      "Skipping line 126776: expected 6 fields, saw 7\n",
      "Skipping line 126915: expected 6 fields, saw 7\n",
      "Skipping line 128792: expected 6 fields, saw 7\n",
      "Skipping line 129718: expected 6 fields, saw 7\n",
      "Skipping line 129955: expected 6 fields, saw 7\n",
      "\n",
      "Skipping line 131504: expected 6 fields, saw 7\n",
      "Skipping line 131984: expected 6 fields, saw 7\n",
      "Skipping line 132529: expected 6 fields, saw 7\n",
      "Skipping line 133463: expected 6 fields, saw 7\n",
      "Skipping line 133631: expected 6 fields, saw 7\n",
      "Skipping line 133655: expected 6 fields, saw 7\n",
      "Skipping line 133719: expected 6 fields, saw 7\n",
      "Skipping line 134812: expected 6 fields, saw 7\n",
      "Skipping line 138828: expected 6 fields, saw 7\n",
      "Skipping line 139270: expected 6 fields, saw 7\n",
      "Skipping line 139956: expected 6 fields, saw 7\n",
      "Skipping line 140329: expected 6 fields, saw 7\n",
      "Skipping line 141532: expected 6 fields, saw 7\n",
      "Skipping line 142024: expected 6 fields, saw 7\n",
      "Skipping line 142030: expected 6 fields, saw 7\n",
      "Skipping line 142079: expected 6 fields, saw 7\n",
      "Skipping line 142189: expected 6 fields, saw 7\n",
      "Skipping line 142375: expected 6 fields, saw 7\n",
      "Skipping line 143320: expected 6 fields, saw 7\n",
      "Skipping line 143432: expected 6 fields, saw 7\n",
      "Skipping line 144181: expected 6 fields, saw 7\n",
      "Skipping line 144391: expected 6 fields, saw 7\n",
      "Skipping line 146658: expected 6 fields, saw 7\n",
      "Skipping line 146659: expected 6 fields, saw 7\n",
      "Skipping line 146800: expected 6 fields, saw 7\n",
      "Skipping line 147563: expected 6 fields, saw 7\n",
      "Skipping line 147881: expected 6 fields, saw 7\n",
      "Skipping line 148681: expected 6 fields, saw 7\n",
      "Skipping line 149229: expected 6 fields, saw 7\n",
      "Skipping line 149511: expected 6 fields, saw 7\n",
      "Skipping line 149512: expected 6 fields, saw 7\n",
      "Skipping line 149624: expected 6 fields, saw 7\n",
      "Skipping line 151197: expected 6 fields, saw 7\n",
      "Skipping line 151349: expected 6 fields, saw 7\n",
      "Skipping line 151388: expected 6 fields, saw 7\n",
      "Skipping line 151503: expected 6 fields, saw 7\n",
      "Skipping line 151832: expected 6 fields, saw 7\n",
      "Skipping line 152730: expected 6 fields, saw 7\n",
      "Skipping line 153672: expected 6 fields, saw 7\n",
      "Skipping line 154439: expected 6 fields, saw 7\n",
      "Skipping line 155131: expected 6 fields, saw 7\n",
      "Skipping line 156335: expected 6 fields, saw 7\n",
      "Skipping line 156719: expected 6 fields, saw 7\n",
      "Skipping line 156801: expected 6 fields, saw 7\n",
      "Skipping line 156895: expected 6 fields, saw 7\n",
      "Skipping line 158606: expected 6 fields, saw 7\n",
      "Skipping line 159686: expected 6 fields, saw 7\n",
      "Skipping line 160446: expected 6 fields, saw 7\n",
      "Skipping line 161009: expected 6 fields, saw 7\n",
      "Skipping line 161073: expected 6 fields, saw 7\n",
      "Skipping line 161529: expected 6 fields, saw 7\n",
      "Skipping line 162021: expected 6 fields, saw 7\n",
      "Skipping line 162173: expected 6 fields, saw 7\n",
      "Skipping line 162375: expected 6 fields, saw 7\n",
      "Skipping line 163028: expected 6 fields, saw 7\n",
      "Skipping line 164527: expected 6 fields, saw 7\n",
      "Skipping line 165021: expected 6 fields, saw 7\n",
      "Skipping line 166557: expected 6 fields, saw 7\n",
      "Skipping line 166589: expected 6 fields, saw 7\n",
      "Skipping line 166590: expected 6 fields, saw 7\n",
      "Skipping line 167156: expected 6 fields, saw 7\n",
      "Skipping line 167925: expected 6 fields, saw 7\n",
      "Skipping line 172275: expected 6 fields, saw 7\n",
      "Skipping line 174268: expected 6 fields, saw 7\n",
      "Skipping line 174772: expected 6 fields, saw 7\n",
      "Skipping line 175239: expected 6 fields, saw 7\n",
      "Skipping line 176045: expected 6 fields, saw 7\n",
      "Skipping line 176556: expected 6 fields, saw 7\n",
      "Skipping line 177465: expected 6 fields, saw 7\n",
      "Skipping line 179812: expected 6 fields, saw 7\n",
      "Skipping line 179915: expected 6 fields, saw 7\n",
      "Skipping line 182566: expected 6 fields, saw 9\n",
      "Skipping line 184550: expected 6 fields, saw 9\n",
      "Skipping line 184551: expected 6 fields, saw 9\n",
      "Skipping line 188407: expected 6 fields, saw 7\n",
      "Skipping line 188408: expected 6 fields, saw 7\n",
      "Skipping line 189452: expected 6 fields, saw 9\n",
      "Skipping line 189453: expected 6 fields, saw 9\n",
      "Skipping line 190977: expected 6 fields, saw 7\n",
      "Skipping line 191147: expected 6 fields, saw 9\n",
      "Skipping line 193054: expected 6 fields, saw 7\n",
      "Skipping line 196685: expected 6 fields, saw 9\n",
      "Skipping line 197974: expected 6 fields, saw 7\n",
      "Skipping line 200080: expected 6 fields, saw 9\n",
      "\n"
     ]
    }
   ],
   "source": [
    "dataWithThreatsPredicate= pd.read_csv(\"../graphCreation/predicates/treats_freq_5.csv\", delimiter=';', error_bad_lines=False, encoding = 'unicode_escape')"
   ],
   "metadata": {
    "collapsed": false,
    "pycharm": {
     "name": "#%%\n"
    }
   }
  },
  {
   "cell_type": "code",
   "execution_count": 23,
   "outputs": [
    {
     "name": "stdout",
     "output_type": "stream",
     "text": [
      "Skipped 204 rows due to errors\n"
     ]
    }
   ],
   "source": [
    "skipped_rows = 0\n",
    "with open(\"../graphCreation/predicates/treats_freq_5.csv\", \"r\", encoding = 'unicode_escape') as f:\n",
    "    for i, line in enumerate(f):\n",
    "        try:\n",
    "            # Try to parse the row as a list of values\n",
    "            values = line.split(\";\")\n",
    "            # Validate the number of values\n",
    "            if len(values) != 6:\n",
    "                raise ValueError(\"Wrong number of fields\")\n",
    "            # If no errors are raised, the row is valid\n",
    "        except ValueError:\n",
    "            # If an error is raised, the row is invalid\n",
    "            skipped_rows += 1\n",
    "\n",
    "print(f\"Skipped {skipped_rows} rows due to errors\")"
   ],
   "metadata": {
    "collapsed": false,
    "pycharm": {
     "name": "#%%\n"
    }
   }
  },
  {
   "cell_type": "code",
   "execution_count": 24,
   "outputs": [
    {
     "data": {
      "text/plain": "(201706, 6)"
     },
     "execution_count": 24,
     "metadata": {},
     "output_type": "execute_result"
    }
   ],
   "source": [
    "dataWithThreatsPredicate.shape"
   ],
   "metadata": {
    "collapsed": false,
    "pycharm": {
     "name": "#%%\n"
    }
   }
  },
  {
   "cell_type": "code",
   "execution_count": 14,
   "outputs": [
    {
     "data": {
      "text/plain": "Index(['subject_cui', 'subject_name', 'predicate', 'object_cui', 'object_name',\n       'frequency'],\n      dtype='object')"
     },
     "execution_count": 14,
     "metadata": {},
     "output_type": "execute_result"
    }
   ],
   "source": [
    "dataWithThreatsPredicate.keys()"
   ],
   "metadata": {
    "collapsed": false,
    "pycharm": {
     "name": "#%%\n"
    }
   }
  },
  {
   "cell_type": "code",
   "execution_count": 25,
   "outputs": [
    {
     "data": {
      "text/plain": "     subject_cui                         subject_name predicate object_cui  \\\n0       C0011900                            Diagnosis    TREATS   C0030705   \n1       C1533685                  Injection procedure    TREATS   C0015780   \n2  C0020063|5741               PTH protein, human|PTH    TREATS   C0027651   \n3       C0524722  Gastrointestinal Surgical Procedure    TREATS   C0028754   \n4       C0086388                          Health Care    TREATS   C0016059   \n\n  object_name  frequency  \n0    Patients      20855  \n1      Female        145  \n2    Neoplasm          6  \n3     Obesity         14  \n4    Fibrosis          7  ",
      "text/html": "<div>\n<style scoped>\n    .dataframe tbody tr th:only-of-type {\n        vertical-align: middle;\n    }\n\n    .dataframe tbody tr th {\n        vertical-align: top;\n    }\n\n    .dataframe thead th {\n        text-align: right;\n    }\n</style>\n<table border=\"1\" class=\"dataframe\">\n  <thead>\n    <tr style=\"text-align: right;\">\n      <th></th>\n      <th>subject_cui</th>\n      <th>subject_name</th>\n      <th>predicate</th>\n      <th>object_cui</th>\n      <th>object_name</th>\n      <th>frequency</th>\n    </tr>\n  </thead>\n  <tbody>\n    <tr>\n      <th>0</th>\n      <td>C0011900</td>\n      <td>Diagnosis</td>\n      <td>TREATS</td>\n      <td>C0030705</td>\n      <td>Patients</td>\n      <td>20855</td>\n    </tr>\n    <tr>\n      <th>1</th>\n      <td>C1533685</td>\n      <td>Injection procedure</td>\n      <td>TREATS</td>\n      <td>C0015780</td>\n      <td>Female</td>\n      <td>145</td>\n    </tr>\n    <tr>\n      <th>2</th>\n      <td>C0020063|5741</td>\n      <td>PTH protein, human|PTH</td>\n      <td>TREATS</td>\n      <td>C0027651</td>\n      <td>Neoplasm</td>\n      <td>6</td>\n    </tr>\n    <tr>\n      <th>3</th>\n      <td>C0524722</td>\n      <td>Gastrointestinal Surgical Procedure</td>\n      <td>TREATS</td>\n      <td>C0028754</td>\n      <td>Obesity</td>\n      <td>14</td>\n    </tr>\n    <tr>\n      <th>4</th>\n      <td>C0086388</td>\n      <td>Health Care</td>\n      <td>TREATS</td>\n      <td>C0016059</td>\n      <td>Fibrosis</td>\n      <td>7</td>\n    </tr>\n  </tbody>\n</table>\n</div>"
     },
     "execution_count": 25,
     "metadata": {},
     "output_type": "execute_result"
    }
   ],
   "source": [
    "dataWithThreatsPredicate.head()"
   ],
   "metadata": {
    "collapsed": false,
    "pycharm": {
     "name": "#%%\n"
    }
   }
  },
  {
   "cell_type": "code",
   "execution_count": 26,
   "outputs": [],
   "source": [
    "# Create a Graph object\n",
    "G = nx.DiGraph()"
   ],
   "metadata": {
    "collapsed": false,
    "pycharm": {
     "name": "#%%\n"
    }
   }
  },
  {
   "cell_type": "code",
   "execution_count": 30,
   "outputs": [],
   "source": [
    "for index, row in dataWithThreatsPredicate.iterrows():\n",
    "    G.add_edge(row['subject_cui'], row['object_cui'], label=row['predicate'])"
   ],
   "metadata": {
    "collapsed": false,
    "pycharm": {
     "name": "#%%\n"
    }
   }
  },
  {
   "cell_type": "code",
   "execution_count": 31,
   "outputs": [
    {
     "data": {
      "text/plain": "26238"
     },
     "execution_count": 31,
     "metadata": {},
     "output_type": "execute_result"
    }
   ],
   "source": [
    "len(G.nodes)"
   ],
   "metadata": {
    "collapsed": false,
    "pycharm": {
     "name": "#%%\n"
    }
   }
  },
  {
   "cell_type": "code",
   "execution_count": 32,
   "outputs": [
    {
     "data": {
      "text/plain": "197833"
     },
     "execution_count": 32,
     "metadata": {},
     "output_type": "execute_result"
    }
   ],
   "source": [
    "len(G.edges)"
   ],
   "metadata": {
    "collapsed": false,
    "pycharm": {
     "name": "#%%\n"
    }
   }
  },
  {
   "cell_type": "code",
   "execution_count": 35,
   "outputs": [
    {
     "name": "stdout",
     "output_type": "stream",
     "text": [
      "subject_cui  object_cui\n",
      "C0000477     C0026769      2\n",
      "             C0030705      2\n",
      "C0000618     C0008059      2\n",
      "             C0021390      2\n",
      "             C0023449      2\n",
      "                          ..\n",
      "C5192099     C0035222      2\n",
      "             C0264490      2\n",
      "             C1145670      2\n",
      "             C1175175      2\n",
      "             C5203670      2\n",
      "Length: 3866, dtype: int64\n"
     ]
    }
   ],
   "source": [
    "\n",
    "# Get count duplicates multiple columns using dataframe.pivot_table()\n",
    "df2 = dataWithThreatsPredicate.pivot_table(index = ['subject_cui', 'object_cui'], aggfunc ='size')\n",
    "print(df2.loc[lambda x : x >1])\n"
   ],
   "metadata": {
    "collapsed": false,
    "pycharm": {
     "name": "#%%\n"
    }
   }
  },
  {
   "cell_type": "code",
   "execution_count": null,
   "outputs": [],
   "source": [
    "from networkx import simrank_similarity as sr\n",
    "\n",
    "# Find the SimRank similarity between nodes u and v\n",
    "# https://networkx.org/documentation/stable/reference/algorithms/generated/networkx.algorithms.similarity.simrank_similarity.html\n",
    "sim = sr(G, \"C1873633\", \"C1739826\", max_iterations=100)\n",
    "\n",
    "print(sim)\n"
   ],
   "metadata": {
    "collapsed": false,
    "pycharm": {
     "name": "#%%\n",
     "is_executing": true
    }
   }
  },
  {
   "cell_type": "code",
   "execution_count": null,
   "outputs": [],
   "source": [
    "for index, row in subset.iterrows():\n",
    "    print(f'Find SimRank for {row[\"condition\"]}')\n",
    "    t_0 = timeit.default_timer()\n",
    "    simRank = nx.simrank_similarity(G, source=row[''], target=row['condition'])\n",
    "    t_1 = timeit.default_timer()\n",
    "    elapsed_time = round((t_1 - t_0) * 10 ** 6, 3)\n",
    "    print(f'Find SimRank finished in {t_1 - t_0} seconds')\n",
    "    print(f\"Elapsed time to find SimRank: {elapsed_time} µs\")\n",
    "    print(f'SimRank: {simRank}')"
   ],
   "metadata": {
    "collapsed": false,
    "pycharm": {
     "name": "#%%\n"
    }
   }
  },
  {
   "cell_type": "code",
   "execution_count": null,
   "outputs": [],
   "source": [
    "        print(f'{nx.simrank_similarity(G, source=subset.loc[index], target=subset.loc[index2], max_iter=100, tol=1e-06, nstart=None, normalized=True)}')\n"
   ],
   "metadata": {
    "collapsed": false,
    "pycharm": {
     "name": "#%%\n"
    }
   }
  },
  {
   "cell_type": "code",
   "execution_count": null,
   "outputs": [],
   "source": [
    "            print(f'Simrank between {row[\"cui\"]} and {subset.iloc[index2][\"cui\"]}: {nx.simrank_similarity(G, row[\"cui\"], subset.iloc[index2][\"cui\"], max_iterations=100, tolerance=0.0001)}')\n"
   ],
   "metadata": {
    "collapsed": false,
    "pycharm": {
     "name": "#%%\n"
    }
   }
  },
  {
   "cell_type": "code",
   "execution_count": 2,
   "outputs": [
    {
     "name": "stdout",
     "output_type": "stream",
     "text": [
      "<class 'float'>\n",
      "<class 'float'>\n",
      "nan\n",
      "nan\n"
     ]
    }
   ],
   "source": [
    "import numpy as np\n",
    "print(type(np.NaN))\n",
    "print(type(np.nan))\n",
    "print(np.NaN)\n",
    "print(np.nan)"
   ],
   "metadata": {
    "collapsed": false,
    "pycharm": {
     "name": "#%%\n"
    }
   }
  }
 ],
 "metadata": {
  "kernelspec": {
   "display_name": "Python 3",
   "language": "python",
   "name": "python3"
  },
  "language_info": {
   "codemirror_mode": {
    "name": "ipython",
    "version": 2
   },
   "file_extension": ".py",
   "mimetype": "text/x-python",
   "name": "python",
   "nbconvert_exporter": "python",
   "pygments_lexer": "ipython2",
   "version": "2.7.6"
  }
 },
 "nbformat": 4,
 "nbformat_minor": 0
}