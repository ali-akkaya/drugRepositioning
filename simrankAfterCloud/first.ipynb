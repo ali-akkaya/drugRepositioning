{
 "cells": [
  {
   "cell_type": "code",
   "execution_count": 2,
   "outputs": [],
   "source": [
    "import pandas as pd"
   ],
   "metadata": {
    "collapsed": false,
    "pycharm": {
     "name": "#%%\n"
    }
   }
  },
  {
   "cell_type": "code",
   "execution_count": 13,
   "metadata": {
    "collapsed": true,
    "pycharm": {
     "name": "#%%\n"
    }
   },
   "outputs": [],
   "source": [
    "simrankScoresForAllThreat = pd.read_csv('simrankScores-2.csv')"
   ]
  },
  {
   "cell_type": "code",
   "execution_count": 14,
   "outputs": [
    {
     "data": {
      "text/plain": "array(['ERROR', '0.0', '1.0'], dtype=object)"
     },
     "execution_count": 14,
     "metadata": {},
     "output_type": "execute_result"
    }
   ],
   "source": [
    "simrankScoresForAllThreat.simrankScore.unique()"
   ],
   "metadata": {
    "collapsed": false,
    "pycharm": {
     "name": "#%%\n"
    }
   }
  },
  {
   "cell_type": "code",
   "execution_count": 3,
   "outputs": [
    {
     "data": {
      "text/plain": "  sourceCui targetCui simrankScore\n0  C1873633  C1876807        ERROR\n1  C1873633  C0025810        ERROR\n2  C1873633  C0795571        ERROR\n3  C1873633  C0076823        ERROR\n4  C1873633  C1176420        ERROR",
      "text/html": "<div>\n<style scoped>\n    .dataframe tbody tr th:only-of-type {\n        vertical-align: middle;\n    }\n\n    .dataframe tbody tr th {\n        vertical-align: top;\n    }\n\n    .dataframe thead th {\n        text-align: right;\n    }\n</style>\n<table border=\"1\" class=\"dataframe\">\n  <thead>\n    <tr style=\"text-align: right;\">\n      <th></th>\n      <th>sourceCui</th>\n      <th>targetCui</th>\n      <th>simrankScore</th>\n    </tr>\n  </thead>\n  <tbody>\n    <tr>\n      <th>0</th>\n      <td>C1873633</td>\n      <td>C1876807</td>\n      <td>ERROR</td>\n    </tr>\n    <tr>\n      <th>1</th>\n      <td>C1873633</td>\n      <td>C0025810</td>\n      <td>ERROR</td>\n    </tr>\n    <tr>\n      <th>2</th>\n      <td>C1873633</td>\n      <td>C0795571</td>\n      <td>ERROR</td>\n    </tr>\n    <tr>\n      <th>3</th>\n      <td>C1873633</td>\n      <td>C0076823</td>\n      <td>ERROR</td>\n    </tr>\n    <tr>\n      <th>4</th>\n      <td>C1873633</td>\n      <td>C1176420</td>\n      <td>ERROR</td>\n    </tr>\n  </tbody>\n</table>\n</div>"
     },
     "execution_count": 3,
     "metadata": {},
     "output_type": "execute_result"
    }
   ],
   "source": [
    "simrankScoresForAllStimulates = pd.read_csv('simrankScoresStimulates.csv')\n",
    "simrankScoresForAllStimulates.head(5)"
   ],
   "metadata": {
    "collapsed": false,
    "pycharm": {
     "name": "#%%\n"
    }
   }
  },
  {
   "cell_type": "markdown",
   "source": [],
   "metadata": {
    "collapsed": false,
    "pycharm": {
     "name": "#%% md\n"
    }
   }
  },
  {
   "cell_type": "code",
   "execution_count": 4,
   "outputs": [
    {
     "data": {
      "text/plain": "array(['ERROR', '0.0', '0.1345872102995151', '0.2', '1.0',\n       '0.06729360514975755', '0.009114993809349178',\n       '0.0062145379145293065', '0.07087785857556081',\n       '0.06777113567354397', '0.13412034944355194',\n       '0.016057852844591797', '0.20089464381242272',\n       '0.10044732190621136', '0.05976744195136026',\n       '0.053004024708096655', '0.10200655347943402',\n       '0.014117820678790308', '0.05199299850621678',\n       '0.05971268166720505', '0.045391000674701025',\n       '0.07201437022088326', '0.1345382066380166',\n       '0.009061270253238989', '0.005792641481507655',\n       '0.06777113567354398', '0.2018176994882337',\n       '0.009078553560612048', '0.1015444705623732',\n       '0.008987920432573194', '0.016910654662420435',\n       '0.016676235885617827', '0.2012712416365127',\n       '0.02565070600764498', '0.004048390646887822',\n       '0.005786255146535934', '0.01411782067879031',\n       '0.01691065466242044', '0.00907855356061205',\n       '0.008621239558279816', '0.1'], dtype=object)"
     },
     "execution_count": 4,
     "metadata": {},
     "output_type": "execute_result"
    }
   ],
   "source": [
    "simrankScoresForAllStimulates.simrankScore.unique()"
   ],
   "metadata": {
    "collapsed": false,
    "pycharm": {
     "name": "#%%\n"
    }
   }
  },
  {
   "cell_type": "code",
   "execution_count": 7,
   "outputs": [
    {
     "data": {
      "text/plain": "  sourceCui targetCui simrankScore\n0  C1873633  C1876807        ERROR\n1  C1873633  C0025810        ERROR\n2  C1873633  C0795571        ERROR\n3  C1873633  C0076823        ERROR\n4  C1873633  C1176420        ERROR",
      "text/html": "<div>\n<style scoped>\n    .dataframe tbody tr th:only-of-type {\n        vertical-align: middle;\n    }\n\n    .dataframe tbody tr th {\n        vertical-align: top;\n    }\n\n    .dataframe thead th {\n        text-align: right;\n    }\n</style>\n<table border=\"1\" class=\"dataframe\">\n  <thead>\n    <tr style=\"text-align: right;\">\n      <th></th>\n      <th>sourceCui</th>\n      <th>targetCui</th>\n      <th>simrankScore</th>\n    </tr>\n  </thead>\n  <tbody>\n    <tr>\n      <th>0</th>\n      <td>C1873633</td>\n      <td>C1876807</td>\n      <td>ERROR</td>\n    </tr>\n    <tr>\n      <th>1</th>\n      <td>C1873633</td>\n      <td>C0025810</td>\n      <td>ERROR</td>\n    </tr>\n    <tr>\n      <th>2</th>\n      <td>C1873633</td>\n      <td>C0795571</td>\n      <td>ERROR</td>\n    </tr>\n    <tr>\n      <th>3</th>\n      <td>C1873633</td>\n      <td>C0076823</td>\n      <td>ERROR</td>\n    </tr>\n    <tr>\n      <th>4</th>\n      <td>C1873633</td>\n      <td>C1176420</td>\n      <td>ERROR</td>\n    </tr>\n  </tbody>\n</table>\n</div>"
     },
     "execution_count": 7,
     "metadata": {},
     "output_type": "execute_result"
    }
   ],
   "source": [
    "simrankScoresForAllPrevents = pd.read_csv('simrankScoresPrevents.csv')\n",
    "simrankScoresForAllPrevents.head(5)"
   ],
   "metadata": {
    "collapsed": false,
    "pycharm": {
     "name": "#%%\n"
    }
   }
  },
  {
   "cell_type": "code",
   "execution_count": 8,
   "outputs": [
    {
     "data": {
      "text/plain": "array(['ERROR', '0.0', '1.0'], dtype=object)"
     },
     "execution_count": 8,
     "metadata": {},
     "output_type": "execute_result"
    }
   ],
   "source": [
    "simrankScoresForAllPrevents.simrankScore.unique()"
   ],
   "metadata": {
    "collapsed": false,
    "pycharm": {
     "name": "#%%\n"
    }
   }
  },
  {
   "cell_type": "code",
   "execution_count": 10,
   "outputs": [
    {
     "data": {
      "text/plain": "  sourceCui targetCui simrankScore\n0  C1873633  C1876807        ERROR\n1  C1873633  C0025810        ERROR\n2  C1873633  C0795571        ERROR\n3  C1873633  C0076823        ERROR\n4  C1873633  C1176420        ERROR",
      "text/html": "<div>\n<style scoped>\n    .dataframe tbody tr th:only-of-type {\n        vertical-align: middle;\n    }\n\n    .dataframe tbody tr th {\n        vertical-align: top;\n    }\n\n    .dataframe thead th {\n        text-align: right;\n    }\n</style>\n<table border=\"1\" class=\"dataframe\">\n  <thead>\n    <tr style=\"text-align: right;\">\n      <th></th>\n      <th>sourceCui</th>\n      <th>targetCui</th>\n      <th>simrankScore</th>\n    </tr>\n  </thead>\n  <tbody>\n    <tr>\n      <th>0</th>\n      <td>C1873633</td>\n      <td>C1876807</td>\n      <td>ERROR</td>\n    </tr>\n    <tr>\n      <th>1</th>\n      <td>C1873633</td>\n      <td>C0025810</td>\n      <td>ERROR</td>\n    </tr>\n    <tr>\n      <th>2</th>\n      <td>C1873633</td>\n      <td>C0795571</td>\n      <td>ERROR</td>\n    </tr>\n    <tr>\n      <th>3</th>\n      <td>C1873633</td>\n      <td>C0076823</td>\n      <td>ERROR</td>\n    </tr>\n    <tr>\n      <th>4</th>\n      <td>C1873633</td>\n      <td>C1176420</td>\n      <td>ERROR</td>\n    </tr>\n  </tbody>\n</table>\n</div>"
     },
     "execution_count": 10,
     "metadata": {},
     "output_type": "execute_result"
    }
   ],
   "source": [
    "simrankScoresForAllDisrupts = pd.read_csv('simrankScoresDisrupts.csv')\n",
    "simrankScoresForAllDisrupts.head(5)"
   ],
   "metadata": {
    "collapsed": false,
    "pycharm": {
     "name": "#%%\n"
    }
   }
  },
  {
   "cell_type": "code",
   "execution_count": 11,
   "outputs": [
    {
     "data": {
      "text/plain": "array(['ERROR', '0.0', '1.0'], dtype=object)"
     },
     "execution_count": 11,
     "metadata": {},
     "output_type": "execute_result"
    }
   ],
   "source": [
    "simrankScoresForAllDisrupts.simrankScore.unique()"
   ],
   "metadata": {
    "collapsed": false,
    "pycharm": {
     "name": "#%%\n"
    }
   }
  },
  {
   "cell_type": "code",
   "execution_count": 15,
   "outputs": [
    {
     "data": {
      "text/plain": "  sourceCui targetCui simrankScore\n0  C1873633  C1876807        ERROR\n1  C1873633  C0025810        ERROR\n2  C1873633  C0795571        ERROR\n3  C1873633  C0076823        ERROR\n4  C1873633  C1176420        ERROR",
      "text/html": "<div>\n<style scoped>\n    .dataframe tbody tr th:only-of-type {\n        vertical-align: middle;\n    }\n\n    .dataframe tbody tr th {\n        vertical-align: top;\n    }\n\n    .dataframe thead th {\n        text-align: right;\n    }\n</style>\n<table border=\"1\" class=\"dataframe\">\n  <thead>\n    <tr style=\"text-align: right;\">\n      <th></th>\n      <th>sourceCui</th>\n      <th>targetCui</th>\n      <th>simrankScore</th>\n    </tr>\n  </thead>\n  <tbody>\n    <tr>\n      <th>0</th>\n      <td>C1873633</td>\n      <td>C1876807</td>\n      <td>ERROR</td>\n    </tr>\n    <tr>\n      <th>1</th>\n      <td>C1873633</td>\n      <td>C0025810</td>\n      <td>ERROR</td>\n    </tr>\n    <tr>\n      <th>2</th>\n      <td>C1873633</td>\n      <td>C0795571</td>\n      <td>ERROR</td>\n    </tr>\n    <tr>\n      <th>3</th>\n      <td>C1873633</td>\n      <td>C0076823</td>\n      <td>ERROR</td>\n    </tr>\n    <tr>\n      <th>4</th>\n      <td>C1873633</td>\n      <td>C1176420</td>\n      <td>ERROR</td>\n    </tr>\n  </tbody>\n</table>\n</div>"
     },
     "execution_count": 15,
     "metadata": {},
     "output_type": "execute_result"
    }
   ],
   "source": [
    "simrankScoresForAllCoExistWith = pd.read_csv('simrankScoresCoExistWith.csv')\n",
    "simrankScoresForAllCoExistWith.head(5)"
   ],
   "metadata": {
    "collapsed": false,
    "pycharm": {
     "name": "#%%\n"
    }
   }
  },
  {
   "cell_type": "code",
   "execution_count": 16,
   "outputs": [
    {
     "data": {
      "text/plain": "array(['ERROR', '0.0', '1.0', '0.03409372761842683',\n       '0.13392414628529864', '0.06726810836894608',\n       '0.019961461788749007', '0.024854539309149395',\n       '0.022851811671477304', '0.045343178928827416',\n       '0.03384016129929282', '0.03440389219203692',\n       '0.06769154176116392', '0.0128186594815601',\n       '0.012771260609738927', '0.02726586161445039',\n       '0.04561545651467742', '0.007089558985355242',\n       '0.028217833813413633', '0.06764474797927508',\n       '0.06782027608111538', '0.03440074800216936',\n       '0.034233358370650925', '0.03514960512999028',\n       '0.03859512529421429', '0.05154380479763513',\n       '0.017829659333554067', '0.007277877455230367',\n       '0.032007476982907436', '0.017807690231754453',\n       '0.03453812367253585', '0.02581562014028272',\n       '0.026601921232703697', '0.05063282749899195',\n       '0.010258966826312658', '0.010261938658053835',\n       '0.02142158672091296', '0.03429812367845061',\n       '0.016376504333517453', '0.007207943937764006',\n       '0.051235669979317326', '0.018760733505613258',\n       '0.031720898967726514', '0.08285981559837827',\n       '0.06727538177795657', '0.0199263833404592',\n       '0.035149605129990276', '0.024751872219762577',\n       '0.022854236141147462', '0.04569038259235558',\n       '0.03384379800379807', '0.03440752889654216',\n       '0.06769881517017441', '0.012819981919562004',\n       '0.012772583047740833', '0.02726877097805458',\n       '0.04562030545401774', '0.009089408977171714',\n       '0.02759200453643045', '0.06765202138828556',\n       '0.06777858131589945', '0.034404384706674604',\n       '0.03423699507515617', '0.010039019159073025',\n       '0.0385951252942143', '0.15314371660661824', '0.04035999699264004',\n       '0.01965194935928294', '0.029473540215232737',\n       '0.051543804797635144', '0.012306833663993827',\n       '0.03404843643541737', '0.06728748594116603',\n       '0.05066409903364234', '0.05063968350724251',\n       '0.10095553617750197', '0.018713711157167322',\n       '0.01878714877600898', '0.040624409892318664',\n       '0.06757291887095151', '0.009948513180101447',\n       '0.013691802399056922', '0.10093634722971011',\n       '0.033928083470303565', '0.05078570547884362',\n       '0.051538079811908694', '0.02947354021523274',\n       '0.004581274223956417', '0.011076871426610284',\n       '0.020096012465239177', '0.015285606136163202',\n       '0.017162937777113318', '0.029087327594348806',\n       '0.0068655831037906165', '0.007022904024015087',\n       '0.013634876541035616', '0.02015118417643712',\n       '0.003829347047217213', '0.004535708412584561',\n       '0.03010591024273649', '0.0316195751597365', '0.01875096807131724',\n       '0.017690676603378686', '0.030621229795198986',\n       '0.007277877455230366', '0.0056768412830143925',\n       '0.009687851754091476', '0.007033634640803872',\n       '0.008428355679749684', '0.028496227250822573',\n       '0.012381557203796974', '0.004676015716299287',\n       '0.004141939071941397', '0.0072915161659535006',\n       '0.008867700679665667', '0.02735014619062258',\n       '0.002769283284344886', '0.010075719860870672',\n       '0.028855679509324196', '0.013164179820779493',\n       '0.013599381015101433', '0.007446719827479572',\n       '0.0074753646493185034', '0.04316163049216131',\n       '0.016698980269108186', '0.023342300927986913',\n       '0.060493083692618674', '0.019567207217174268',\n       '0.03401194509406149', '0.03991264863770631',\n       '0.06807367689794902', '0.05904017162441457',\n       '0.01780769023175445', '0.02402370182564746',\n       '0.004163781036749048', '0.004909105460081457',\n       '0.005676841283014392', '0.03589454237956547',\n       '0.013720197042303284', '0.018884508333904367',\n       '0.018309633071909297', '0.0343516302798498',\n       '0.034642409188017864', '0.06721450325845428',\n       '0.01347004674306768', '0.013389214788114934',\n       '0.028056898683306904', '0.045255586910725384',\n       '0.02100819673529109', '0.00978104768907126',\n       '0.00968785175409148', '0.06760135964827663',\n       '0.023131238184286897', '0.034835910184635124',\n       '0.034851393764484956', '0.02688250759266086',\n       '0.06049308369261866', '0.05060936202160853',\n       '0.03139261828863677', '0.03861636232934677',\n       '0.027754990718503278', '0.03487844291790247',\n       '0.0058150862474037265', '0.007069576580294542',\n       '0.007033634640803874', '0.052106148838495125',\n       '0.018410404318669988', '0.02640034050929163',\n       '0.026088360717645594', '0.01956720721717427',\n       '0.0505849464952087', '0.05404568169102565',\n       '0.012538222423260881', '0.02533065195001681',\n       '0.026601921232703704', '0.036168301093230514',\n       '0.005943894503981791', '0.007457576189795774',\n       '0.008428355679749682', '0.05404093610148719',\n       '0.020166794247178977', '0.027413341882011333',\n       '0.026827896763751254', '0.13333333333333333',\n       '0.07079454702181175', '0.005516269633305627',\n       '0.02849622725082257', '0.039378555989727705',\n       '0.019519311808557434', '0.07031881879667472',\n       '0.01876724440799668', '0.04058062028269161',\n       '0.20579018188907292', '0.009938087082571198',\n       '0.013776489077500488', '0.10536715081235573',\n       '0.03565322603531689', '0.0507309684668098', '0.0506271025132655',\n       '0.014367841253020689', '0.018042627031327862',\n       '0.031701654296757614', '0.010258966826312657',\n       '0.039912648637706306', '0.03998720760651758',\n       '0.0029101947943531636', '0.0031374713946934873',\n       '0.05862718176884081', '0.02170751954275157',\n       '0.011062465984148034', '0.0106663496690176',\n       '0.014367841253020687', '0.1400619733448724',\n       '0.07036845494039687', '0.024670714718927955',\n       '0.07816415468238194', '0.01804262703132786',\n       '0.013961068270122272', '0.0029381471791611016',\n       '0.002936476713327334', '0.020864687663962097',\n       '0.022248247132199327', '0.01151735897353036',\n       '0.010840683388024677', '0.04058062028269162',\n       '0.03170165429675762', '0.025330651950016804',\n       '0.029349801006504153', '0.0051944440771835',\n       '0.005929759088794702', '0.007291516165953499',\n       '0.04385548907906936', '0.016764947125404932',\n       '0.02313784167711863', '0.022149047542349757',\n       '0.013961068270122268', '0.03998720760651759',\n       '0.0069481313790821925', '0.009446307873572996',\n       '0.008867700679665665', '0.20577099294128104',\n       '0.07060146567987793', '0.029349801006504146',\n       '0.03466476669102902', '0.034710465205877526',\n       '0.2031967067235914', '0.02165442490755955',\n       '0.027933837991207244', '0.02935869621844724',\n       '0.005782686686687086', '0.004989865103107186',\n       '0.005943894503981792', '0.0029101947943531653',\n       '0.01038190839465023', '0.004007771381700355',\n       '0.005194444077183502', '0.0067343545160190674',\n       '0.006318441280465995', '0.016698980269108193',\n       '0.006948131379082196', '0.00416378103674905',\n       '0.005782686686687089', '0.007457576189795776',\n       '0.0031374713946934877', '0.01401377445181129',\n       '0.014218825086783217', '0.005929759088794701',\n       '0.0073138399309567535', '0.007311143258874788',\n       '0.007207943937764007', '0.1030482321219045',\n       '0.05178563449818494', '0.05185418227045771',\n       '0.05123566997931733', '0.013164179820779491',\n       '0.058627181768840825', '0.01676494712540493',\n       '0.0356532260353169', '0.01962165513987979', '0.01907781129740141',\n       '0.018760733505613254', '0.10304823212190452',\n       '0.013720197042303288', '0.021707519542751574',\n       '0.08427678584960512', '0.03172089896772651',\n       '0.051785634498184935', '0.027413341882011322',\n       '0.01888450833390436', '0.011062465984148036',\n       '0.08285981559837825', '0.0518541822704577',\n       '0.026827896763751247', '0.010666349669017602',\n       '0.022149047542349753'], dtype=object)"
     },
     "execution_count": 16,
     "metadata": {},
     "output_type": "execute_result"
    }
   ],
   "source": [
    "simrankScoresForAllCoExistWith.simrankScore.unique()"
   ],
   "metadata": {
    "collapsed": false,
    "pycharm": {
     "name": "#%%\n"
    }
   }
  },
  {
   "cell_type": "code",
   "execution_count": 17,
   "outputs": [
    {
     "data": {
      "text/plain": "  sourceCui targetCui simrankScore\n0  C1873633  C1876807        ERROR\n1  C1873633  C0025810        ERROR\n2  C1873633  C0795571        ERROR\n3  C1873633  C0076823        ERROR\n4  C1873633  C1176420        ERROR",
      "text/html": "<div>\n<style scoped>\n    .dataframe tbody tr th:only-of-type {\n        vertical-align: middle;\n    }\n\n    .dataframe tbody tr th {\n        vertical-align: top;\n    }\n\n    .dataframe thead th {\n        text-align: right;\n    }\n</style>\n<table border=\"1\" class=\"dataframe\">\n  <thead>\n    <tr style=\"text-align: right;\">\n      <th></th>\n      <th>sourceCui</th>\n      <th>targetCui</th>\n      <th>simrankScore</th>\n    </tr>\n  </thead>\n  <tbody>\n    <tr>\n      <th>0</th>\n      <td>C1873633</td>\n      <td>C1876807</td>\n      <td>ERROR</td>\n    </tr>\n    <tr>\n      <th>1</th>\n      <td>C1873633</td>\n      <td>C0025810</td>\n      <td>ERROR</td>\n    </tr>\n    <tr>\n      <th>2</th>\n      <td>C1873633</td>\n      <td>C0795571</td>\n      <td>ERROR</td>\n    </tr>\n    <tr>\n      <th>3</th>\n      <td>C1873633</td>\n      <td>C0076823</td>\n      <td>ERROR</td>\n    </tr>\n    <tr>\n      <th>4</th>\n      <td>C1873633</td>\n      <td>C1176420</td>\n      <td>ERROR</td>\n    </tr>\n  </tbody>\n</table>\n</div>"
     },
     "execution_count": 17,
     "metadata": {},
     "output_type": "execute_result"
    }
   ],
   "source": [
    "simrankScoresForAllAugments = pd.read_csv('simrankScoresAugments.csv')\n",
    "simrankScoresForAllAugments.head(5)"
   ],
   "metadata": {
    "collapsed": false,
    "pycharm": {
     "name": "#%%\n"
    }
   }
  },
  {
   "cell_type": "code",
   "execution_count": 18,
   "outputs": [
    {
     "data": {
      "text/plain": "array(['ERROR', '0.0', '1.0'], dtype=object)"
     },
     "execution_count": 18,
     "metadata": {},
     "output_type": "execute_result"
    }
   ],
   "source": [
    "simrankScoresForAllAugments.simrankScore.unique()"
   ],
   "metadata": {
    "collapsed": false,
    "pycharm": {
     "name": "#%%\n"
    }
   }
  }
 ],
 "metadata": {
  "kernelspec": {
   "display_name": "Python 3",
   "language": "python",
   "name": "python3"
  },
  "language_info": {
   "codemirror_mode": {
    "name": "ipython",
    "version": 2
   },
   "file_extension": ".py",
   "mimetype": "text/x-python",
   "name": "python",
   "nbconvert_exporter": "python",
   "pygments_lexer": "ipython2",
   "version": "2.7.6"
  }
 },
 "nbformat": 4,
 "nbformat_minor": 0
}