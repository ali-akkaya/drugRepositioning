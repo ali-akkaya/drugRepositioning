{
 "cells": [
  {
   "cell_type": "code",
   "execution_count": 1,
   "metadata": {
    "collapsed": true,
    "pycharm": {
     "name": "#%%\n"
    }
   },
   "outputs": [],
   "source": [
    "import  pandas as pd"
   ]
  },
  {
   "cell_type": "code",
   "execution_count": 2,
   "outputs": [],
   "source": [
    "data = pd.read_csv(\"../condition_drugName_label_text_dataset.csv\")"
   ],
   "metadata": {
    "collapsed": false,
    "pycharm": {
     "name": "#%%\n"
    }
   }
  },
  {
   "cell_type": "code",
   "execution_count": 7,
   "outputs": [
    {
     "name": "stdout",
     "output_type": "stream",
     "text": [
      "Dataset Shape: (50709, 5)\n",
      "Dataset Keys: Index(['drugName', 'condition', 'text', 'rating', 'rating_label'], dtype='object')\n",
      "Total conditions number: 35\n"
     ]
    }
   ],
   "source": [
    "print(f\"Dataset Shape: {data.shape}\")\n",
    "print(f\"Dataset Keys: {data.keys()}\")\n",
    "print(f\"Total conditions number: {data.condition.unique().size}\")"
   ],
   "metadata": {
    "collapsed": false,
    "pycharm": {
     "name": "#%%\n"
    }
   }
  },
  {
   "cell_type": "code",
   "execution_count": 33,
   "outputs": [
    {
     "data": {
      "text/plain": "condition\nADHD                                [Methylin ER, Mydayis, Amphetamine / dextroamp...\nAgitated State                                                [Abilify, Aripiprazole]\nAlcohol Dependence                  [Ondansetron, Revia, Naltrexone, Antabuse, Dis...\nAlcohol Withdrawal                  [Chlordiazepoxide, Baclofen, Tranxene, Oxazepa...\nAlzheimer's Disease                 [Namenda, Rivastigmine, Exelon, Razadyne ER, N...\nAnorexia                            [Megestrol, Marinol, Dronabinol, Cyproheptadin...\nAnxiety                             [Paxil CR, Xanax, Chlordiazepoxide, Tranxene, ...\nAnxiety and Stress                  [Fluoxetine, Luvox CR, Effexor, Elavil, Citalo...\nAutism                              [Paliperidone, Effexor, Risperdal M-Tab, Rispe...\nBinge Eating Disorde                          [Vyvanse, Fluoxetine, Lisdexamfetamine]\nBipolar Disorde                     [Tiagabine, Seroquel XR, Perphenazine, Paliper...\nBorderline Personality Disorde      [Deplin, Topiramate, Fluoxetine, Clozapine, Zy...\nBulimia                             [Topiramate, Fluoxetine, Venlafaxine, Effexor ...\nChronic Fatigue Syndrome            [Evening Primrose Oil, Vyvanse, Modafinil, Ama...\nDepression                          [Methylin ER, Marplan, Seroquel XR, Tryptophan...\nGeneralized Anxiety Disorde         [Seroquel XR, Paxil CR, Pregabalin, Lexapro, C...\nHypersomnia                         [Modafinil, Dexedrine, NoDoz, Armodafinil, Viv...\nInsomnia                            [Simply Sleep, Pentobarbital, Dalmane, Seroque...\nMajor Depressive Disorde            [Seroquel XR, Wellbutrin XL, Maprotiline, Lexa...\nMania                               [Divalproex sodium, Risperdal, Haloperidol, De...\nObsessive Compulsive Disorde        [Seroquel XR, Rilutek, Lexapro, Fluoxetine, Lu...\nOpiate Dependence                   [Buprenorphine / naloxone, Buprenorphine, Revi...\nOpiate Withdrawal                   [Chlordiazepoxide, Methadone, Clonidine, Catap...\nPanic Disorde                       [Paxil CR, Xanax, Maprotiline, Klonopin, Fluox...\nParanoid Disorde                    [Seroquel XR, Clozapine, Zyprexa Zydis, Seroqu...\nPost Traumatic Stress Disorde       [Seroquel XR, Saphris, Luvox CR, Elavil, Cital...\nPostpartum Depression               [Fluoxetine, Effexor, Citalopram, Sertraline, ...\nPremenstrual Dysphoric Disorde      [Tryptophan, Ocella, Beyaz, Paxil CR, Evening ...\nSchizoaffective Disorde             [Seroquel XR, Paliperidone, Saphris, Fluoxetin...\nSchizophrenia                       [Seroquel XR, Loxapine, Thioridazine, Paliperi...\nSexual Dysfunction, SSRI Induced    [Viagra, Dextrostat, Yohimbine, Dexedrine, Bus...\nShift Work Sleep Disorde                  [Modafinil, Armodafinil, Provigil, Nuvigil]\nSocial Anxiety Disorde              [Paxil CR, Luvox CR, Sertraline, Paxil, Risper...\nTourette's Syndrome                 [Orap, Topiramate, Clonidine, Catapres, Seroqu...\nmance Anxiety                                                           [Propranolol]\nName: drugName, dtype: object"
     },
     "execution_count": 33,
     "metadata": {},
     "output_type": "execute_result"
    }
   ],
   "source": [
    "condition_drugs_grouping = data.groupby(\"condition\").drugName.unique()\n",
    "condition_drugs_grouping"
   ],
   "metadata": {
    "collapsed": false,
    "pycharm": {
     "name": "#%%\n"
    }
   }
  },
  {
   "cell_type": "code",
   "execution_count": 115,
   "outputs": [],
   "source": [
    "data.groupby([\"condition\",\"drugName\"]).rating.count().to_csv(\"rating_count.csv\")"
   ],
   "metadata": {
    "collapsed": false,
    "pycharm": {
     "name": "#%%\n"
    }
   }
  },
  {
   "cell_type": "code",
   "execution_count": 116,
   "outputs": [],
   "source": [
    "data.groupby([\"condition\",\"drugName\"]).rating.mean().to_csv(\"rating_mean.csv\")"
   ],
   "metadata": {
    "collapsed": false,
    "pycharm": {
     "name": "#%%\n"
    }
   }
  },
  {
   "cell_type": "code",
   "execution_count": 117,
   "outputs": [
    {
     "data": {
      "text/plain": "(918, 3)"
     },
     "execution_count": 117,
     "metadata": {},
     "output_type": "execute_result"
    }
   ],
   "source": [
    "rating_count = pd.read_csv(\"rating_count.csv\")\n",
    "rating_count.shape"
   ],
   "metadata": {
    "collapsed": false,
    "pycharm": {
     "name": "#%%\n"
    }
   }
  },
  {
   "cell_type": "code",
   "execution_count": 118,
   "outputs": [
    {
     "data": {
      "text/plain": "               condition        drugName    rating\n0                   ADHD        Adderall  8.224670\n1                   ADHD     Adderall XR  8.266187\n2                   ADHD  Adzenys XR-ODT  5.952381\n3                   ADHD      Amantadine  8.666667\n4                   ADHD     Amphetamine  6.518519\n..                   ...             ...       ...\n913  Tourette's Syndrome         Topamax  8.000000\n914  Tourette's Syndrome      Topiramate  8.000000\n915  Tourette's Syndrome     Ziprasidone  9.000000\n916  Tourette's Syndrome         Zyprexa  9.000000\n917        mance Anxiety     Propranolol  9.671815\n\n[918 rows x 3 columns]",
      "text/html": "<div>\n<style scoped>\n    .dataframe tbody tr th:only-of-type {\n        vertical-align: middle;\n    }\n\n    .dataframe tbody tr th {\n        vertical-align: top;\n    }\n\n    .dataframe thead th {\n        text-align: right;\n    }\n</style>\n<table border=\"1\" class=\"dataframe\">\n  <thead>\n    <tr style=\"text-align: right;\">\n      <th></th>\n      <th>condition</th>\n      <th>drugName</th>\n      <th>rating</th>\n    </tr>\n  </thead>\n  <tbody>\n    <tr>\n      <th>0</th>\n      <td>ADHD</td>\n      <td>Adderall</td>\n      <td>8.224670</td>\n    </tr>\n    <tr>\n      <th>1</th>\n      <td>ADHD</td>\n      <td>Adderall XR</td>\n      <td>8.266187</td>\n    </tr>\n    <tr>\n      <th>2</th>\n      <td>ADHD</td>\n      <td>Adzenys XR-ODT</td>\n      <td>5.952381</td>\n    </tr>\n    <tr>\n      <th>3</th>\n      <td>ADHD</td>\n      <td>Amantadine</td>\n      <td>8.666667</td>\n    </tr>\n    <tr>\n      <th>4</th>\n      <td>ADHD</td>\n      <td>Amphetamine</td>\n      <td>6.518519</td>\n    </tr>\n    <tr>\n      <th>...</th>\n      <td>...</td>\n      <td>...</td>\n      <td>...</td>\n    </tr>\n    <tr>\n      <th>913</th>\n      <td>Tourette's Syndrome</td>\n      <td>Topamax</td>\n      <td>8.000000</td>\n    </tr>\n    <tr>\n      <th>914</th>\n      <td>Tourette's Syndrome</td>\n      <td>Topiramate</td>\n      <td>8.000000</td>\n    </tr>\n    <tr>\n      <th>915</th>\n      <td>Tourette's Syndrome</td>\n      <td>Ziprasidone</td>\n      <td>9.000000</td>\n    </tr>\n    <tr>\n      <th>916</th>\n      <td>Tourette's Syndrome</td>\n      <td>Zyprexa</td>\n      <td>9.000000</td>\n    </tr>\n    <tr>\n      <th>917</th>\n      <td>mance Anxiety</td>\n      <td>Propranolol</td>\n      <td>9.671815</td>\n    </tr>\n  </tbody>\n</table>\n<p>918 rows × 3 columns</p>\n</div>"
     },
     "execution_count": 118,
     "metadata": {},
     "output_type": "execute_result"
    }
   ],
   "source": [
    "rating_mean = pd.read_csv(\"rating_mean.csv\")\n",
    "rating_mean"
   ],
   "metadata": {
    "collapsed": false,
    "pycharm": {
     "name": "#%%\n"
    }
   }
  },
  {
   "cell_type": "code",
   "execution_count": 119,
   "outputs": [],
   "source": [
    "rating_count[\"average_rating\"] = rating_mean[\"rating\"]"
   ],
   "metadata": {
    "collapsed": false,
    "pycharm": {
     "name": "#%%\n"
    }
   }
  },
  {
   "cell_type": "code",
   "execution_count": 120,
   "outputs": [
    {
     "data": {
      "text/plain": "Index(['condition', 'drugName', 'rating', 'average_rating'], dtype='object')"
     },
     "execution_count": 120,
     "metadata": {},
     "output_type": "execute_result"
    }
   ],
   "source": [
    "rating_count.keys()"
   ],
   "metadata": {
    "collapsed": false,
    "pycharm": {
     "name": "#%%\n"
    }
   }
  },
  {
   "cell_type": "code",
   "execution_count": 121,
   "outputs": [],
   "source": [
    "rating_count.rename(columns={'rating':'rating_count'},inplace= True)"
   ],
   "metadata": {
    "collapsed": false,
    "pycharm": {
     "name": "#%%\n"
    }
   }
  },
  {
   "cell_type": "code",
   "execution_count": 122,
   "outputs": [],
   "source": [
    "rating_count.to_csv(\"condition_drugName_rating_dataset.csv\")"
   ],
   "metadata": {
    "collapsed": false,
    "pycharm": {
     "name": "#%%\n"
    }
   }
  }
 ],
 "metadata": {
  "kernelspec": {
   "display_name": "Python 3",
   "language": "python",
   "name": "python3"
  },
  "language_info": {
   "codemirror_mode": {
    "name": "ipython",
    "version": 2
   },
   "file_extension": ".py",
   "mimetype": "text/x-python",
   "name": "python",
   "nbconvert_exporter": "python",
   "pygments_lexer": "ipython2",
   "version": "2.7.6"
  }
 },
 "nbformat": 4,
 "nbformat_minor": 0
}