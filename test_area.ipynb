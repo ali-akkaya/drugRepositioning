{
 "cells": [
  {
   "cell_type": "code",
   "execution_count": 8,
   "metadata": {
    "collapsed": true,
    "pycharm": {
     "name": "#%%\n"
    }
   },
   "outputs": [
    {
     "name": "stdout",
     "output_type": "stream",
     "text": [
      "\"I've tried a few antidepressants over the years (citalopram, fluoxetine, amitriptyline), but none of those helped with my depression, insomnia & anxiety. My doctor suggested and changed me onto 45mg mirtazapine and this medicine has saved my life. Thankfully I have had no side effects especially the most common - weight gain, I've actually lost alot of weight. I still have suicidal thoughts but mirtazapine has saved me.\"\n"
     ]
    }
   ],
   "source": [
    "import html\n",
    "\n",
    "import  pandas as pd\n",
    "\n",
    "data = pd.read_csv(\"test1.csv\")\n",
    "\n",
    "data.loc[0:0,[\"review\"]].iloc[0][\"review\"]\n",
    "\n",
    "print(html.unescape(data.loc[0:0,[\"review\"]].iloc[0][\"review\"]))"
   ]
  },
  {
   "cell_type": "code",
   "execution_count": 17,
   "outputs": [],
   "source": [
    "def html_decoder(row):\n",
    "    return html.unescape(row[\"review\"])"
   ],
   "metadata": {
    "collapsed": false,
    "pycharm": {
     "name": "#%%\n"
    }
   }
  },
  {
   "cell_type": "code",
   "execution_count": 18,
   "outputs": [],
   "source": [
    "data['plain_text'] = data.apply (lambda row: html_decoder(row), axis=1,)\n",
    "data.to_csv(\"html_fixed.csv\", index=False)\n",
    "\n"
   ],
   "metadata": {
    "collapsed": false,
    "pycharm": {
     "name": "#%%\n"
    }
   }
  },
  {
   "cell_type": "code",
   "execution_count": 19,
   "outputs": [
    {
     "name": "stdout",
     "output_type": "stream",
     "text": [
      "\"I&#039;ve tried a few antidepressants over the years (citalopram, fluoxetine, amitriptyline), but none of those helped with my depression, insomnia &amp; anxiety. My doctor suggested and changed me onto 45mg mirtazapine and this medicine has saved my life. Thankfully I have had no side effects especially the most common - weight gain, I&#039;ve actually lost alot of weight. I still have suicidal thoughts but mirtazapine has saved me.\"\n",
      "\"I've tried a few antidepressants over the years (citalopram, fluoxetine, amitriptyline), but none of those helped with my depression, insomnia & anxiety. My doctor suggested and changed me onto 45mg mirtazapine and this medicine has saved my life. Thankfully I have had no side effects especially the most common - weight gain, I've actually lost alot of weight. I still have suicidal thoughts but mirtazapine has saved me.\"\n"
     ]
    }
   ],
   "source": [
    "data = pd.read_csv(\"html_fixed.csv\")\n",
    "print(data.loc[0:0,[\"review\"]].iloc[0][\"review\"])\n",
    "print(data.loc[0:0,[\"plain_text\"]].iloc[0][\"plain_text\"])\n"
   ],
   "metadata": {
    "collapsed": false,
    "pycharm": {
     "name": "#%%\n"
    }
   }
  },
  {
   "cell_type": "code",
   "execution_count": 7,
   "outputs": [
    {
     "name": "stdout",
     "output_type": "stream",
     "text": [
      "sdadasd sdkadksad.ds\n"
     ]
    }
   ],
   "source": [
    "a = '\"sdadasd sdkadksad.ds\"'\n",
    "print(a.strip('\"'))"
   ],
   "metadata": {
    "collapsed": false,
    "pycharm": {
     "name": "#%%\n"
    }
   }
  },
  {
   "cell_type": "code",
   "execution_count": 2,
   "outputs": [],
   "source": [
    "import pandas as pd\n",
    "\n",
    "only_test = pd.read_csv(\"drugsCom_raw/drugsComTest_raw.tsv\", sep='\\t')\n",
    "test_without_nan_span = pd.read_csv(\"drugsComTest_without_nan_and_span.csv\")\n",
    "final = pd.read_csv(\"drugsComAll_final.csv\")"
   ],
   "metadata": {
    "collapsed": false,
    "pycharm": {
     "name": "#%%\n"
    }
   }
  },
  {
   "cell_type": "code",
   "execution_count": 6,
   "outputs": [
    {
     "data": {
      "text/plain": "['Depression',\n \"Crohn's Disease, Maintenance\",\n 'Urinary Tract Infection',\n 'Weight Loss',\n 'Birth Control',\n 'Keratosis',\n 'Migraine Prevention',\n 'Opiate Withdrawal',\n 'Hot Flashes',\n 'Vaginal Yeast Infection',\n 'Schizoaffective Disorde',\n 'Insomnia',\n 'Narcolepsy',\n 'Smoking Cessation',\n 'Acne',\n 'Bipolar Disorde',\n 'Irritable Bowel Syndrome',\n 'Keratoconjunctivitis Sicca',\n 'Hyperhidrosis',\n 'Panic Disorde',\n 'Onychomycosis, Fingernail',\n 'Rosacea',\n 'Bowel Preparation',\n 'Constipation, Drug Induced',\n nan,\n 'Diabetes, Type 2',\n 'Pain',\n 'Lipodystrophy',\n 'Alcohol Dependence',\n 'Emergency Contraception',\n 'Major Depressive Disorde',\n 'Anxiety',\n 'Bladder Infection',\n 'Benign Prostatic Hyperplasia',\n 'Rheumatoid Arthritis',\n 'Endometriosis',\n 'ADHD',\n 'Restless Legs Syndrome',\n 'Conjunctivitis, Allergic',\n \"Raynaud's Syndrome\",\n 'Schizophrenia',\n 'Diabetes, Type 1',\n 'Kidney Infections',\n 'Generalized Anxiety Disorde',\n 'Obesity',\n 'Nausea/Vomiting',\n 'Osteoarthritis',\n 'Motion Sickness',\n 'High Blood Pressure',\n 'Psoriatic Arthritis',\n 'Interstitial Cystitis',\n 'Postmenopausal Symptoms',\n 'Bacterial Skin Infection',\n 'ibromyalgia',\n 'Cough and Nasal Congestion',\n 'Diabetic Peripheral Neuropathy',\n '12</span> users found this comment helpful.',\n 'Renal Cell Carcinoma',\n 'Constipation',\n 'Social Anxiety Disorde',\n 'Nausea/Vomiting of Pregnancy',\n 'Binge Eating Disorde',\n 'Hepatitis C',\n 'Back Pain',\n 'Cold Sores',\n 'Opiate Dependence',\n 'Heart Attack',\n 'Asthma',\n 'Cough',\n 'Erectile Dysfunction',\n 'Autoimmune Hepatitis',\n 'Constipation, Chronic',\n 'Seizures',\n 'Bacterial Vaginitis',\n 'Not Listed / Othe',\n 'Headache',\n 'Anesthesia',\n 'mance Anxiety',\n 'Menstrual Disorders',\n 'Pneumonia',\n 'Constipation, Acute',\n '0</span> users found this comment helpful.',\n 'Chronic Pain',\n 'Benign Essential Trem',\n 'Human Papilloma Virus',\n 'Hypersomnia',\n 'Diabetic Kidney Disease',\n \"Meniere's Disease\",\n 'Nasal Congestion',\n 'Obsessive Compulsive Disorde',\n 'Chronic Myelogenous Leukemia',\n 'emale Infertility',\n 'Oral Thrush',\n 'Actinic Keratosis',\n 'HIV Infection',\n 'Vitamin/Mineral Supplementation during Pregnancy/Lactation',\n 'Bacterial Infection',\n 'Vitamin D Deficiency',\n 'Sciatica',\n 'Otitis Media',\n 'Skin or Soft Tissue Infection',\n \"Crohn's Disease\",\n 'GERD',\n 'Labor Induction',\n 'Myasthenia Gravis',\n 'Psoriasis',\n 'Soft Tissue Sarcoma',\n 'Osteoporosis',\n 'Ovarian Cysts',\n 'Giardiasis',\n 'Diverticulitis',\n 'Influenza',\n 'Abnormal Uterine Bleeding',\n 'Anxiety and Stress',\n 'Sinusitis',\n 'Gastroenteritis',\n 'Period Pain',\n 'Inflammatory Conditions',\n 'Muscle Pain',\n 'Allergic Rhinitis',\n '6</span> users found this comment helpful.',\n 'Neutropenia Associated with Chemotherapy',\n 'Herpes Simplex, Suppression',\n 'Multiple Sclerosis',\n '24</span> users found this comment helpful.',\n 'Vertig',\n 'Muscle Spasm',\n 'Bronchitis',\n 'Autism',\n 'Alpha-1 Proteinase Inhibitor Deficiency',\n 'High Cholesterol',\n 'Urticaria',\n 'Systemic Lupus Erythematosus',\n 'Diarrhea',\n \"Crohn's Disease, Acute\",\n 'Migraine',\n 'Pulmonary Hypertension',\n 'Breast Cance',\n 'Seizure Prevention',\n 'Borderline Personality Disorde',\n 'Rat-bite Feve',\n 'COPD, Maintenance',\n 'Alopecia',\n 'Dysuria',\n 'Warts',\n 'Leukemia',\n 'Underactive Thyroid',\n \"Still's Disease\",\n \"Hashimoto's disease\",\n 'Mitral Valve Prolapse',\n 'Epilepsy',\n 'Hypogonadism, Male',\n '9</span> users found this comment helpful.',\n 'Overactive Bladde',\n 'Peripheral Neuropathy',\n 'Glaucoma, Open Angle',\n 'Onychomycosis, Toenail',\n 'Cluster Headaches',\n 'Ulcerative Colitis',\n 'Asthma, Maintenance',\n 'Deep Vein Thrombosis',\n 'min / sitagliptin)',\n 'Post Traumatic Stress Disorde',\n 'Bursitis',\n 'Prostatitis',\n 'Postoperative Pain',\n 'Human Papillomavirus Prophylaxis',\n 'Chlamydia Infection',\n 'Ulcerative Colitis, Active',\n 'me',\n 'Computed Tomography',\n 'Herpes Zoster, Prophylaxis',\n 'Supraventricular Tachycardia',\n 'Indigestion',\n 'Gout, Acute',\n 'Nocturnal Leg Cramps',\n '10</span> users found this comment helpful.',\n 'Prostate Cance',\n 'Anal Fissure and Fistula',\n \"Parkinson's Disease\",\n 'Premenstrual Dysphoric Disorde',\n 'atigue',\n '2</span> users found this comment helpful.',\n 'Urinary Incontinence',\n 'COPD',\n 'Duodenal Ulce',\n \"Alzheimer's Disease\",\n 'Atrial Fibrillation',\n 'Basal Cell Carcinoma',\n \"Barrett's Esophagus\",\n 'Androgenetic Alopecia',\n 'Hypothyroidism, After Thyroid Removal',\n 'Ankylosing Spondylitis',\n 'Postpartum Depression',\n 'Opioid Overdose',\n 'Prevention of Bladder infection',\n 'Infection Prophylaxis',\n 'Perimenopausal Symptoms',\n 'Swine Flu',\n 'Dry Eye Disease',\n 'Ulcerative Proctitis',\n 'Organ Transplant, Rejection Prophylaxis',\n 'Reflex Sympathetic Dystrophy Syndrome',\n 'Alcohol Withdrawal',\n 'Benzodiazepine Withdrawal',\n 'Heart Failure',\n 'High Cholesterol, Familial Heterozygous',\n 'Dental Abscess',\n 'Pe',\n 'Herpes Simplex',\n 'Melanoma, Metastatic',\n \"Non-Hodgkin's Lymphoma\",\n '4</span> users found this comment helpful.',\n 'Nightmares',\n 'Non-Small Cell Lung Cance',\n 'Postherpetic Neuralgia',\n 'Cold Symptoms',\n '8</span> users found this comment helpful.',\n 'Atopic Dermatitis',\n 'Rhinitis',\n 'Eczema',\n 'Herbal Supplementation',\n 'Sedation',\n 'Pharyngitis',\n 'Burns, External',\n '1</span> users found this comment helpful.',\n 'Menorrhagia',\n 'Hypertriglyceridemia',\n 'Tonsillitis/Pharyngitis',\n 'Opioid-Induced Constipation',\n 'Plaque Psoriasis',\n 'Urinary Tract Stones',\n 'Left Ventricular Dysfunction',\n 'Anemia, Chemotherapy Induced',\n \"Traveler's Diarrhea\",\n 'Extrapyramidal Reaction',\n 'Dermatitis',\n 'Upper Respiratory Tract Infection',\n 'Angina',\n 'Hypodermoclysis',\n 'Pneumococcal Disease Prophylaxis',\n 'Hirsutism',\n 'Sexual Dysfunction, SSRI Induced',\n 'Hemorrhoids',\n 'Prevention of Thromboembolism in Atrial Fibrillation',\n 'Helicobacter Pylori Infection',\n 'Occipital Neuralgia',\n 'Stomach Ulce',\n 'Uveitis, Posteri',\n \"Sjogren's Syndrome\",\n 'Neuropathic Pain',\n 'Neuralgia',\n 'Light Sedation',\n 'Shift Work Sleep Disorde',\n 'Vitamin/Mineral Supplementation and Deficiency',\n 'min / saxagliptin)',\n 'Paranoid Disorde',\n 'Diarrhea, Chronic',\n 'Breast Cancer, Metastatic',\n 'Nasal Polyps',\n 'Chronic Fatigue Syndrome',\n 'Allergic Reactions',\n 'Asthma, acute',\n 'Polycystic Ovary Syndrome',\n 'Dietary Supplementation',\n 'Dermatologic Lesion',\n 'Edema',\n 'Strabismus',\n 'Hyperlipoproteinemia Type IIa, Elevated LDL',\n 'Gas',\n 'Tinea Pedis',\n 'Secondary Hyperparathyroidism',\n 'Conjunctivitis',\n 'Prevention of Osteoporosis',\n 'B12 Nutritional Deficiency',\n 'Opiate Adjunct',\n 'Platelet Aggregation Inhibition',\n \"Wegener's Granulomatosis\",\n \"Tourette's Syndrome\",\n 'Atrophic Vaginitis',\n 'Dermatological Disorders',\n 'Glaucoma',\n 'Precocious Puberty',\n 'Diaper Rash',\n 'Juvenile Rheumatoid Arthritis',\n 'Vulvodynia',\n 'cal Segmental Glomerulosclerosis',\n 'Hypotension',\n 'Glioblastoma Multi',\n 'Condylomata Acuminata',\n 'Organ Transplant, Rejection Reversal',\n 'Otitis Externa',\n 'Trigeminal Neuralgia',\n 'Strep Throat',\n 'Sinus Symptoms',\n 'Breast Cancer, Adjuvant',\n 'Premature Ejaculation',\n 'Obstructive Sleep Apnea/Hypopnea Syndrome',\n '5</span> users found this comment helpful.',\n 'Acute Coronary Syndrome',\n 'Hyperprolactinemia',\n 'Diabetes Insipidus',\n 'Deep Vein Thrombosis Prophylaxis after Hip Replacement Surgery',\n 'Allergies',\n 'Postoperative Ocular Inflammation',\n 'Auditory Processing Disorde',\n 'Anemia, Sickle Cell',\n 'Chronic Idiopathic Constipation',\n 'Eye Redness/Itching',\n 'Anorexia',\n '25</span> users found this comment helpful.',\n 'Arrhythmia',\n 'Gastroparesis',\n \"Dercum's Disease\",\n 'Percutaneous Coronary Intervention',\n 'Tinnitus',\n 'Cystic Fibrosis',\n 'Polymyositis/Dermatomyositis',\n 'Thromboembolic Stroke Prophylaxis',\n 'Dry Skin',\n 'Methicillin-Resistant Staphylococcus Aureus Infection',\n 'Thrombocythemia',\n 'Ear Wax Impaction',\n 'Cyclic Vomiting Syndrome',\n 'Acute Lymphoblastic Leukemia',\n 'Macular Degeneration',\n 'Gouty Arthritis',\n 'Psychosis',\n 'Mononucleosis',\n 'Gastric Ulcer Maintenance Treatment',\n 'Head Lice',\n 'Hereditary Angioedema',\n 'Breast Cancer, Prevention',\n 'Cervical Dystonia',\n 'Mucositis',\n 'moterol)',\n 'Melasma',\n 'Corneal Refractive Surgery',\n 'CMV Prophylaxis',\n 'Gastrointestinal Hemorrhage',\n 'Agitated State',\n 'Insulin Resistance Syndrome',\n 'Bacterial Endocarditis Prevention',\n 'Spondyloarthritis',\n 'acial Wrinkles',\n 'Reversal of Opioid Sedation',\n '13</span> users found this comment helpful.',\n 'Lymphocytic Colitis',\n 'Bulimia',\n 'Pertussis',\n 'Pulmonary Embolism',\n 'Gout',\n 'Pinworm Infection (Enterobius vermicularis)',\n 'Lennox-Gastaut Syndrome',\n 'Intraocular Hypertension',\n 'Conjunctivitis, Bacterial',\n 'min)',\n 'Uveitis',\n '3</span> users found this comment helpful.',\n 'Hidradenitis Suppurativa',\n 'Hyperphosphatemia of Renal Failure',\n 'Gonococcal Infection, Uncomplicated',\n 'Macular Edema',\n 'Pancreatic Exocrine Dysfunction',\n 'Uterine Fibroids',\n 'Xerostomia',\n 'Premenstrual Syndrome',\n 'Premature Lab',\n 'Angina Pectoris Prophylaxis',\n 'Intermittent Claudication',\n 'Hyperekplexia',\n 'Juvenile Idiopathic Arthritis',\n 'Dumping Syndrome',\n 'Iron Deficiency Anemia',\n 'Mania',\n 'Chronic Lymphocytic Leukemia',\n 'Temporomandibular Joint Disorde',\n 'Myelodysplastic Syndrome',\n 'Pelvic Inflammatory Disease',\n 'Primary Immunodeficiency Syndrome',\n 'Nausea/Vomiting, Postoperative',\n 'Gender Dysphoria',\n 'Ischemic Stroke, Prophylaxis',\n 'Bronchospasm Prophylaxis',\n 'Mild Cognitive Impairment',\n 'Skin and Structure Infection',\n '15</span> users found this comment helpful.',\n 'Vitamin B12 Deficiency',\n 'Periodic Limb Movement Disorde',\n 'Glioblastoma Multiforme',\n 'Hypoestrogenism',\n 'Keratitis',\n 'Immunosuppression',\n 'Lymphoma',\n '7</span> users found this comment helpful.',\n 'Herpes Simplex, Mucocutaneous/Immunocompetent Host',\n 'Seasonal Allergic Conjunctivitis',\n 'Expectoration',\n 'Atrophic Urethritis',\n 'Tinea Cruris',\n '33</span> users found this comment helpful.',\n 'Burning Mouth Syndrome',\n 'Amenorrhea',\n 'Gingivitis',\n 'Skin Cance',\n 'Lactose Intolerance',\n 'Tendonitis',\n 'Ulcerative Colitis, Maintenance',\n 'Diagnosis and Investigation',\n 'Schnitzler Syndrome',\n 'Deep Vein Thrombosis, Prophylaxis',\n 'Ovulation Induction',\n 'Malaria',\n 'Labor Pain',\n 'lic Acid Deficiency',\n 'moterol / mometasone)',\n 'Light Anesthesia',\n '17</span> users found this comment helpful.',\n 'Hepatic Encephalopathy',\n 'Chronic Pancreatitis',\n 'Abortion',\n 'Hypertensive Emergency',\n 'Dietary Fiber Supplementation',\n 'Biliary Cirrhosis',\n 'Eye Redness',\n 'Malaria Prevention',\n '11</span> users found this comment helpful.',\n 'TSH Suppression',\n 'Undifferentiated Connective Tissue Disease',\n '31</span> users found this comment helpful.',\n 'Cerebral Spasticity',\n 'Melanoma',\n 'Tinea Versicol',\n 'Trichomoniasis',\n 'Nausea/Vomiting, Chemotherapy Induced',\n 'Hiccups',\n 'Peptic Ulce',\n 'Clostridial Infection',\n 'Pruritus',\n 'Photoaging of the Skin',\n 'Herpes Zoste',\n 'Breakthrough Pain',\n 'Ventricular Tachycardia',\n 'Primary Ovarian Failure',\n '39</span> users found this comment helpful.',\n '16</span> users found this comment helpful.',\n 'Liver Magnetic Resonance Imaging',\n 'Bacteremia',\n 'Inflammatory Bowel Disease',\n 'Pupillary Dilation',\n 'Post-Cholecystectomy Diarrhea',\n 'Esophageal Variceal Hemorrhage Prophylaxis',\n 'COPD, Acute',\n \"von Willebrand's Disease\",\n 'Lactation Augmentation',\n 'Bone infection',\n 'Oophorectomy',\n 'Progesterone Insufficiency',\n 'ge (amlodipine / valsartan)',\n 'Pseudobulbar Affect',\n 'Atrial Flutte',\n 'Sarcoidosis',\n '27</span> users found this comment helpful.',\n 'zen Shoulde',\n 'Lyme Disease, Neurologic',\n '18</span> users found this comment helpful.',\n 'AIDS Related Wasting',\n 'Asperger Syndrome',\n 'Jet Lag',\n 'Night Terrors',\n 'Hypokalemic Periodic Paralysis',\n 'Thyroid Cance',\n 'Lyme Disease',\n 'Dysautonomia',\n 'Spondylolisthesis',\n 'llicle Stimulation',\n 'Hypocalcemia',\n 'Zollinger-Ellison Syndrome',\n 'Coccidioidomycosis',\n 'Myotonia Congenita',\n 'Anemia Associated with Chronic Renal Failure',\n 'Polycythemia Vera',\n 'Radionuclide Myocardial Perfusion Study',\n 'Idiopathic Thrombocytopenic Purpura',\n 'Persistent Depressive Disorde',\n 'Mycobacterium avium-intracellulare, Treatment',\n '20</span> users found this comment helpful.',\n 'Oral and Dental Conditions',\n 'Seborrheic Dermatitis',\n 'Gastrointestinal Decontamination',\n 'ICU Agitation',\n 'High Cholesterol, Familial Homozygous',\n 'Erosive Esophagitis',\n 'Pseudotumor Cerebri',\n 'Agitation',\n 'Aplastic Anemia',\n 'Coronary Artery Disease',\n 'm Pain Disorde',\n 'Dissociative Identity Disorde',\n 'Bullous Pemphigoid',\n 'Surgical Prophylaxis',\n 'Body Dysmorphic Disorde',\n 'Colorectal Cance',\n '22</span> users found this comment helpful.',\n 'Lichen Planus',\n 'Ventricular Fibrillation',\n 'Impetig',\n 'Tinea Corporis',\n 'Prevention of Cardiovascular Disease',\n 'Varicella-Zoste',\n 'Allergic Urticaria',\n 'eve',\n 'Noninfectious Colitis',\n 'Hemorrhoids (pramoxine / zinc oxide)',\n 'Enterocolitis',\n 'Chronic Spasticity',\n 'Primary Nocturnal Enuresis',\n 'Premature Ventricular Depolarizations',\n 'Skin Rash',\n 'Pancreatic Cance',\n 'Skin Disinfection, Preoperative',\n 'Transient Ischemic Attack',\n 'Mixed Connective Tissue Disease',\n 'Cutaneous T-cell Lymphoma',\n 'Nephrotic Syndrome',\n 'Aphthous Ulce',\n 'Pulmonary Embolism, First Event',\n 'Pemphigus',\n 'Gastritis/Duodenitis',\n 'Salmonella Gastroenteritis',\n 'Somat',\n '23</span> users found this comment helpful.',\n 'Mycoplasma Pneumonia',\n 'Women (oxybutynin)',\n 'Ophthalmic Surgery',\n 'Ventricular Arrhythmia',\n '32</span> users found this comment helpful.',\n 'Anemia',\n 'Peritonitis',\n 'Pityriasis rubra pilaris',\n 'Hepatocellular Carcinoma',\n 'Iritis',\n 'Gastrointestinal Stromal Tum',\n 'Rhinorrhea',\n 'Adrenocortical Insufficiency',\n 'Sore Throat',\n 'Diarrhea, Acute',\n 'Hypomagnesemia',\n 'Endometrial Hyperplasia',\n 'Diabetic Macular Edema',\n 'Hypoparathyroidism',\n 'Costochondritis',\n 'Autoimmune Hemolytic Anemia',\n '21</span> users found this comment helpful.',\n 'Osteolytic Bone Lesions of Multiple Myeloma',\n 'Cutaneous Candidiasis',\n 'Hypoactive Sexual Desire Disorde',\n 'Mountain Sickness / Altitude Sickness',\n 'Seasonal Affective Disorde',\n '34</span> users found this comment helpful.',\n 'Postural Orthostatic Tachycardia Syndrome',\n 'Cyclitis',\n 'Pre-Exposure Prophylaxis',\n 'Deep Vein Thrombosis, First Event',\n \"Paget's Disease\",\n 'Dandruff',\n 'Aspergillosis, Aspergilloma',\n \"Addison's Disease\",\n 'Neck Pain',\n 'Nasal Carriage of Staphylococcus aureus',\n 'Tuberculosis, Latent',\n 'Stress Ulcer Prophylaxis',\n 'Subarachnoid Hemorrhage',\n '37</span> users found this comment helpful.',\n 'Dyspareunia',\n 'Antiphospholipid Syndrome',\n 'Osteolytic Bone Metastases of Solid Tumors',\n 'Dystonia',\n 'Neutropenia',\n 'Systemic Sclerosis',\n 'Histoplasmosis',\n 'Nausea (phosphorated carbohydrate solution)',\n 'Schilling Test',\n 'Influenza Prophylaxis',\n 'Lichen Sclerosus',\n 'Trichotillomania',\n 'Prevention of Hypokalemia',\n 'Menopausal Disorders',\n 'Performance Anxiety',\n '55</span> users found this comment helpful.',\n 'Chronic Inflammatory Demyelinating Polyradiculoneuropathy',\n '28</span> users found this comment helpful.',\n 'Peripheral Arterial Disease',\n 'Multiple Myeloma',\n \"Behcet's Disease\",\n 'Hepatitis B',\n 'Intraabdominal Infection',\n 'Local Anesthesia',\n \"Dupuytren's contracture\",\n 'Occupational Exposure',\n 'Anal Itching',\n '83</span> users found this comment helpful.',\n 'Meningococcal Meningitis Prophylaxis',\n 'Hyperlipoproteinemia',\n 'Tympanostomy Tube Placement Surgery',\n 'Upper Limb Spasticity',\n '51</span> users found this comment helpful.',\n 'Gallbladder Disease',\n 'Postoperative Increased Intraocular Pressure',\n 'Cyclothymic Disorde',\n 'Dermatomyositis',\n 'Deep Neck Infection',\n 'Anthrax',\n 'Endometrial Cance',\n 'Pulmonary Edema',\n 'Ischemic Stroke',\n 'Mantle Cell Lymphoma',\n 'Streptococcal Infection',\n 'Myeloproliferative Disorders',\n '70</span> users found this comment helpful.',\n 'Systemic Mastocytosis',\n 'Acetaminophen Overdose',\n 'Pediatric Growth Hormone Deficiency',\n 'Dementia',\n '14</span> users found this comment helpful.',\n 'Chronic Myofascial Pain',\n 'Giant Cell Tumor of Bone',\n 'Syringomyelia',\n 'Oligospermia',\n 'Ehrlichiosis',\n 'mulation) (phenylephrine)',\n 'Lyme Disease, Erythema Chronicum Migrans',\n 'Scabies',\n 'Perioral Dermatitis',\n 'Insomnia, Stimulant-Associated',\n 'Herpes Simplex Dendritic Keratitis',\n 'Acute Promyelocytic Leukemia',\n 'Blepharitis',\n 'Topical Disinfection',\n 'Gonadotropin Inhibition',\n 'Squamous Cell Carcinoma',\n 'Deep Vein Thrombosis, Recurrent Event',\n 'Uterine Bleeding',\n 'ibrocystic Breast Disease',\n 'Ovarian Cance',\n 'Bleeding Disorde',\n 'New Daily Persistent Headache',\n 'Amebiasis',\n 'Eyelash Hypotrichosis',\n '100</span> users found this comment helpful.',\n 'Hyperkalemia',\n 'amilial Cold Autoinflammatory Syndrome',\n 'NSAID-Induced Gastric Ulce',\n 'Pemphigoid',\n 'Adult Human Growth Hormone Deficiency',\n 'Hyperthyroidism',\n 'Renal Tubular Acidosis',\n 'Cance',\n 'Periodontitis',\n 'Wolff-Parkinson-White Syndrome',\n 'Urinary Retention',\n 'Head Injury',\n 'Sunburn',\n 'Hypercalcemia of Malignancy',\n 'Prevention of Dental Caries',\n 'Dermatophytosis',\n 'Hemophilia A',\n 'Eosinophilic Esophagitis',\n 'Primary Hyperaldosteronism',\n 'Breast Cancer, Palliative',\n 'Oppositional Defiant Disorde',\n 'tic (mycophenolic acid)',\n 'Submental Fullness',\n 'Parkinsonism',\n 'Reversal of Nondepolarizing Muscle Relaxants',\n 'Nonoccupational Exposure',\n 'Cerebral Edema',\n 'Yellow Fever Prophylaxis',\n 'acial Lipoatrophy',\n 'Cataplexy',\n 'Cachexia',\n 'Stomach Cance',\n 'Joint Infection',\n 'Status Epilepticus',\n '41</span> users found this comment helpful.',\n 'Pudendal Neuralgia',\n 'Acute Otitis Externa',\n 'Small Bowel or Pancreatic Fistula',\n 'Steroid Responsive Inflammatory Conditions',\n '135</span> users found this comment helpful.',\n 'Hyperphosphatemia',\n 'Myelofibrosis',\n 'Hemophilia B',\n '38</span> users found this comment helpful.',\n 'Pain/Feve',\n 'Thyrotoxicosis',\n 'Pertussis Prophylaxis',\n 'mist (',\n 'Head and Neck Cance',\n '35</span> users found this comment helpful.',\n '105</span> users found this comment helpful.',\n 'Herpes Simplex, Mucocutaneous/Immunocompromised Host',\n 'actor IX Deficiency',\n 'Ichthyosis',\n '29</span> users found this comment helpful.',\n 'Anaplastic Astrocytoma',\n 'Acute Nonlymphocytic Leukemia',\n 'Epididymitis, Sexually Transmitted',\n 'Strongyloidiasis']"
     },
     "execution_count": 6,
     "metadata": {},
     "output_type": "execute_result"
    }
   ],
   "source": [
    "only_test[\"condition\"].unique().tolist()"
   ],
   "metadata": {
    "collapsed": false,
    "pycharm": {
     "name": "#%%\n"
    }
   }
  }
 ],
 "metadata": {
  "kernelspec": {
   "display_name": "Python 3",
   "language": "python",
   "name": "python3"
  },
  "language_info": {
   "codemirror_mode": {
    "name": "ipython",
    "version": 2
   },
   "file_extension": ".py",
   "mimetype": "text/x-python",
   "name": "python",
   "nbconvert_exporter": "python",
   "pygments_lexer": "ipython2",
   "version": "2.7.6"
  }
 },
 "nbformat": 4,
 "nbformat_minor": 0
}